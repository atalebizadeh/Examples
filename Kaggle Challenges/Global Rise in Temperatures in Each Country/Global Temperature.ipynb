{
 "cells": [
  {
   "cell_type": "code",
   "execution_count": 1,
   "metadata": {},
   "outputs": [],
   "source": [
    "import pandas as pd\n",
    "import numpy as np\n",
    "import matplotlib.pyplot as plt\n",
    "import seaborn as sns\n",
    "\n",
    "sns.set()\n",
    "%matplotlib inline"
   ]
  },
  {
   "cell_type": "code",
   "execution_count": 2,
   "metadata": {},
   "outputs": [
    {
     "data": {
      "text/html": [
       "<div>\n",
       "<style scoped>\n",
       "    .dataframe tbody tr th:only-of-type {\n",
       "        vertical-align: middle;\n",
       "    }\n",
       "\n",
       "    .dataframe tbody tr th {\n",
       "        vertical-align: top;\n",
       "    }\n",
       "\n",
       "    .dataframe thead th {\n",
       "        text-align: right;\n",
       "    }\n",
       "</style>\n",
       "<table border=\"1\" class=\"dataframe\">\n",
       "  <thead>\n",
       "    <tr style=\"text-align: right;\">\n",
       "      <th></th>\n",
       "      <th>AverageTemperature</th>\n",
       "      <th>Country</th>\n",
       "    </tr>\n",
       "    <tr>\n",
       "      <th>dt</th>\n",
       "      <th></th>\n",
       "      <th></th>\n",
       "    </tr>\n",
       "  </thead>\n",
       "  <tbody>\n",
       "    <tr>\n",
       "      <th>1743-11-01</th>\n",
       "      <td>4.384</td>\n",
       "      <td>Åland</td>\n",
       "    </tr>\n",
       "    <tr>\n",
       "      <th>1743-12-01</th>\n",
       "      <td>NaN</td>\n",
       "      <td>Åland</td>\n",
       "    </tr>\n",
       "    <tr>\n",
       "      <th>1744-01-01</th>\n",
       "      <td>NaN</td>\n",
       "      <td>Åland</td>\n",
       "    </tr>\n",
       "    <tr>\n",
       "      <th>1744-02-01</th>\n",
       "      <td>NaN</td>\n",
       "      <td>Åland</td>\n",
       "    </tr>\n",
       "    <tr>\n",
       "      <th>1744-03-01</th>\n",
       "      <td>NaN</td>\n",
       "      <td>Åland</td>\n",
       "    </tr>\n",
       "  </tbody>\n",
       "</table>\n",
       "</div>"
      ],
      "text/plain": [
       "            AverageTemperature Country\n",
       "dt                                    \n",
       "1743-11-01               4.384   Åland\n",
       "1743-12-01                 NaN   Åland\n",
       "1744-01-01                 NaN   Åland\n",
       "1744-02-01                 NaN   Åland\n",
       "1744-03-01                 NaN   Åland"
      ]
     },
     "execution_count": 2,
     "metadata": {},
     "output_type": "execute_result"
    }
   ],
   "source": [
    "temp = pd.read_csv('data/GlobalLandTemperatures_GlobalLandTemperaturesByCountry.csv', parse_dates=['dt'], index_col='dt', usecols=['dt','AverageTemperature', 'Country'])\n",
    "temp.head()"
   ]
  },
  {
   "cell_type": "code",
   "execution_count": 3,
   "metadata": {},
   "outputs": [
    {
     "name": "stdout",
     "output_type": "stream",
     "text": [
      "<class 'pandas.core.frame.DataFrame'>\n",
      "DatetimeIndex: 577462 entries, 1743-11-01 to 2013-09-01\n",
      "Data columns (total 2 columns):\n",
      " #   Column              Non-Null Count   Dtype  \n",
      "---  ------              --------------   -----  \n",
      " 0   AverageTemperature  544811 non-null  float64\n",
      " 1   Country             577462 non-null  object \n",
      "dtypes: float64(1), object(1)\n",
      "memory usage: 13.2+ MB\n"
     ]
    }
   ],
   "source": [
    "temp.info()"
   ]
  },
  {
   "cell_type": "code",
   "execution_count": 4,
   "metadata": {
    "scrolled": true
   },
   "outputs": [
    {
     "data": {
      "text/plain": [
       "AverageTemperature    32651\n",
       "Country                   0\n",
       "dtype: int64"
      ]
     },
     "execution_count": 4,
     "metadata": {},
     "output_type": "execute_result"
    }
   ],
   "source": [
    "temp.isna().sum()"
   ]
  },
  {
   "cell_type": "code",
   "execution_count": 5,
   "metadata": {},
   "outputs": [],
   "source": [
    "temp.dropna(inplace=True)"
   ]
  },
  {
   "cell_type": "code",
   "execution_count": 6,
   "metadata": {},
   "outputs": [
    {
     "data": {
      "text/html": [
       "<div>\n",
       "<style scoped>\n",
       "    .dataframe tbody tr th:only-of-type {\n",
       "        vertical-align: middle;\n",
       "    }\n",
       "\n",
       "    .dataframe tbody tr th {\n",
       "        vertical-align: top;\n",
       "    }\n",
       "\n",
       "    .dataframe thead th {\n",
       "        text-align: right;\n",
       "    }\n",
       "</style>\n",
       "<table border=\"1\" class=\"dataframe\">\n",
       "  <thead>\n",
       "    <tr style=\"text-align: right;\">\n",
       "      <th></th>\n",
       "      <th>AverageTemperature</th>\n",
       "    </tr>\n",
       "    <tr>\n",
       "      <th>Country</th>\n",
       "      <th></th>\n",
       "    </tr>\n",
       "  </thead>\n",
       "  <tbody>\n",
       "    <tr>\n",
       "      <th>Afghanistan</th>\n",
       "      <td>14.045007</td>\n",
       "    </tr>\n",
       "    <tr>\n",
       "      <th>Africa</th>\n",
       "      <td>24.074203</td>\n",
       "    </tr>\n",
       "    <tr>\n",
       "      <th>Albania</th>\n",
       "      <td>12.610646</td>\n",
       "    </tr>\n",
       "    <tr>\n",
       "      <th>Algeria</th>\n",
       "      <td>22.985112</td>\n",
       "    </tr>\n",
       "    <tr>\n",
       "      <th>American Samoa</th>\n",
       "      <td>26.611965</td>\n",
       "    </tr>\n",
       "    <tr>\n",
       "      <th>...</th>\n",
       "      <td>...</td>\n",
       "    </tr>\n",
       "    <tr>\n",
       "      <th>Western Sahara</th>\n",
       "      <td>22.319818</td>\n",
       "    </tr>\n",
       "    <tr>\n",
       "      <th>Yemen</th>\n",
       "      <td>26.253597</td>\n",
       "    </tr>\n",
       "    <tr>\n",
       "      <th>Zambia</th>\n",
       "      <td>21.282956</td>\n",
       "    </tr>\n",
       "    <tr>\n",
       "      <th>Zimbabwe</th>\n",
       "      <td>21.117547</td>\n",
       "    </tr>\n",
       "    <tr>\n",
       "      <th>Åland</th>\n",
       "      <td>5.291383</td>\n",
       "    </tr>\n",
       "  </tbody>\n",
       "</table>\n",
       "<p>242 rows × 1 columns</p>\n",
       "</div>"
      ],
      "text/plain": [
       "                AverageTemperature\n",
       "Country                           \n",
       "Afghanistan              14.045007\n",
       "Africa                   24.074203\n",
       "Albania                  12.610646\n",
       "Algeria                  22.985112\n",
       "American Samoa           26.611965\n",
       "...                            ...\n",
       "Western Sahara           22.319818\n",
       "Yemen                    26.253597\n",
       "Zambia                   21.282956\n",
       "Zimbabwe                 21.117547\n",
       "Åland                     5.291383\n",
       "\n",
       "[242 rows x 1 columns]"
      ]
     },
     "execution_count": 6,
     "metadata": {},
     "output_type": "execute_result"
    }
   ],
   "source": [
    "temp.groupby('Country').mean()"
   ]
  },
  {
   "cell_type": "code",
   "execution_count": 7,
   "metadata": {},
   "outputs": [
    {
     "data": {
      "text/plain": [
       "<matplotlib.axes._subplots.AxesSubplot at 0x1ffc15c1fc8>"
      ]
     },
     "execution_count": 7,
     "metadata": {},
     "output_type": "execute_result"
    },
    {
     "data": {
      "image/png": "[encoded data removed]",
      "text/plain": [
       "<Figure size 432x288 with 1 Axes>"
      ]
     },
     "metadata": {
      "needs_background": "light"
     },
     "output_type": "display_data"
    }
   ],
   "source": [
    "sns.lineplot(x=temp.index, y='AverageTemperature', data=temp)"
   ]
  },
  {
   "cell_type": "code",
   "execution_count": 8,
   "metadata": {},
   "outputs": [
    {
     "data": {
      "text/html": [
       "<div>\n",
       "<style scoped>\n",
       "    .dataframe tbody tr th:only-of-type {\n",
       "        vertical-align: middle;\n",
       "    }\n",
       "\n",
       "    .dataframe tbody tr th {\n",
       "        vertical-align: top;\n",
       "    }\n",
       "\n",
       "    .dataframe thead th {\n",
       "        text-align: right;\n",
       "    }\n",
       "</style>\n",
       "<table border=\"1\" class=\"dataframe\">\n",
       "  <thead>\n",
       "    <tr style=\"text-align: right;\">\n",
       "      <th></th>\n",
       "      <th>AverageTemperature</th>\n",
       "    </tr>\n",
       "  </thead>\n",
       "  <tbody>\n",
       "    <tr>\n",
       "      <th>count</th>\n",
       "      <td>544811.000000</td>\n",
       "    </tr>\n",
       "    <tr>\n",
       "      <th>mean</th>\n",
       "      <td>17.193354</td>\n",
       "    </tr>\n",
       "    <tr>\n",
       "      <th>std</th>\n",
       "      <td>10.953966</td>\n",
       "    </tr>\n",
       "    <tr>\n",
       "      <th>min</th>\n",
       "      <td>-37.658000</td>\n",
       "    </tr>\n",
       "    <tr>\n",
       "      <th>25%</th>\n",
       "      <td>10.025000</td>\n",
       "    </tr>\n",
       "    <tr>\n",
       "      <th>50%</th>\n",
       "      <td>20.901000</td>\n",
       "    </tr>\n",
       "    <tr>\n",
       "      <th>75%</th>\n",
       "      <td>25.814000</td>\n",
       "    </tr>\n",
       "    <tr>\n",
       "      <th>max</th>\n",
       "      <td>38.842000</td>\n",
       "    </tr>\n",
       "  </tbody>\n",
       "</table>\n",
       "</div>"
      ],
      "text/plain": [
       "       AverageTemperature\n",
       "count       544811.000000\n",
       "mean            17.193354\n",
       "std             10.953966\n",
       "min            -37.658000\n",
       "25%             10.025000\n",
       "50%             20.901000\n",
       "75%             25.814000\n",
       "max             38.842000"
      ]
     },
     "execution_count": 8,
     "metadata": {},
     "output_type": "execute_result"
    }
   ],
   "source": [
    "temp.describe()"
   ]
  },
  {
   "cell_type": "code",
   "execution_count": 9,
   "metadata": {
    "scrolled": true
   },
   "outputs": [],
   "source": [
    "percentile_75 = np.percentile(np.array(temp['AverageTemperature']), 75)\n",
    "percentile_50 = np.percentile(np.array(temp['AverageTemperature']), 50)"
   ]
  },
  {
   "cell_type": "code",
   "execution_count": 10,
   "metadata": {},
   "outputs": [
    {
     "data": {
      "text/plain": [
       "Country\n",
       "Kuwait                  25\n",
       "United Arab Emirates     3\n",
       "Qatar                    1\n",
       "Bahrain                  1\n",
       "dtype: int64"
      ]
     },
     "execution_count": 10,
     "metadata": {},
     "output_type": "execute_result"
    }
   ],
   "source": [
    "top_30_high_temp = temp[temp['AverageTemperature'] > percentile_75].sort_values('AverageTemperature', ascending=False)[:30]\n",
    "top_30_high_temp.groupby('Country').size().sort_values(ascending=False)"
   ]
  },
  {
   "cell_type": "code",
   "execution_count": 11,
   "metadata": {},
   "outputs": [
    {
     "data": {
      "text/plain": [
       "<matplotlib.axes._subplots.AxesSubplot at 0x1ffc4b4cc48>"
      ]
     },
     "execution_count": 11,
     "metadata": {},
     "output_type": "execute_result"
    },
    {
     "data": {
      "image/png": "[encoded data removed]",
      "text/plain": [
       "<Figure size 432x288 with 1 Axes>"
      ]
     },
     "metadata": {
      "needs_background": "light"
     },
     "output_type": "display_data"
    }
   ],
   "source": [
    "kuwait_temp = temp[temp['Country'] == 'Kuwait']\n",
    "kuwait_temp_july = kuwait_temp[kuwait_temp.index.month == 7]\n",
    "kuwait_temp_july.plot()"
   ]
  },
  {
   "cell_type": "code",
   "execution_count": 12,
   "metadata": {},
   "outputs": [
    {
     "data": {
      "text/html": [
       "\n",
       "    <div class=\"bk-root\">\n",
       "        <a href=\"https://bokeh.org\" target=\"_blank\" class=\"bk-logo bk-logo-small bk-logo-notebook\"></a>\n",
       "        <span id=\"1001\">Loading BokehJS ...</span>\n",
       "    </div>"
      ]
     },
     "metadata": {},
     "output_type": "display_data"
    },
    {
     "data": {
      "application/javascript": [
       "\n",
       "(function(root) {\n",
       "  function now() {\n",
       "    return new Date();\n",
       "  }\n",
       "\n",
       "  var force = true;\n",
       "\n",
       "  if (typeof root._bokeh_onload_callbacks === \"undefined\" || force === true) {\n",
       "    root._bokeh_onload_callbacks = [];\n",
       "    root._bokeh_is_loading = undefined;\n",
       "  }\n",
       "\n",
       "  var JS_MIME_TYPE = 'application/javascript';\n",
       "  var HTML_MIME_TYPE = 'text/html';\n",
       "  var EXEC_MIME_TYPE = 'application/vnd.bokehjs_exec.v0+json';\n",
       "  var CLASS_NAME = 'output_bokeh rendered_html';\n",
       "\n",
       "  /**\n",
       "   * Render data to the DOM node\n",
       "   */\n",
       "  function render(props, node) {\n",
       "    var script = document.createElement(\"script\");\n",
       "    node.appendChild(script);\n",
       "  }\n",
       "\n",
       "  /**\n",
       "   * Handle when an output is cleared or removed\n",
       "   */\n",
       "  function handleClearOutput(event, handle) {\n",
       "    var cell = handle.cell;\n",
       "\n",
       "    var id = cell.output_area._bokeh_element_id;\n",
       "    var server_id = cell.output_area._bokeh_server_id;\n",
       "    // Clean up Bokeh references\n",
       "    if (id != null && id in Bokeh.index) {\n",
       "      Bokeh.index[id].model.document.clear();\n",
       "      delete Bokeh.index[id];\n",
       "    }\n",
       "\n",
       "    if (server_id !== undefined) {\n",
       "      // Clean up Bokeh references\n",
       "      var cmd = \"from bokeh.io.state import curstate; print(curstate().uuid_to_server['\" + server_id + \"'].get_sessions()[0].document.roots[0]._id)\";\n",
       "      cell.notebook.kernel.execute(cmd, {\n",
       "        iopub: {\n",
       "          output: function(msg) {\n",
       "            var id = msg.content.text.trim();\n",
       "            if (id in Bokeh.index) {\n",
       "              Bokeh.index[id].model.document.clear();\n",
       "              delete Bokeh.index[id];\n",
       "            }\n",
       "          }\n",
       "        }\n",
       "      });\n",
       "      // Destroy server and session\n",
       "      var cmd = \"import bokeh.io.notebook as ion; ion.destroy_server('\" + server_id + \"')\";\n",
       "      cell.notebook.kernel.execute(cmd);\n",
       "    }\n",
       "  }\n",
       "\n",
       "  /**\n",
       "   * Handle when a new output is added\n",
       "   */\n",
       "  function handleAddOutput(event, handle) {\n",
       "    var output_area = handle.output_area;\n",
       "    var output = handle.output;\n",
       "\n",
       "    // limit handleAddOutput to display_data with EXEC_MIME_TYPE content only\n",
       "    if ((output.output_type != \"display_data\") || (!output.data.hasOwnProperty(EXEC_MIME_TYPE))) {\n",
       "      return\n",
       "    }\n",
       "\n",
       "    var toinsert = output_area.element.find(\".\" + CLASS_NAME.split(' ')[0]);\n",
       "\n",
       "    if (output.metadata[EXEC_MIME_TYPE][\"id\"] !== undefined) {\n",
       "      toinsert[toinsert.length - 1].firstChild.textContent = output.data[JS_MIME_TYPE];\n",
       "      // store reference to embed id on output_area\n",
       "      output_area._bokeh_element_id = output.metadata[EXEC_MIME_TYPE][\"id\"];\n",
       "    }\n",
       "    if (output.metadata[EXEC_MIME_TYPE][\"server_id\"] !== undefined) {\n",
       "      var bk_div = document.createElement(\"div\");\n",
       "      bk_div.innerHTML = output.data[HTML_MIME_TYPE];\n",
       "      var script_attrs = bk_div.children[0].attributes;\n",
       "      for (var i = 0; i < script_attrs.length; i++) {\n",
       "        toinsert[toinsert.length - 1].firstChild.setAttribute(script_attrs[i].name, script_attrs[i].value);\n",
       "        toinsert[toinsert.length - 1].firstChild.textContent = bk_div.children[0].textContent\n",
       "      }\n",
       "      // store reference to server id on output_area\n",
       "      output_area._bokeh_server_id = output.metadata[EXEC_MIME_TYPE][\"server_id\"];\n",
       "    }\n",
       "  }\n",
       "\n",
       "  function register_renderer(events, OutputArea) {\n",
       "\n",
       "    function append_mime(data, metadata, element) {\n",
       "      // create a DOM node to render to\n",
       "      var toinsert = this.create_output_subarea(\n",
       "        metadata,\n",
       "        CLASS_NAME,\n",
       "        EXEC_MIME_TYPE\n",
       "      );\n",
       "      this.keyboard_manager.register_events(toinsert);\n",
       "      // Render to node\n",
       "      var props = {data: data, metadata: metadata[EXEC_MIME_TYPE]};\n",
       "      render(props, toinsert[toinsert.length - 1]);\n",
       "      element.append(toinsert);\n",
       "      return toinsert\n",
       "    }\n",
       "\n",
       "    /* Handle when an output is cleared or removed */\n",
       "    events.on('clear_output.CodeCell', handleClearOutput);\n",
       "    events.on('delete.Cell', handleClearOutput);\n",
       "\n",
       "    /* Handle when a new output is added */\n",
       "    events.on('output_added.OutputArea', handleAddOutput);\n",
       "\n",
       "    /**\n",
       "     * Register the mime type and append_mime function with output_area\n",
       "     */\n",
       "    OutputArea.prototype.register_mime_type(EXEC_MIME_TYPE, append_mime, {\n",
       "      /* Is output safe? */\n",
       "      safe: true,\n",
       "      /* Index of renderer in `output_area.display_order` */\n",
       "      index: 0\n",
       "    });\n",
       "  }\n",
       "\n",
       "  // register the mime type if in Jupyter Notebook environment and previously unregistered\n",
       "  if (root.Jupyter !== undefined) {\n",
       "    var events = require('base/js/events');\n",
       "    var OutputArea = require('notebook/js/outputarea').OutputArea;\n",
       "\n",
       "    if (OutputArea.prototype.mime_types().indexOf(EXEC_MIME_TYPE) == -1) {\n",
       "      register_renderer(events, OutputArea);\n",
       "    }\n",
       "  }\n",
       "\n",
       "  \n",
       "  if (typeof (root._bokeh_timeout) === \"undefined\" || force === true) {\n",
       "    root._bokeh_timeout = Date.now() + 5000;\n",
       "    root._bokeh_failed_load = false;\n",
       "  }\n",
       "\n",
       "  var NB_LOAD_WARNING = {'data': {'text/html':\n",
       "     \"<div style='background-color: #fdd'>\\n\"+\n",
       "     \"<p>\\n\"+\n",
       "     \"BokehJS does not appear to have successfully loaded. If loading BokehJS from CDN, this \\n\"+\n",
       "     \"may be due to a slow or bad network connection. Possible fixes:\\n\"+\n",
       "     \"</p>\\n\"+\n",
       "     \"<ul>\\n\"+\n",
       "     \"<li>re-rerun `output_notebook()` to attempt to load from CDN again, or</li>\\n\"+\n",
       "     \"<li>use INLINE resources instead, as so:</li>\\n\"+\n",
       "     \"</ul>\\n\"+\n",
       "     \"<code>\\n\"+\n",
       "     \"from bokeh.resources import INLINE\\n\"+\n",
       "     \"output_notebook(resources=INLINE)\\n\"+\n",
       "     \"</code>\\n\"+\n",
       "     \"</div>\"}};\n",
       "\n",
       "  function display_loaded() {\n",
       "    var el = document.getElementById(\"1001\");\n",
       "    if (el != null) {\n",
       "      el.textContent = \"BokehJS is loading...\";\n",
       "    }\n",
       "    if (root.Bokeh !== undefined) {\n",
       "      if (el != null) {\n",
       "        el.textContent = \"BokehJS \" + root.Bokeh.version + \" successfully loaded.\";\n",
       "      }\n",
       "    } else if (Date.now() < root._bokeh_timeout) {\n",
       "      setTimeout(display_loaded, 100)\n",
       "    }\n",
       "  }\n",
       "\n",
       "\n",
       "  function run_callbacks() {\n",
       "    try {\n",
       "      root._bokeh_onload_callbacks.forEach(function(callback) {\n",
       "        if (callback != null)\n",
       "          callback();\n",
       "      });\n",
       "    } finally {\n",
       "      delete root._bokeh_onload_callbacks\n",
       "    }\n",
       "    console.debug(\"Bokeh: all callbacks have finished\");\n",
       "  }\n",
       "\n",
       "  function load_libs(css_urls, js_urls, callback) {\n",
       "    if (css_urls == null) css_urls = [];\n",
       "    if (js_urls == null) js_urls = [];\n",
       "\n",
       "    root._bokeh_onload_callbacks.push(callback);\n",
       "    if (root._bokeh_is_loading > 0) {\n",
       "      console.debug(\"Bokeh: BokehJS is being loaded, scheduling callback at\", now());\n",
       "      return null;\n",
       "    }\n",
       "    if (js_urls == null || js_urls.length === 0) {\n",
       "      run_callbacks();\n",
       "      return null;\n",
       "    }\n",
       "    console.debug(\"Bokeh: BokehJS not loaded, scheduling load and callback at\", now());\n",
       "    root._bokeh_is_loading = css_urls.length + js_urls.length;\n",
       "\n",
       "    function on_load() {\n",
       "      root._bokeh_is_loading--;\n",
       "      if (root._bokeh_is_loading === 0) {\n",
       "        console.debug(\"Bokeh: all BokehJS libraries/stylesheets loaded\");\n",
       "        run_callbacks()\n",
       "      }\n",
       "    }\n",
       "\n",
       "    function on_error() {\n",
       "      console.error(\"failed to load \" + url);\n",
       "    }\n",
       "\n",
       "    for (var i = 0; i < css_urls.length; i++) {\n",
       "      var url = css_urls[i];\n",
       "      const element = document.createElement(\"link\");\n",
       "      element.onload = on_load;\n",
       "      element.onerror = on_error;\n",
       "      element.rel = \"stylesheet\";\n",
       "      element.type = \"text/css\";\n",
       "      element.href = url;\n",
       "      console.debug(\"Bokeh: injecting link tag for BokehJS stylesheet: \", url);\n",
       "      document.body.appendChild(element);\n",
       "    }\n",
       "\n",
       "    const hashes = {\"https://cdn.bokeh.org/bokeh/release/bokeh-2.1.1.min.js\": \"kLr4fYcqcSpbuI95brIH3vnnYCquzzSxHPU6XGQCIkQRGJwhg0StNbj1eegrHs12\", \"https://cdn.bokeh.org/bokeh/release/bokeh-widgets-2.1.1.min.js\": \"xIGPmVtaOm+z0BqfSOMn4lOR6ciex448GIKG4eE61LsAvmGj48XcMQZtKcE/UXZe\", \"https://cdn.bokeh.org/bokeh/release/bokeh-tables-2.1.1.min.js\": \"Dc9u1wF/0zApGIWoBbH77iWEHtdmkuYWG839Uzmv8y8yBLXebjO9ZnERsde5Ln/P\", \"https://cdn.bokeh.org/bokeh/release/bokeh-gl-2.1.1.min.js\": \"cT9JaBz7GiRXdENrJLZNSC6eMNF3nh3fa5fTF51Svp+ukxPdwcU5kGXGPBgDCa2j\"};\n",
       "\n",
       "    for (var i = 0; i < js_urls.length; i++) {\n",
       "      var url = js_urls[i];\n",
       "      var element = document.createElement('script');\n",
       "      element.onload = on_load;\n",
       "      element.onerror = on_error;\n",
       "      element.async = false;\n",
       "      element.src = url;\n",
       "      if (url in hashes) {\n",
       "        element.crossOrigin = \"anonymous\";\n",
       "        element.integrity = \"sha384-\" + hashes[url];\n",
       "      }\n",
       "      console.debug(\"Bokeh: injecting script tag for BokehJS library: \", url);\n",
       "      document.head.appendChild(element);\n",
       "    }\n",
       "  };\n",
       "\n",
       "  function inject_raw_css(css) {\n",
       "    const element = document.createElement(\"style\");\n",
       "    element.appendChild(document.createTextNode(css));\n",
       "    document.body.appendChild(element);\n",
       "  }\n",
       "\n",
       "  \n",
       "  var js_urls = [\"https://cdn.bokeh.org/bokeh/release/bokeh-2.1.1.min.js\", \"https://cdn.bokeh.org/bokeh/release/bokeh-widgets-2.1.1.min.js\", \"https://cdn.bokeh.org/bokeh/release/bokeh-tables-2.1.1.min.js\", \"https://cdn.bokeh.org/bokeh/release/bokeh-gl-2.1.1.min.js\"];\n",
       "  var css_urls = [];\n",
       "  \n",
       "\n",
       "  var inline_js = [\n",
       "    function(Bokeh) {\n",
       "      Bokeh.set_log_level(\"info\");\n",
       "    },\n",
       "    function(Bokeh) {\n",
       "    \n",
       "    \n",
       "    }\n",
       "  ];\n",
       "\n",
       "  function run_inline_js() {\n",
       "    \n",
       "    if (root.Bokeh !== undefined || force === true) {\n",
       "      \n",
       "    for (var i = 0; i < inline_js.length; i++) {\n",
       "      inline_js[i].call(root, root.Bokeh);\n",
       "    }\n",
       "    if (force === true) {\n",
       "        display_loaded();\n",
       "      }} else if (Date.now() < root._bokeh_timeout) {\n",
       "      setTimeout(run_inline_js, 100);\n",
       "    } else if (!root._bokeh_failed_load) {\n",
       "      console.log(\"Bokeh: BokehJS failed to load within specified timeout.\");\n",
       "      root._bokeh_failed_load = true;\n",
       "    } else if (force !== true) {\n",
       "      var cell = $(document.getElementById(\"1001\")).parents('.cell').data().cell;\n",
       "      cell.output_area.append_execute_result(NB_LOAD_WARNING)\n",
       "    }\n",
       "\n",
       "  }\n",
       "\n",
       "  if (root._bokeh_is_loading === 0) {\n",
       "    console.debug(\"Bokeh: BokehJS loaded, going straight to plotting\");\n",
       "    run_inline_js();\n",
       "  } else {\n",
       "    load_libs(css_urls, js_urls, function() {\n",
       "      console.debug(\"Bokeh: BokehJS plotting callback run at\", now());\n",
       "      run_inline_js();\n",
       "    });\n",
       "  }\n",
       "}(window));"
      ],
      "application/vnd.bokehjs_load.v0+json": "\n(function(root) {\n  function now() {\n    return new Date();\n  }\n\n  var force = true;\n\n  if (typeof root._bokeh_onload_callbacks === \"undefined\" || force === true) {\n    root._bokeh_onload_callbacks = [];\n    root._bokeh_is_loading = undefined;\n  }\n\n  \n\n  \n  if (typeof (root._bokeh_timeout) === \"undefined\" || force === true) {\n    root._bokeh_timeout = Date.now() + 5000;\n    root._bokeh_failed_load = false;\n  }\n\n  var NB_LOAD_WARNING = {'data': {'text/html':\n     \"<div style='background-color: #fdd'>\\n\"+\n     \"<p>\\n\"+\n     \"BokehJS does not appear to have successfully loaded. If loading BokehJS from CDN, this \\n\"+\n     \"may be due to a slow or bad network connection. Possible fixes:\\n\"+\n     \"</p>\\n\"+\n     \"<ul>\\n\"+\n     \"<li>re-rerun `output_notebook()` to attempt to load from CDN again, or</li>\\n\"+\n     \"<li>use INLINE resources instead, as so:</li>\\n\"+\n     \"</ul>\\n\"+\n     \"<code>\\n\"+\n     \"from bokeh.resources import INLINE\\n\"+\n     \"output_notebook(resources=INLINE)\\n\"+\n     \"</code>\\n\"+\n     \"</div>\"}};\n\n  function display_loaded() {\n    var el = document.getElementById(\"1001\");\n    if (el != null) {\n      el.textContent = \"BokehJS is loading...\";\n    }\n    if (root.Bokeh !== undefined) {\n      if (el != null) {\n        el.textContent = \"BokehJS \" + root.Bokeh.version + \" successfully loaded.\";\n      }\n    } else if (Date.now() < root._bokeh_timeout) {\n      setTimeout(display_loaded, 100)\n    }\n  }\n\n\n  function run_callbacks() {\n    try {\n      root._bokeh_onload_callbacks.forEach(function(callback) {\n        if (callback != null)\n          callback();\n      });\n    } finally {\n      delete root._bokeh_onload_callbacks\n    }\n    console.debug(\"Bokeh: all callbacks have finished\");\n  }\n\n  function load_libs(css_urls, js_urls, callback) {\n    if (css_urls == null) css_urls = [];\n    if (js_urls == null) js_urls = [];\n\n    root._bokeh_onload_callbacks.push(callback);\n    if (root._bokeh_is_loading > 0) {\n      console.debug(\"Bokeh: BokehJS is being loaded, scheduling callback at\", now());\n      return null;\n    }\n    if (js_urls == null || js_urls.length === 0) {\n      run_callbacks();\n      return null;\n    }\n    console.debug(\"Bokeh: BokehJS not loaded, scheduling load and callback at\", now());\n    root._bokeh_is_loading = css_urls.length + js_urls.length;\n\n    function on_load() {\n      root._bokeh_is_loading--;\n      if (root._bokeh_is_loading === 0) {\n        console.debug(\"Bokeh: all BokehJS libraries/stylesheets loaded\");\n        run_callbacks()\n      }\n    }\n\n    function on_error() {\n      console.error(\"failed to load \" + url);\n    }\n\n    for (var i = 0; i < css_urls.length; i++) {\n      var url = css_urls[i];\n      const element = document.createElement(\"link\");\n      element.onload = on_load;\n      element.onerror = on_error;\n      element.rel = \"stylesheet\";\n      element.type = \"text/css\";\n      element.href = url;\n      console.debug(\"Bokeh: injecting link tag for BokehJS stylesheet: \", url);\n      document.body.appendChild(element);\n    }\n\n    const hashes = {\"https://cdn.bokeh.org/bokeh/release/bokeh-2.1.1.min.js\": \"kLr4fYcqcSpbuI95brIH3vnnYCquzzSxHPU6XGQCIkQRGJwhg0StNbj1eegrHs12\", \"https://cdn.bokeh.org/bokeh/release/bokeh-widgets-2.1.1.min.js\": \"xIGPmVtaOm+z0BqfSOMn4lOR6ciex448GIKG4eE61LsAvmGj48XcMQZtKcE/UXZe\", \"https://cdn.bokeh.org/bokeh/release/bokeh-tables-2.1.1.min.js\": \"Dc9u1wF/0zApGIWoBbH77iWEHtdmkuYWG839Uzmv8y8yBLXebjO9ZnERsde5Ln/P\", \"https://cdn.bokeh.org/bokeh/release/bokeh-gl-2.1.1.min.js\": \"cT9JaBz7GiRXdENrJLZNSC6eMNF3nh3fa5fTF51Svp+ukxPdwcU5kGXGPBgDCa2j\"};\n\n    for (var i = 0; i < js_urls.length; i++) {\n      var url = js_urls[i];\n      var element = document.createElement('script');\n      element.onload = on_load;\n      element.onerror = on_error;\n      element.async = false;\n      element.src = url;\n      if (url in hashes) {\n        element.crossOrigin = \"anonymous\";\n        element.integrity = \"sha384-\" + hashes[url];\n      }\n      console.debug(\"Bokeh: injecting script tag for BokehJS library: \", url);\n      document.head.appendChild(element);\n    }\n  };\n\n  function inject_raw_css(css) {\n    const element = document.createElement(\"style\");\n    element.appendChild(document.createTextNode(css));\n    document.body.appendChild(element);\n  }\n\n  \n  var js_urls = [\"https://cdn.bokeh.org/bokeh/release/bokeh-2.1.1.min.js\", \"https://cdn.bokeh.org/bokeh/release/bokeh-widgets-2.1.1.min.js\", \"https://cdn.bokeh.org/bokeh/release/bokeh-tables-2.1.1.min.js\", \"https://cdn.bokeh.org/bokeh/release/bokeh-gl-2.1.1.min.js\"];\n  var css_urls = [];\n  \n\n  var inline_js = [\n    function(Bokeh) {\n      Bokeh.set_log_level(\"info\");\n    },\n    function(Bokeh) {\n    \n    \n    }\n  ];\n\n  function run_inline_js() {\n    \n    if (root.Bokeh !== undefined || force === true) {\n      \n    for (var i = 0; i < inline_js.length; i++) {\n      inline_js[i].call(root, root.Bokeh);\n    }\n    if (force === true) {\n        display_loaded();\n      }} else if (Date.now() < root._bokeh_timeout) {\n      setTimeout(run_inline_js, 100);\n    } else if (!root._bokeh_failed_load) {\n      console.log(\"Bokeh: BokehJS failed to load within specified timeout.\");\n      root._bokeh_failed_load = true;\n    } else if (force !== true) {\n      var cell = $(document.getElementById(\"1001\")).parents('.cell').data().cell;\n      cell.output_area.append_execute_result(NB_LOAD_WARNING)\n    }\n\n  }\n\n  if (root._bokeh_is_loading === 0) {\n    console.debug(\"Bokeh: BokehJS loaded, going straight to plotting\");\n    run_inline_js();\n  } else {\n    load_libs(css_urls, js_urls, function() {\n      console.debug(\"Bokeh: BokehJS plotting callback run at\", now());\n      run_inline_js();\n    });\n  }\n}(window));"
     },
     "metadata": {},
     "output_type": "display_data"
    },
    {
     "data": {
      "text/html": [
       "\n",
       "\n",
       "\n",
       "\n",
       "\n",
       "\n",
       "  <div class=\"bk-root\" id=\"5ea364fc-fae9-4b14-9cac-23a210d2c894\" data-root-id=\"1002\"></div>\n"
      ]
     },
     "metadata": {},
     "output_type": "display_data"
    },
    {
     "data": {
      "application/javascript": [
       "(function(root) {\n",
       "  function embed_document(root) {\n",
       "    \n",
       "  var docs_json = {\"2338ef19-5ae7-46bc-9dec-89be9e131498\":{\"roots\":{\"references\":[{\"attributes\":{\"below\":[{\"id\":\"1011\"}],\"center\":[{\"id\":\"1014\"},{\"id\":\"1018\"},{\"id\":\"1059\"}],\"left\":[{\"id\":\"1015\"}],\"plot_height\":350,\"plot_width\":800,\"renderers\":[{\"id\":\"1036\"}],\"title\":{\"id\":\"1039\"},\"toolbar\":{\"id\":\"1026\"},\"x_range\":{\"id\":\"1003\"},\"x_scale\":{\"id\":\"1007\"},\"y_range\":{\"id\":\"1005\"},\"y_scale\":{\"id\":\"1009\"}},\"id\":\"1002\",\"subtype\":\"Figure\",\"type\":\"Plot\"},{\"attributes\":{},\"id\":\"1005\",\"type\":\"DataRange1d\"},{\"attributes\":{\"fill_alpha\":{\"value\":0.2},\"fill_color\":{\"value\":\"darkblue\"},\"line_alpha\":{\"value\":0.2},\"line_color\":{\"value\":\"darkblue\"},\"x\":{\"field\":\"x\"},\"y\":{\"field\":\"y\"}},\"id\":\"1034\",\"type\":\"Circle\"},{\"attributes\":{\"months\":[0,1,2,3,4,5,6,7,8,9,10,11]},\"id\":\"1051\",\"type\":\"MonthsTicker\"},{\"attributes\":{},\"id\":\"1019\",\"type\":\"PanTool\"},{\"attributes\":{\"data\":{\"x\":{\"__ndarray__\":\"AACA8xu8jcIAAGBX4wuNwgAAIJv80IzCAADAET+WjMIAAGCIgVuMwgAAAP/DIIzCAADAQt3li8IAAGC5H6uLwgAAADBicIvCAACgpqQ1i8IAAGDqvfqKwgAAAGEAwIrCAACg10KFisIAAEBOhUqKwgAAAJKeD4rCAACgCOHUicIAAEB/I5qJwgAA4PVlX4nCAACgOX8kicIAAECwwemIwgAA4CYEr4jCAACAnUZ0iMIAAEDhXzmIwgAA4Fei/ofCAACAzuTDh8IAACBFJ4mHwgAA4IhATofCAACA/4ITh8IAACB2xdiGwgAAwOwHnobCAACAMCFjhsIAACCnYyiGwgAAwB2m7YXCAABglOiyhcIAACDYAXiFwgAAwE5EPYXCAABgxYYChcIAAAA8yceEwgAAwH/ijITCAABg9iRShMIAAABtZxeEwgAAoOOp3IPCAABgJ8Ohg8IAAACeBWeDwgAAoBRILIPCAABAi4rxgsIAAADPo7aCwgAAoEXme4LCAABAvChBgsIAAOAyawaCwgAAoHaEy4HCAABA7caQgcIAAOBjCVaBwgAAgNpLG4HCAABAHmXggMIAAOCUp6WAwgAAgAvqaoDCAAAggiwwgMIAAIDx3ep/wgAAwN5idX/CAAAAzOf/fsIAAEC5bIp+wgAAwECfFH7CAAAALiSffcIAAEAbqSl9wgAAgAgutHzCAAAAkGA+fMIAAEB95ch7wgAAgGpqU3vCAADAV+/desIAAEDfIWh6wgAAgMym8nnCAADAuSt9ecIAAACnsAd5wgAAgC7jkXjCAADAG2gceMIAAAAJ7aZ3wgAAQPZxMXfCAADAfaS7dsIAAABrKUZ2wgAAQFiu0HXCAACARTNbdcIAAADNZeV0wgAAQLrqb3TCAACAp2/6c8IAAMCU9IRzwgAAQBwnD3PCAACACayZcsIAAMD2MCRywgAAAOS1rnHCAACAa+g4ccIAAMBYbcNwwgAAAEbyTXDCAACAZu6wb8IAAIB1U8VuwgAAAFBd2m3CAACAKmfvbMIAAAAFcQRswgAAABTWGGvCAACA7t8tasIAAADJ6UJpwgAAgKPzV2jCAACAslhsZ8IAAACNYoFmwgAAgGdslmXCAAAAQnarZMIAAABR279jwgAAgCvl1GLCAAAABu/pYcIAAIDg+P5gwgAAgO9dE2DCAAAAlM9QXsIAAABJ43pcwgAAAP72pFrCAAAAHMHNWMIAAADR1PdWwgAAAIboIVXCAAAAO/xLU8IAAABZxnRRwgAAABy0PU/CAAAAhtuRS8IAAADwAuZHwgAAACyXN0TCAAAAlr6LQMIAAAAAzL85wgAAANQaaDLCAAAAmIYWJsIAAAAAkZwNwgAAAGD4IA1CAAAAcKD3JUIAAADAp1gyQgAAAOxYsDlCAAAADAWEQEIAAACi3S9EQgAAAGZJ3kdCAAAA/CGKS0IAAACS+jVPQgAAAJTpcFFCAAAAdh9IU0IAAADBCx5VQgAAAAz481ZCAAAAV+TJWEIAAAA5GqFaQgAAAIQGd1xCAAAAz/JMXkIAAACNbxFgQgAAAH4K/WBCAACAowDoYUIAAADJ9tJiQgAAgO7svWNCAACA34epZEIAAAAFfpRlQgAAgCp0f2ZCAAAAUGpqZ0IAAABBBVZoQgAAgGb7QGlCAAAAjPErakIAAICx5xZrQgAAgKKCAmxCAAAAyHjtbEIAAIDtbthtQgAAABNlw25CAAAABACvb0IAAMAU+0xwQgAAgCd2wnBCAABAOvE3cUIAAMCyvq1xQgAAgMU5I3JCAABA2LSYckIAAADrLw5zQgAAgGP9g3NCAABAdnj5c0I=\",\"dtype\":\"float64\",\"order\":\"little\",\"shape\":[172]},\"y\":{\"__ndarray__\":\"xSCwcmihQkBOYhBYOeRBQBODwMqhBUJA9P3UeOnmQUDqJjEIrCxCQGq8dJMYdEJAtsh2vp/qQUBi5dAi28lBQDu0yHa+H0JA1XjpJjEYQkDRItv5fvpBQKAaL90kBkJAFa5H4XqUQUD+1HjpJtFBQIPAyqFFBkJAyXa+nxqfQUD0/dR46QZCQDIIrBxapEFAYLpJDAJrQkB3vp8aL81BQMHKoUW200FAsXJoke38QUAAAAAAANBBQAAAAAAA4EFARrbz/dQIQkDufD81XopBQM/3U+OlC0JAmG4Sg8DqQUAQLbKd77dBQKRwPQrXk0FAgZVDi2z3QUAX2c73U7NBQA4CK4cWqUFAFIPAyqG1QUB/arx0k9hBQD81XrpJHEJAAiuHFtmeQkAX2c73UxNCQGqR7Xw/xUFA8KfGSzcJQkAtsp3vp4ZBQEJg5dAi60FAJzEIrByaQUD8qfHSTfJBQEJg5dAiG0JAa7x0kxiUQUAWrkfhetRBQEoMAiuH5kFAJzEIrByKQUBEi2zn+7lBQPhT46Wb1EFADNejcD3qQUA6tMh2vo9BQMHKoUW2k0FAk+18PzXeQUBmO99PjedBQFYOLbKdH0JAsXJoke1MQkCNbOf7qfFBQFCNl24Sc0JAwcqhRbbjQUAQLbKd78dBQEa28/3U6EFAfT81XrrJQUA3XrpJDOJBQON6FK5H4UFAElg5tMjGQUDc+X5qvBRCQFg5tMh2HkJAFK5H4XoEQkDP91PjpftBQIkW2c73s0FAK4cW2c63QUCq8dJNYgBCQARWDi2y7UFAUrgeheuRQkCamZmZmclBQKjGSzeJ4UFAUrgeheshQUAZBFYOLdJCQNV46SYxSEJABFYOLbL9QUAfhetRuE5CQEJg5dAiq0FA6fup8dKtQUDByqFFthNCQKjGSzeJEUJAQmDl0CKLQUCsHFpkO99BQD81XrpJPEJAw/UoXI+SQUCT7Xw/NZ5BQBJYObTIpkFAlRgEVg7tQUA5iUFg5cBBQNNNYhBYKUJAE4PAyqF1QkBSuB6F67FBQGLl0CLb2UFAokW28/3kQUDTTWIQWLlBQKAaL90k9kFANTMzMzPTQUAtsp3vp9ZBQPT91Hjp5kFAaJHtfD8lQkDjehSuRwFCQKAaL90k1kFASgwCK4fGQUATg8DKoVVCQIkW2c73s0FAc2iR7XzPQUArhxbZzjdCQKrx0k1i8EFAlRgEVg7tQUBbZDvfTw1CQBSDwMqh9UFAQmDl0CK7QUBYObTIdi5CQNnO91Pj9UFA6Pup8dJtQkBCYOXQIitCQD8K16Nw7UFAFK5H4XoUQkAM16NwPcpBQNnO91Pj1UFAppvEILBCQkCS7Xw/NY5BQCUGgZVD20FA+FPjpZvUQUBzaJHtfK9BQHNoke18v0FAbef7qfHCQUDwp8ZLN0lCQJUYBFYOrUFAlRgEVg79QUBQjZduEvNBQESLbOf7+UFA43oUrkehQkDTTWIQWAlCQOFPjZdu0kFAFK5H4XpkQkBCYOXQIjtCQM3MzMzM3EFA16NwPQp3QkCG61G4HpVCQBsv3SQGMUJAnMQgsHLIQkCiRbbz/eRCQH9qvHSTCEJAf2q8dJPYQUATg8DKoXVCQLxJDAIr50FAMN0kBoEVQkBQjZduEuNCQGQQWDm0OEJAH4XrUbi+QkC8dJMYBLZCQAzXo3A9WkNA4U+Nl26yQkBMN4lBYAVDQMuhRbbzrUJAPzVeukmsQkBqvHSTGARDQMP1KFyP0kJAFK5H4Xq0QkDZzvdT49VCQBkEVg4t0kJAkcL1KFw/Q0CJFtnO9xNDQLSd76fGa0NAy6FFtvMdQ0A=\",\"dtype\":\"float64\",\"order\":\"little\",\"shape\":[172]}},\"selected\":{\"id\":\"1058\"},\"selection_policy\":{\"id\":\"1057\"}},\"id\":\"1033\",\"type\":\"ColumnDataSource\"},{\"attributes\":{},\"id\":\"1020\",\"type\":\"WheelZoomTool\"},{\"attributes\":{\"months\":[0,2,4,6,8,10]},\"id\":\"1052\",\"type\":\"MonthsTicker\"},{\"attributes\":{},\"id\":\"1007\",\"type\":\"LinearScale\"},{\"attributes\":{\"overlay\":{\"id\":\"1025\"}},\"id\":\"1021\",\"type\":\"BoxZoomTool\"},{\"attributes\":{},\"id\":\"1022\",\"type\":\"SaveTool\"},{\"attributes\":{\"months\":[0,4,8]},\"id\":\"1053\",\"type\":\"MonthsTicker\"},{\"attributes\":{},\"id\":\"1024\",\"type\":\"HelpTool\"},{\"attributes\":{\"source\":{\"id\":\"1033\"}},\"id\":\"1037\",\"type\":\"CDSView\"},{\"attributes\":{\"data_source\":{\"id\":\"1033\"},\"glyph\":{\"id\":\"1034\"},\"hover_glyph\":null,\"muted_glyph\":null,\"nonselection_glyph\":{\"id\":\"1035\"},\"selection_glyph\":null,\"view\":{\"id\":\"1037\"}},\"id\":\"1036\",\"type\":\"GlyphRenderer\"},{\"attributes\":{},\"id\":\"1023\",\"type\":\"ResetTool\"},{\"attributes\":{\"months\":[0,6]},\"id\":\"1054\",\"type\":\"MonthsTicker\"},{\"attributes\":{},\"id\":\"1009\",\"type\":\"LinearScale\"},{\"attributes\":{},\"id\":\"1041\",\"type\":\"DatetimeTickFormatter\"},{\"attributes\":{},\"id\":\"1055\",\"type\":\"YearsTicker\"},{\"attributes\":{\"mantissas\":[1,2,5],\"max_interval\":500.0,\"num_minor_ticks\":0},\"id\":\"1044\",\"type\":\"AdaptiveTicker\"},{\"attributes\":{\"items\":[{\"id\":\"1060\"}],\"location\":\"top_left\"},\"id\":\"1059\",\"type\":\"Legend\"},{\"attributes\":{\"axis_label\":\"Date\",\"formatter\":{\"id\":\"1041\"},\"ticker\":{\"id\":\"1012\"}},\"id\":\"1011\",\"type\":\"DatetimeAxis\"},{\"attributes\":{},\"id\":\"1043\",\"type\":\"BasicTickFormatter\"},{\"attributes\":{},\"id\":\"1057\",\"type\":\"UnionRenderers\"},{\"attributes\":{\"num_minor_ticks\":5,\"tickers\":[{\"id\":\"1044\"},{\"id\":\"1045\"},{\"id\":\"1046\"},{\"id\":\"1047\"},{\"id\":\"1048\"},{\"id\":\"1049\"},{\"id\":\"1050\"},{\"id\":\"1051\"},{\"id\":\"1052\"},{\"id\":\"1053\"},{\"id\":\"1054\"},{\"id\":\"1055\"}]},\"id\":\"1012\",\"type\":\"DatetimeTicker\"},{\"attributes\":{\"base\":24,\"mantissas\":[1,2,4,6,8,12],\"max_interval\":43200000.0,\"min_interval\":3600000.0,\"num_minor_ticks\":0},\"id\":\"1046\",\"type\":\"AdaptiveTicker\"},{\"attributes\":{\"axis\":{\"id\":\"1011\"},\"grid_line_alpha\":0,\"ticker\":null},\"id\":\"1014\",\"type\":\"Grid\"},{\"attributes\":{},\"id\":\"1003\",\"type\":\"DataRange1d\"},{\"attributes\":{\"base\":60,\"mantissas\":[1,2,5,10,15,20,30],\"max_interval\":1800000.0,\"min_interval\":1000.0,\"num_minor_ticks\":0},\"id\":\"1045\",\"type\":\"AdaptiveTicker\"},{\"attributes\":{\"axis_label\":\"Temperature\",\"formatter\":{\"id\":\"1043\"},\"ticker\":{\"id\":\"1016\"}},\"id\":\"1015\",\"type\":\"LinearAxis\"},{\"attributes\":{},\"id\":\"1058\",\"type\":\"Selection\"},{\"attributes\":{},\"id\":\"1016\",\"type\":\"BasicTicker\"},{\"attributes\":{\"days\":[1,2,3,4,5,6,7,8,9,10,11,12,13,14,15,16,17,18,19,20,21,22,23,24,25,26,27,28,29,30,31]},\"id\":\"1047\",\"type\":\"DaysTicker\"},{\"attributes\":{\"label\":{\"value\":\"Kuwait\"},\"renderers\":[{\"id\":\"1036\"}]},\"id\":\"1060\",\"type\":\"LegendItem\"},{\"attributes\":{\"active_drag\":\"auto\",\"active_inspect\":\"auto\",\"active_multi\":null,\"active_scroll\":\"auto\",\"active_tap\":\"auto\",\"tools\":[{\"id\":\"1019\"},{\"id\":\"1020\"},{\"id\":\"1021\"},{\"id\":\"1022\"},{\"id\":\"1023\"},{\"id\":\"1024\"}]},\"id\":\"1026\",\"type\":\"Toolbar\"},{\"attributes\":{\"days\":[1,4,7,10,13,16,19,22,25,28]},\"id\":\"1048\",\"type\":\"DaysTicker\"},{\"attributes\":{\"axis\":{\"id\":\"1015\"},\"band_fill_alpha\":0.1,\"band_fill_color\":\"olive\",\"dimension\":1,\"grid_line_alpha\":0,\"ticker\":null},\"id\":\"1018\",\"type\":\"Grid\"},{\"attributes\":{\"days\":[1,8,15,22]},\"id\":\"1049\",\"type\":\"DaysTicker\"},{\"attributes\":{\"bottom_units\":\"screen\",\"fill_alpha\":0.5,\"fill_color\":\"lightgrey\",\"left_units\":\"screen\",\"level\":\"overlay\",\"line_alpha\":1.0,\"line_color\":\"black\",\"line_dash\":[4,4],\"line_width\":2,\"right_units\":\"screen\",\"top_units\":\"screen\"},\"id\":\"1025\",\"type\":\"BoxAnnotation\"},{\"attributes\":{\"fill_alpha\":{\"value\":0.1},\"fill_color\":{\"value\":\"darkblue\"},\"line_alpha\":{\"value\":0.1},\"line_color\":{\"value\":\"darkblue\"},\"x\":{\"field\":\"x\"},\"y\":{\"field\":\"y\"}},\"id\":\"1035\",\"type\":\"Circle\"},{\"attributes\":{\"days\":[1,15]},\"id\":\"1050\",\"type\":\"DaysTicker\"},{\"attributes\":{\"text\":\"Kuwait Temp in July\"},\"id\":\"1039\",\"type\":\"Title\"}],\"root_ids\":[\"1002\"]},\"title\":\"Bokeh Application\",\"version\":\"2.1.1\"}};\n",
       "  var render_items = [{\"docid\":\"2338ef19-5ae7-46bc-9dec-89be9e131498\",\"notebook_comms_target\":\"1083\",\"root_ids\":[\"1002\"],\"roots\":{\"1002\":\"5ea364fc-fae9-4b14-9cac-23a210d2c894\"}}];\n",
       "  root.Bokeh.embed.embed_items_notebook(docs_json, render_items);\n",
       "\n",
       "  }\n",
       "  if (root.Bokeh !== undefined) {\n",
       "    embed_document(root);\n",
       "  } else {\n",
       "    var attempts = 0;\n",
       "    var timer = setInterval(function(root) {\n",
       "      if (root.Bokeh !== undefined) {\n",
       "        clearInterval(timer);\n",
       "        embed_document(root);\n",
       "      } else {\n",
       "        attempts++;\n",
       "        if (attempts > 100) {\n",
       "          clearInterval(timer);\n",
       "          console.log(\"Bokeh: ERROR: Unable to run BokehJS code because BokehJS library is missing\");\n",
       "        }\n",
       "      }\n",
       "    }, 10, root)\n",
       "  }\n",
       "})(window);"
      ],
      "application/vnd.bokehjs_exec.v0+json": ""
     },
     "metadata": {
      "application/vnd.bokehjs_exec.v0+json": {
       "id": "1002"
      }
     },
     "output_type": "display_data"
    },
    {
     "data": {
      "text/html": [
       "<p><code>&lt;Bokeh Notebook handle for <strong>In[12]</strong>&gt;</code></p>"
      ],
      "text/plain": [
       "<bokeh.io.notebook.CommsHandle at 0x1ffc34b0b88>"
      ]
     },
     "execution_count": 12,
     "metadata": {},
     "output_type": "execute_result"
    }
   ],
   "source": [
    "from bokeh.io import push_notebook, show, output_notebook\n",
    "from bokeh.plotting import figure\n",
    "output_notebook()\n",
    "\n",
    "# prepare some data\n",
    "kuwait_temp_july = kuwait_temp[kuwait_temp.index.month == 7]\n",
    "temp_july = temp[temp.index.month == 7]\n",
    "\n",
    "\n",
    "window_size = 30\n",
    "window = np.ones(window_size)/float(window_size)\n",
    "\n",
    "# output to static HTML file\n",
    "\n",
    "\n",
    "# create a new plot with a datetime axis type\n",
    "p = figure(plot_width=800, plot_height=350, x_axis_type=\"datetime\")\n",
    "\n",
    "# add renderers\n",
    "p.circle(kuwait_temp_july.index, kuwait_temp_july.AverageTemperature, size=4, color='darkblue', \n",
    "         alpha=0.2, legend_label='Kuwait')\n",
    "#p.line(temp_july.index, percentile_50, color='navy', legend_label='avg')\n",
    "\n",
    "# NEW: customize by setting attributes\n",
    "p.title.text = \"Kuwait Temp in July\"\n",
    "p.legend.location = \"top_left\"\n",
    "p.grid.grid_line_alpha = 0\n",
    "p.xaxis.axis_label = 'Date'\n",
    "p.yaxis.axis_label = 'Temperature'\n",
    "p.ygrid.band_fill_color = \"olive\"\n",
    "p.ygrid.band_fill_alpha = 0.1\n",
    "\n",
    "# show the results\n",
    "show(p, notebook_handle=True)"
   ]
  },
  {
   "cell_type": "code",
   "execution_count": 13,
   "metadata": {},
   "outputs": [
    {
     "data": {
      "text/html": [
       "<div>\n",
       "<style scoped>\n",
       "    .dataframe tbody tr th:only-of-type {\n",
       "        vertical-align: middle;\n",
       "    }\n",
       "\n",
       "    .dataframe tbody tr th {\n",
       "        vertical-align: top;\n",
       "    }\n",
       "\n",
       "    .dataframe thead th {\n",
       "        text-align: right;\n",
       "    }\n",
       "</style>\n",
       "<table border=\"1\" class=\"dataframe\">\n",
       "  <thead>\n",
       "    <tr style=\"text-align: right;\">\n",
       "      <th></th>\n",
       "      <th>AverageTemperature</th>\n",
       "      <th>Country</th>\n",
       "    </tr>\n",
       "    <tr>\n",
       "      <th>dt</th>\n",
       "      <th></th>\n",
       "      <th></th>\n",
       "    </tr>\n",
       "  </thead>\n",
       "  <tbody>\n",
       "    <tr>\n",
       "      <th>1837-02-01</th>\n",
       "      <td>6.965</td>\n",
       "      <td>Iran</td>\n",
       "    </tr>\n",
       "    <tr>\n",
       "      <th>1837-03-01</th>\n",
       "      <td>11.100</td>\n",
       "      <td>Iran</td>\n",
       "    </tr>\n",
       "    <tr>\n",
       "      <th>1837-04-01</th>\n",
       "      <td>16.112</td>\n",
       "      <td>Iran</td>\n",
       "    </tr>\n",
       "    <tr>\n",
       "      <th>1837-05-01</th>\n",
       "      <td>21.845</td>\n",
       "      <td>Iran</td>\n",
       "    </tr>\n",
       "    <tr>\n",
       "      <th>1837-06-01</th>\n",
       "      <td>26.454</td>\n",
       "      <td>Iran</td>\n",
       "    </tr>\n",
       "    <tr>\n",
       "      <th>...</th>\n",
       "      <td>...</td>\n",
       "      <td>...</td>\n",
       "    </tr>\n",
       "    <tr>\n",
       "      <th>2013-04-01</th>\n",
       "      <td>18.416</td>\n",
       "      <td>Iran</td>\n",
       "    </tr>\n",
       "    <tr>\n",
       "      <th>2013-05-01</th>\n",
       "      <td>24.123</td>\n",
       "      <td>Iran</td>\n",
       "    </tr>\n",
       "    <tr>\n",
       "      <th>2013-06-01</th>\n",
       "      <td>29.361</td>\n",
       "      <td>Iran</td>\n",
       "    </tr>\n",
       "    <tr>\n",
       "      <th>2013-07-01</th>\n",
       "      <td>31.459</td>\n",
       "      <td>Iran</td>\n",
       "    </tr>\n",
       "    <tr>\n",
       "      <th>2013-08-01</th>\n",
       "      <td>29.473</td>\n",
       "      <td>Iran</td>\n",
       "    </tr>\n",
       "  </tbody>\n",
       "</table>\n",
       "<p>2119 rows × 2 columns</p>\n",
       "</div>"
      ],
      "text/plain": [
       "            AverageTemperature Country\n",
       "dt                                    \n",
       "1837-02-01               6.965    Iran\n",
       "1837-03-01              11.100    Iran\n",
       "1837-04-01              16.112    Iran\n",
       "1837-05-01              21.845    Iran\n",
       "1837-06-01              26.454    Iran\n",
       "...                        ...     ...\n",
       "2013-04-01              18.416    Iran\n",
       "2013-05-01              24.123    Iran\n",
       "2013-06-01              29.361    Iran\n",
       "2013-07-01              31.459    Iran\n",
       "2013-08-01              29.473    Iran\n",
       "\n",
       "[2119 rows x 2 columns]"
      ]
     },
     "execution_count": 13,
     "metadata": {},
     "output_type": "execute_result"
    }
   ],
   "source": [
    "temp[temp['Country'] == 'Iran']"
   ]
  },
  {
   "cell_type": "code",
   "execution_count": 14,
   "metadata": {},
   "outputs": [
    {
     "data": {
      "text/plain": [
       "<matplotlib.axes._subplots.AxesSubplot at 0x1ffc259e848>"
      ]
     },
     "execution_count": 14,
     "metadata": {},
     "output_type": "execute_result"
    },
    {
     "data": {
      "image/png": "[encoded data removed]",
      "text/plain": [
       "<Figure size 432x288 with 1 Axes>"
      ]
     },
     "metadata": {
      "needs_background": "light"
     },
     "output_type": "display_data"
    }
   ],
   "source": [
    "iran_temp = temp[temp['Country'] == 'Iran']\n",
    "iran_temp_july = iran_temp[iran_temp.index.month == 7]\n",
    "iran_temp_july.plot()"
   ]
  },
  {
   "cell_type": "code",
   "execution_count": 19,
   "metadata": {},
   "outputs": [
    {
     "data": {
      "text/html": [
       "\n",
       "\n",
       "\n",
       "\n",
       "\n",
       "\n",
       "  <div class=\"bk-root\" id=\"b6c6f868-2f3a-4326-ad21-8e34e1cd2929\" data-root-id=\"1689\"></div>\n"
      ]
     },
     "metadata": {},
     "output_type": "display_data"
    },
    {
     "data": {
      "application/javascript": [
       "(function(root) {\n",
       "  function embed_document(root) {\n",
       "    \n",
       "  var docs_json = {\"1e3974af-e177-4f16-95aa-6d5ec069abc3\":{\"roots\":{\"references\":[{\"attributes\":{\"below\":[{\"id\":\"1698\"}],\"center\":[{\"id\":\"1701\"},{\"id\":\"1705\"},{\"id\":\"1746\"}],\"left\":[{\"id\":\"1702\"}],\"plot_height\":350,\"plot_width\":800,\"renderers\":[{\"id\":\"1723\"}],\"title\":{\"id\":\"1726\"},\"toolbar\":{\"id\":\"1713\"},\"x_range\":{\"id\":\"1690\"},\"x_scale\":{\"id\":\"1694\"},\"y_range\":{\"id\":\"1692\"},\"y_scale\":{\"id\":\"1696\"}},\"id\":\"1689\",\"subtype\":\"Figure\",\"type\":\"Plot\"},{\"attributes\":{\"months\":[0,4,8]},\"id\":\"1740\",\"type\":\"MonthsTicker\"},{\"attributes\":{},\"id\":\"1690\",\"type\":\"DataRange1d\"},{\"attributes\":{\"num_minor_ticks\":5,\"tickers\":[{\"id\":\"1731\"},{\"id\":\"1732\"},{\"id\":\"1733\"},{\"id\":\"1734\"},{\"id\":\"1735\"},{\"id\":\"1736\"},{\"id\":\"1737\"},{\"id\":\"1738\"},{\"id\":\"1739\"},{\"id\":\"1740\"},{\"id\":\"1741\"},{\"id\":\"1742\"}]},\"id\":\"1699\",\"type\":\"DatetimeTicker\"},{\"attributes\":{\"months\":[0,6]},\"id\":\"1741\",\"type\":\"MonthsTicker\"},{\"attributes\":{},\"id\":\"1728\",\"type\":\"DatetimeTickFormatter\"},{\"attributes\":{},\"id\":\"1744\",\"type\":\"UnionRenderers\"},{\"attributes\":{},\"id\":\"1696\",\"type\":\"LinearScale\"},{\"attributes\":{\"items\":[{\"id\":\"1747\"}],\"location\":\"top_left\"},\"id\":\"1746\",\"type\":\"Legend\"},{\"attributes\":{\"base\":24,\"mantissas\":[1,2,4,6,8,12],\"max_interval\":43200000.0,\"min_interval\":3600000.0,\"num_minor_ticks\":0},\"id\":\"1733\",\"type\":\"AdaptiveTicker\"},{\"attributes\":{\"bottom_units\":\"screen\",\"fill_alpha\":0.5,\"fill_color\":\"lightgrey\",\"left_units\":\"screen\",\"level\":\"overlay\",\"line_alpha\":1.0,\"line_color\":\"black\",\"line_dash\":[4,4],\"line_width\":2,\"right_units\":\"screen\",\"top_units\":\"screen\"},\"id\":\"1712\",\"type\":\"BoxAnnotation\"},{\"attributes\":{},\"id\":\"1694\",\"type\":\"LinearScale\"},{\"attributes\":{},\"id\":\"1745\",\"type\":\"Selection\"},{\"attributes\":{},\"id\":\"1703\",\"type\":\"BasicTicker\"},{\"attributes\":{\"data\":{\"x\":{\"__ndarray__\":\"AACAwn1sjsIAACA5wDGOwgAAwK8C943CAACA8xu8jcIAACBqXoGNwgAAwOCgRo3CAABgV+MLjcIAACCb/NCMwgAAwBE/lozCAABgiIFbjMIAAAD/wyCMwgAAwELd5YvCAABguR+ri8IAAAAwYnCLwgAAoKakNYvCAABg6r36isIAAABhAMCKwgAAoNdChYrCAABAToVKisIAAACSng+KwgAAoAjh1InCAABAfyOaicIAAOD1ZV+JwgAAoDl/JInCAABAsMHpiMIAAOAmBK+IwgAAgJ1GdIjCAABA4V85iMIAAOBXov6HwgAAgM7kw4fCAAAgRSeJh8IAAOCIQE6HwgAAgP+CE4fCAAAgdsXYhsIAAMDsB56GwgAAgDAhY4bCAAAgp2MohsIAAMAdpu2FwgAAYJTosoXCAAAg2AF4hcIAAMBORD2FwgAAYMWGAoXCAAAAPMnHhMIAAMB/4oyEwgAAYPYkUoTCAAAAbWcXhMIAAKDjqdyDwgAAYCfDoYPCAAAAngVng8IAAKAUSCyDwgAAQIuK8YLCAAAAz6O2gsIAAKBF5nuCwgAAQLwoQYLCAADgMmsGgsIAAKB2hMuBwgAAQO3GkIHCAADgYwlWgcIAAIDaSxuBwgAAQB5l4IDCAADglKelgMIAAIAL6mqAwgAAIIIsMIDCAACA8d3qf8IAAMDeYnV/wgAAAMzn/37CAABAuWyKfsIAAMBAnxR+wgAAAC4kn33CAABAG6kpfcIAAIAILrR8wgAAAJBgPnzCAABAfeXIe8IAAIBqalN7wgAAwFfv3XrCAABA3yFoesIAAIDMpvJ5wgAAwLkrfXnCAAAAp7AHecIAAIAu45F4wgAAwBtoHHjCAAAACe2md8IAAED2cTF3wgAAwH2ku3bCAAAAaylGdsIAAEBYrtB1wgAAgEUzW3XCAAAAzWXldMIAAEC66m90wgAAgKdv+nPCAADAlPSEc8IAAEAcJw9zwgAAgAmsmXLCAADA9jAkcsIAAADkta5xwgAAgGvoOHHCAADAWG3DcMIAAABG8k1wwgAAgGbusG/CAACAdVPFbsIAAABQXdptwgAAgCpn72zCAAAABXEEbMIAAAAU1hhrwgAAgO7fLWrCAAAAyelCacIAAICj81dowgAAgLJYbGfCAAAAjWKBZsIAAIBnbJZlwgAAAEJ2q2TCAAAAUdu/Y8IAAIAr5dRiwgAAAAbv6WHCAACA4Pj+YMIAAIDvXRNgwgAAAJTPUF7CAAAASeN6XMIAAAD+9qRawgAAABzBzVjCAAAA0dT3VsIAAACG6CFVwgAAADv8S1PCAAAAWcZ0UcIAAAActD1PwgAAAIbbkUvCAAAA8ALmR8IAAAAslzdEwgAAAJa+i0DCAAAAAMy/OcIAAADUGmgywgAAAJiGFibCAAAAAJGcDcIAAABg+CANQgAAAHCg9yVCAAAAwKdYMkIAAADsWLA5QgAAAAwFhEBCAAAAot0vREIAAABmSd5HQgAAAPwhiktCAAAAkvo1T0IAAACU6XBRQgAAAHYfSFNCAAAAwQseVUIAAAAM+PNWQgAAAFfkyVhCAAAAORqhWkIAAACEBndcQgAAAM/yTF5CAAAAjW8RYEIAAAB+Cv1gQgAAgKMA6GFCAAAAyfbSYkIAAIDu7L1jQgAAgN+HqWRCAAAABX6UZUIAAIAqdH9mQgAAAFBqamdCAAAAQQVWaEIAAIBm+0BpQgAAAIzxK2pCAACAsecWa0IAAICiggJsQgAAAMh47WxCAACA7W7YbUIAAAATZcNuQgAAAAQAr29CAADAFPtMcEIAAIAndsJwQgAAQDrxN3FCAADAsr6tcUIAAIDFOSNyQgAAQNi0mHJCAAAA6y8Oc0IAAIBj/YNzQgAAQHZ4+XNC\",\"dtype\":\"float64\",\"order\":\"little\",\"shape\":[177]},\"y\":{\"__ndarray__\":\"JzEIrBx6PECTGARWDu08QPLSTWIQWD1Ag8DKoUWWPkB/arx0k9g9QB+F61G4/jtA0SLb+X4KPUAnMQisHFo9QDEIrBxa5DxAVg4tsp2PPUDufD81Xho+QESLbOf7KT1A+n5qvHQzPUDvp8ZLN6k9QJzEILByKD1AVOOlm8RAPUD8qfHSTUI9QGiR7Xw/dTxAbhKDwMoBPUBSuB6F61E9QLFyaJHtvDxArBxaZDt/PUAIrBxaZBs9QEw3iUFgJT5AvHSTGAR2PUBOYhBYOVQ9QHsUrkfhej1AKVyPwvUoPUC4HoXrURg9QFg5tMh2Pj1A4XoUrkfhPEAv3SQGgXU9QCGwcmiRbT1AI9v5fmq8PEA5tMh2vt88QLpJDAIrhz1ApHA9CtcDPUBBYOXQIps8QKjGSzeJIT1A7FG4HoVLPUD8qfHSTaI9QIGVQ4tsJz5AkxgEVg5NPUDjpZvEILA8QHsUrkfhGj1AMQisHFpEPEAhsHJoka09QPyp8dJNYjxAZmZmZmYGPUDAyqFFtnM9QEoMAiuHVjxAUI2XbhLjPEBkO99PjXc9QI/C9ShczzxAYLpJDALrPEAj2/l+ahw9QKwcWmQ73zxAWDm0yHZ+PEADK4cW2W48QNEi2/l+yjxAsXJoke0cPUDfT42XblI9QHNoke18vz1A7FG4HoXLPEDvp8ZLN0k9QOF6FK5HIT1ASgwCK4cWPUBBYOXQIjs9QGZmZmZmRj1A5dAi2/n+PEBiEFg5tAg9QB+F61G4Xj1A001iEFg5PUCcxCCwckg9QGZmZmZmRj1AHVpkO9+vPUAv3SQGgbU9QIlBYOXQQj1AbhKDwMoBPUAOAiuHFtk8QDMzMzMz0z1AcT0K16MwPUAOLbKd7wc9QAMrhxbZjjxAgZVDi2xnPkASg8DKoeU9QIPAyqFFVj1AJzEIrBxaPUBFtvP91Hg9QAaBlUOLDD1Ac2iR7Xy/PUA/NV66Saw8QO58PzVemjxA9P3UeOlmPUAX2c73U+M9QGIQWDm0qDxARbbz/dRYPUAzMzMzMzM9QNV46SYxKD1ArBxaZDtfPUBzaJHtfP89QOkmMQisfD1A/tR46SbRPEBKDAIrh3Y9QOkmMQisnD1ASgwCK4dWPUBBYOXQIls9QKabxCCwMj5A+n5qvHQzPUBuEoPAysE8QFTjpZvEoD1AUrgehevxPUCTGARWDo09QKjGSzeJgT1AFK5H4XoUPUD+1HjpJrE8QNV46SYxKD1AmpmZmZkZPUBkO99Pjdc9QBgEVg4tcj1A001iEFh5PED+1HjpJnE9QFyPwvUo3DxAmpmZmZk5PUB56SYxCMw9QDeJQWDlUD1A8tJNYhCYPUB3vp8aL709QH9qvHSTOD1A001iEFgZPUA3XrpJDII9QCGwcmiRrTxAL90kBoH1PEAX2c73U0M9QBfZzvdTQz1ARbbz/dQYPUDXo3A9Cnc9QM/3U+Ol2zxASgwCK4c2PkBcj8L1KJw9QN9PjZduUj5AjWzn+6lRPUCDwMqhRTY+QG3n+6nx8j1AYhBYObSoPUAj2/l+avw8QDdeukkMoj5AnMQgsHKoPUBiEFg5tOg9QLTIdr6fmj1Avp8aL91EPUA/NV66SUw+QBKDwMqhpT5Asp3vp8ZLPkCq8dJNYvA9QO58PzVeej1AGy/dJAZhPUAxCKwcWiQ+QFK4HoXrsT5AmpmZmZm5PUAUrkfhevQ+QFCNl24Soz5A16NwPQrXPUASg8DKoQU+QBKDwMqhxT5AsXJoke18PkBU46WbxCA/QPhT46WbpD1AsXJoke1cP0DsUbgehes+QAaBlUOLbD5Avp8aL90kP0DFILByaDE/QC2yne+npj9AYhBYObQIP0CkcD0K1yM/QC/dJAaBdT9A\",\"dtype\":\"float64\",\"order\":\"little\",\"shape\":[177]}},\"selected\":{\"id\":\"1745\"},\"selection_policy\":{\"id\":\"1744\"}},\"id\":\"1720\",\"type\":\"ColumnDataSource\"},{\"attributes\":{\"axis\":{\"id\":\"1702\"},\"band_fill_alpha\":0.1,\"band_fill_color\":\"olive\",\"dimension\":1,\"grid_line_alpha\":0,\"ticker\":null},\"id\":\"1705\",\"type\":\"Grid\"},{\"attributes\":{},\"id\":\"1692\",\"type\":\"DataRange1d\"},{\"attributes\":{},\"id\":\"1710\",\"type\":\"ResetTool\"},{\"attributes\":{},\"id\":\"1711\",\"type\":\"HelpTool\"},{\"attributes\":{\"days\":[1,2,3,4,5,6,7,8,9,10,11,12,13,14,15,16,17,18,19,20,21,22,23,24,25,26,27,28,29,30,31]},\"id\":\"1734\",\"type\":\"DaysTicker\"},{\"attributes\":{\"months\":[0,1,2,3,4,5,6,7,8,9,10,11]},\"id\":\"1738\",\"type\":\"MonthsTicker\"},{\"attributes\":{\"fill_alpha\":{\"value\":0.2},\"fill_color\":{\"value\":\"darkgreen\"},\"line_alpha\":{\"value\":0.2},\"line_color\":{\"value\":\"darkgreen\"},\"x\":{\"field\":\"x\"},\"y\":{\"field\":\"y\"}},\"id\":\"1721\",\"type\":\"Circle\"},{\"attributes\":{\"axis\":{\"id\":\"1698\"},\"grid_line_alpha\":0,\"ticker\":null},\"id\":\"1701\",\"type\":\"Grid\"},{\"attributes\":{},\"id\":\"1706\",\"type\":\"PanTool\"},{\"attributes\":{\"text\":\"Iran Temp in July\"},\"id\":\"1726\",\"type\":\"Title\"},{\"attributes\":{\"axis_label\":\"Temperature\",\"formatter\":{\"id\":\"1730\"},\"ticker\":{\"id\":\"1703\"}},\"id\":\"1702\",\"type\":\"LinearAxis\"},{\"attributes\":{},\"id\":\"1742\",\"type\":\"YearsTicker\"},{\"attributes\":{\"mantissas\":[1,2,5],\"max_interval\":500.0,\"num_minor_ticks\":0},\"id\":\"1731\",\"type\":\"AdaptiveTicker\"},{\"attributes\":{\"label\":{\"value\":\"Iran\"},\"renderers\":[{\"id\":\"1723\"}]},\"id\":\"1747\",\"type\":\"LegendItem\"},{\"attributes\":{\"days\":[1,8,15,22]},\"id\":\"1736\",\"type\":\"DaysTicker\"},{\"attributes\":{\"days\":[1,4,7,10,13,16,19,22,25,28]},\"id\":\"1735\",\"type\":\"DaysTicker\"},{\"attributes\":{\"months\":[0,2,4,6,8,10]},\"id\":\"1739\",\"type\":\"MonthsTicker\"},{\"attributes\":{\"data_source\":{\"id\":\"1720\"},\"glyph\":{\"id\":\"1721\"},\"hover_glyph\":null,\"muted_glyph\":null,\"nonselection_glyph\":{\"id\":\"1722\"},\"selection_glyph\":null,\"view\":{\"id\":\"1724\"}},\"id\":\"1723\",\"type\":\"GlyphRenderer\"},{\"attributes\":{\"base\":60,\"mantissas\":[1,2,5,10,15,20,30],\"max_interval\":1800000.0,\"min_interval\":1000.0,\"num_minor_ticks\":0},\"id\":\"1732\",\"type\":\"AdaptiveTicker\"},{\"attributes\":{\"axis_label\":\"Date\",\"formatter\":{\"id\":\"1728\"},\"ticker\":{\"id\":\"1699\"}},\"id\":\"1698\",\"type\":\"DatetimeAxis\"},{\"attributes\":{\"overlay\":{\"id\":\"1712\"}},\"id\":\"1708\",\"type\":\"BoxZoomTool\"},{\"attributes\":{\"source\":{\"id\":\"1720\"}},\"id\":\"1724\",\"type\":\"CDSView\"},{\"attributes\":{\"fill_alpha\":{\"value\":0.1},\"fill_color\":{\"value\":\"darkgreen\"},\"line_alpha\":{\"value\":0.1},\"line_color\":{\"value\":\"darkgreen\"},\"x\":{\"field\":\"x\"},\"y\":{\"field\":\"y\"}},\"id\":\"1722\",\"type\":\"Circle\"},{\"attributes\":{},\"id\":\"1730\",\"type\":\"BasicTickFormatter\"},{\"attributes\":{},\"id\":\"1707\",\"type\":\"WheelZoomTool\"},{\"attributes\":{\"days\":[1,15]},\"id\":\"1737\",\"type\":\"DaysTicker\"},{\"attributes\":{\"active_drag\":\"auto\",\"active_inspect\":\"auto\",\"active_multi\":null,\"active_scroll\":\"auto\",\"active_tap\":\"auto\",\"tools\":[{\"id\":\"1706\"},{\"id\":\"1707\"},{\"id\":\"1708\"},{\"id\":\"1709\"},{\"id\":\"1710\"},{\"id\":\"1711\"}]},\"id\":\"1713\",\"type\":\"Toolbar\"},{\"attributes\":{},\"id\":\"1709\",\"type\":\"SaveTool\"}],\"root_ids\":[\"1689\"]},\"title\":\"Bokeh Application\",\"version\":\"2.1.1\"}};\n",
       "  var render_items = [{\"docid\":\"1e3974af-e177-4f16-95aa-6d5ec069abc3\",\"notebook_comms_target\":\"1833\",\"root_ids\":[\"1689\"],\"roots\":{\"1689\":\"b6c6f868-2f3a-4326-ad21-8e34e1cd2929\"}}];\n",
       "  root.Bokeh.embed.embed_items_notebook(docs_json, render_items);\n",
       "\n",
       "  }\n",
       "  if (root.Bokeh !== undefined) {\n",
       "    embed_document(root);\n",
       "  } else {\n",
       "    var attempts = 0;\n",
       "    var timer = setInterval(function(root) {\n",
       "      if (root.Bokeh !== undefined) {\n",
       "        clearInterval(timer);\n",
       "        embed_document(root);\n",
       "      } else {\n",
       "        attempts++;\n",
       "        if (attempts > 100) {\n",
       "          clearInterval(timer);\n",
       "          console.log(\"Bokeh: ERROR: Unable to run BokehJS code because BokehJS library is missing\");\n",
       "        }\n",
       "      }\n",
       "    }, 10, root)\n",
       "  }\n",
       "})(window);"
      ],
      "application/vnd.bokehjs_exec.v0+json": ""
     },
     "metadata": {
      "application/vnd.bokehjs_exec.v0+json": {
       "id": "1689"
      }
     },
     "output_type": "display_data"
    },
    {
     "data": {
      "text/html": [
       "<p><code>&lt;Bokeh Notebook handle for <strong>In[19]</strong>&gt;</code></p>"
      ],
      "text/plain": [
       "<bokeh.io.notebook.CommsHandle at 0x1ffc359d2c8>"
      ]
     },
     "execution_count": 19,
     "metadata": {},
     "output_type": "execute_result"
    }
   ],
   "source": [
    "# prepare some data\n",
    "iran_temp_july = iran_temp[iran_temp.index.month == 7]\n",
    "temp_july = temp[temp.index.month == 7]\n",
    "\n",
    "\n",
    "window_size = 30\n",
    "window = np.ones(window_size)/float(window_size)\n",
    "\n",
    "# output to static HTML file\n",
    "\n",
    "\n",
    "# create a new plot with a datetime axis type\n",
    "p = figure(plot_width=800, plot_height=350, x_axis_type=\"datetime\")\n",
    "\n",
    "# add renderers\n",
    "p.circle(iran_temp_july.index, iran_temp_july.AverageTemperature, size=4, color='darkgreen', \n",
    "         alpha=0.2, legend_label='Iran')\n",
    "#p.line(temp_july.index, percentile_50, color='navy', legend_label='avg')\n",
    "\n",
    "# NEW: customize by setting attributes\n",
    "p.title.text = \"Iran Temp in July\"\n",
    "p.legend.location = \"top_left\"\n",
    "p.grid.grid_line_alpha = 0\n",
    "p.xaxis.axis_label = 'Date'\n",
    "p.yaxis.axis_label = 'Temperature'\n",
    "p.ygrid.band_fill_color = \"olive\"\n",
    "p.ygrid.band_fill_alpha = 0.1\n",
    "\n",
    "# show the results\n",
    "show(p, notebook_handle=True)"
   ]
  },
  {
   "cell_type": "code",
   "execution_count": 21,
   "metadata": {},
   "outputs": [
    {
     "data": {
      "text/plain": [
       "AverageTemperature    17.607076\n",
       "dtype: float64"
      ]
     },
     "execution_count": 21,
     "metadata": {},
     "output_type": "execute_result"
    }
   ],
   "source": [
    "iran_temp.mean()"
   ]
  },
  {
   "cell_type": "code",
   "execution_count": 27,
   "metadata": {},
   "outputs": [
    {
     "data": {
      "text/plain": [
       "AverageTemperature    19.338406\n",
       "dtype: float64"
      ]
     },
     "execution_count": 27,
     "metadata": {},
     "output_type": "execute_result"
    }
   ],
   "source": [
    "iran_temp[iran_temp.index.year > 2010].mean()"
   ]
  },
  {
   "cell_type": "code",
   "execution_count": 24,
   "metadata": {},
   "outputs": [
    {
     "data": {
      "text/plain": [
       "AverageTemperature    29.464723\n",
       "dtype: float64"
      ]
     },
     "execution_count": 24,
     "metadata": {},
     "output_type": "execute_result"
    }
   ],
   "source": [
    "iran_temp[iran_temp.index.month == 7].mean()"
   ]
  },
  {
   "cell_type": "code",
   "execution_count": 29,
   "metadata": {},
   "outputs": [
    {
     "data": {
      "text/plain": [
       "AverageTemperature    31.211\n",
       "dtype: float64"
      ]
     },
     "execution_count": 29,
     "metadata": {},
     "output_type": "execute_result"
    }
   ],
   "source": [
    "iran_temp[(iran_temp.index.month == 7) & (iran_temp.index.year > 2010)].mean()"
   ]
  },
  {
   "cell_type": "code",
   "execution_count": 40,
   "metadata": {},
   "outputs": [
    {
     "data": {
      "text/html": [
       "\n",
       "\n",
       "\n",
       "\n",
       "\n",
       "\n",
       "  <div class=\"bk-root\" id=\"9eb4b551-2287-480b-9814-5b536e1e8961\" data-root-id=\"2283\"></div>\n"
      ]
     },
     "metadata": {},
     "output_type": "display_data"
    },
    {
     "data": {
      "application/javascript": [
       "(function(root) {\n",
       "  function embed_document(root) {\n",
       "    \n",
       "  var docs_json = {\"748fb80c-92e2-4753-81df-748f2a103d72\":{\"roots\":{\"references\":[{\"attributes\":{\"below\":[{\"id\":\"2292\"}],\"center\":[{\"id\":\"2295\"},{\"id\":\"2299\"},{\"id\":\"2340\"}],\"left\":[{\"id\":\"2296\"}],\"plot_height\":350,\"plot_width\":800,\"renderers\":[{\"id\":\"2317\"}],\"title\":{\"id\":\"2320\"},\"toolbar\":{\"id\":\"2307\"},\"x_range\":{\"id\":\"2284\"},\"x_scale\":{\"id\":\"2288\"},\"y_range\":{\"id\":\"2286\"},\"y_scale\":{\"id\":\"2290\"}},\"id\":\"2283\",\"subtype\":\"Figure\",\"type\":\"Plot\"},{\"attributes\":{\"axis\":{\"id\":\"2296\"},\"band_fill_alpha\":0.1,\"band_fill_color\":\"olive\",\"dimension\":1,\"grid_line_alpha\":0,\"ticker\":null},\"id\":\"2299\",\"type\":\"Grid\"},{\"attributes\":{},\"id\":\"2339\",\"type\":\"Selection\"},{\"attributes\":{\"data_source\":{\"id\":\"2314\"},\"glyph\":{\"id\":\"2315\"},\"hover_glyph\":null,\"muted_glyph\":null,\"nonselection_glyph\":{\"id\":\"2316\"},\"selection_glyph\":null,\"view\":{\"id\":\"2318\"}},\"id\":\"2317\",\"type\":\"GlyphRenderer\"},{\"attributes\":{\"line_color\":\"navy\",\"x\":{\"field\":\"x\"},\"y\":{\"field\":\"y\"}},\"id\":\"2315\",\"type\":\"Line\"},{\"attributes\":{\"source\":{\"id\":\"2314\"}},\"id\":\"2318\",\"type\":\"CDSView\"},{\"attributes\":{\"line_alpha\":0.1,\"line_color\":\"navy\",\"x\":{\"field\":\"x\"},\"y\":{\"field\":\"y\"}},\"id\":\"2316\",\"type\":\"Line\"},{\"attributes\":{\"months\":[0,2,4,6,8,10]},\"id\":\"2333\",\"type\":\"MonthsTicker\"},{\"attributes\":{\"bottom_units\":\"screen\",\"fill_alpha\":0.5,\"fill_color\":\"lightgrey\",\"left_units\":\"screen\",\"level\":\"overlay\",\"line_alpha\":1.0,\"line_color\":\"black\",\"line_dash\":[4,4],\"line_width\":2,\"right_units\":\"screen\",\"top_units\":\"screen\"},\"id\":\"2306\",\"type\":\"BoxAnnotation\"},{\"attributes\":{\"text\":\"Iran Temp in after 2010\"},\"id\":\"2320\",\"type\":\"Title\"},{\"attributes\":{\"base\":60,\"mantissas\":[1,2,5,10,15,20,30],\"max_interval\":1800000.0,\"min_interval\":1000.0,\"num_minor_ticks\":0},\"id\":\"2326\",\"type\":\"AdaptiveTicker\"},{\"attributes\":{},\"id\":\"2288\",\"type\":\"LinearScale\"},{\"attributes\":{\"label\":{\"value\":\"avg\"},\"renderers\":[{\"id\":\"2317\"}]},\"id\":\"2341\",\"type\":\"LegendItem\"},{\"attributes\":{\"months\":[0,1,2,3,4,5,6,7,8,9,10,11]},\"id\":\"2332\",\"type\":\"MonthsTicker\"},{\"attributes\":{\"items\":[{\"id\":\"2341\"}],\"location\":\"top_left\"},\"id\":\"2340\",\"type\":\"Legend\"},{\"attributes\":{},\"id\":\"2297\",\"type\":\"BasicTicker\"},{\"attributes\":{\"days\":[1,15]},\"id\":\"2331\",\"type\":\"DaysTicker\"},{\"attributes\":{\"axis_label\":\"Temperature\",\"formatter\":{\"id\":\"2324\"},\"ticker\":{\"id\":\"2297\"}},\"id\":\"2296\",\"type\":\"LinearAxis\"},{\"attributes\":{\"axis\":{\"id\":\"2292\"},\"grid_line_alpha\":0,\"ticker\":null},\"id\":\"2295\",\"type\":\"Grid\"},{\"attributes\":{},\"id\":\"2322\",\"type\":\"DatetimeTickFormatter\"},{\"attributes\":{\"active_drag\":\"auto\",\"active_inspect\":\"auto\",\"active_multi\":null,\"active_scroll\":\"auto\",\"active_tap\":\"auto\",\"tools\":[{\"id\":\"2300\"},{\"id\":\"2301\"},{\"id\":\"2302\"},{\"id\":\"2303\"},{\"id\":\"2304\"},{\"id\":\"2305\"}]},\"id\":\"2307\",\"type\":\"Toolbar\"},{\"attributes\":{},\"id\":\"2304\",\"type\":\"ResetTool\"},{\"attributes\":{\"months\":[0,4,8]},\"id\":\"2334\",\"type\":\"MonthsTicker\"},{\"attributes\":{},\"id\":\"2286\",\"type\":\"DataRange1d\"},{\"attributes\":{},\"id\":\"2336\",\"type\":\"YearsTicker\"},{\"attributes\":{\"num_minor_ticks\":5,\"tickers\":[{\"id\":\"2325\"},{\"id\":\"2326\"},{\"id\":\"2327\"},{\"id\":\"2328\"},{\"id\":\"2329\"},{\"id\":\"2330\"},{\"id\":\"2331\"},{\"id\":\"2332\"},{\"id\":\"2333\"},{\"id\":\"2334\"},{\"id\":\"2335\"},{\"id\":\"2336\"}]},\"id\":\"2293\",\"type\":\"DatetimeTicker\"},{\"attributes\":{},\"id\":\"2305\",\"type\":\"HelpTool\"},{\"attributes\":{\"days\":[1,2,3,4,5,6,7,8,9,10,11,12,13,14,15,16,17,18,19,20,21,22,23,24,25,26,27,28,29,30,31]},\"id\":\"2328\",\"type\":\"DaysTicker\"},{\"attributes\":{\"days\":[1,4,7,10,13,16,19,22,25,28]},\"id\":\"2329\",\"type\":\"DaysTicker\"},{\"attributes\":{},\"id\":\"2284\",\"type\":\"DataRange1d\"},{\"attributes\":{},\"id\":\"2338\",\"type\":\"UnionRenderers\"},{\"attributes\":{\"months\":[0,6]},\"id\":\"2335\",\"type\":\"MonthsTicker\"},{\"attributes\":{\"axis_label\":\"Date\",\"formatter\":{\"id\":\"2322\"},\"ticker\":{\"id\":\"2293\"}},\"id\":\"2292\",\"type\":\"DatetimeAxis\"},{\"attributes\":{},\"id\":\"2303\",\"type\":\"SaveTool\"},{\"attributes\":{\"data\":{\"x\":{\"__ndarray__\":\"AABA+u3TckIAAIBM6N1yQgAAgG3r5nJCAADAv+XwckIAAECsjfpyQgAAgP6HBHNCAAAA6y8Oc0IAAEA9KhhzQgAAgI8kInNCAAAAfMwrc0IAAEDOxjVzQgAAwLpuP3NCAAAADWlJc0IAAEBfY1NzQgAAAOa4XHNCAABAOLNmc0IAAMAkW3BzQgAAAHdVenNCAACAY/2Dc0IAAMC1941zQgAAAAjyl3NCAACA9Jmhc0IAAMBGlKtzQgAAQDM8tXNCAACAhTa/c0IAAMDXMMlzQgAAwPgz0nNCAAAASy7cc0IAAIA31uVzQgAAwInQ73NCAABAdnj5c0IAAIDIcgN0Qg==\",\"dtype\":\"float64\",\"order\":\"little\",\"shape\":[32]},\"y\":{\"__ndarray__\":\"sXJoke18GUAfhetRuB4gQKwcWmQ7HypA9ihcj8JVM0DazvdT44U5QFCNl24SAz5AYhBYObQIP0B3vp8aLx0+QLFyaJHt3DlA/tR46SaRM0CHFtnO99MmQIXrUbgehRpAT42XbhKDGEBkEFg5tMgZQB1aZDvfzydAarx0kxgkM0DazvdT42U5QG8Sg8DKgTxApHA9CtcjP0DRItv5fgo+QG4Sg8DKATpA2/l+arx0NEAmMQisHBosQNejcD0KlyBAkxgEVg6tHkCWQ4ts57sjQOxRuB6F6ytA0SLb+X5qMkBzaJHtfB84QCPb+X5qXD1AL90kBoF1P0APAiuHFnk9QA==\",\"dtype\":\"float64\",\"order\":\"little\",\"shape\":[32]}},\"selected\":{\"id\":\"2339\"},\"selection_policy\":{\"id\":\"2338\"}},\"id\":\"2314\",\"type\":\"ColumnDataSource\"},{\"attributes\":{\"days\":[1,8,15,22]},\"id\":\"2330\",\"type\":\"DaysTicker\"},{\"attributes\":{\"base\":24,\"mantissas\":[1,2,4,6,8,12],\"max_interval\":43200000.0,\"min_interval\":3600000.0,\"num_minor_ticks\":0},\"id\":\"2327\",\"type\":\"AdaptiveTicker\"},{\"attributes\":{\"overlay\":{\"id\":\"2306\"}},\"id\":\"2302\",\"type\":\"BoxZoomTool\"},{\"attributes\":{},\"id\":\"2290\",\"type\":\"LinearScale\"},{\"attributes\":{},\"id\":\"2324\",\"type\":\"BasicTickFormatter\"},{\"attributes\":{},\"id\":\"2301\",\"type\":\"WheelZoomTool\"},{\"attributes\":{},\"id\":\"2300\",\"type\":\"PanTool\"},{\"attributes\":{\"mantissas\":[1,2,5],\"max_interval\":500.0,\"num_minor_ticks\":0},\"id\":\"2325\",\"type\":\"AdaptiveTicker\"}],\"root_ids\":[\"2283\"]},\"title\":\"Bokeh Application\",\"version\":\"2.1.1\"}};\n",
       "  var render_items = [{\"docid\":\"748fb80c-92e2-4753-81df-748f2a103d72\",\"notebook_comms_target\":\"2469\",\"root_ids\":[\"2283\"],\"roots\":{\"2283\":\"9eb4b551-2287-480b-9814-5b536e1e8961\"}}];\n",
       "  root.Bokeh.embed.embed_items_notebook(docs_json, render_items);\n",
       "\n",
       "  }\n",
       "  if (root.Bokeh !== undefined) {\n",
       "    embed_document(root);\n",
       "  } else {\n",
       "    var attempts = 0;\n",
       "    var timer = setInterval(function(root) {\n",
       "      if (root.Bokeh !== undefined) {\n",
       "        clearInterval(timer);\n",
       "        embed_document(root);\n",
       "      } else {\n",
       "        attempts++;\n",
       "        if (attempts > 100) {\n",
       "          clearInterval(timer);\n",
       "          console.log(\"Bokeh: ERROR: Unable to run BokehJS code because BokehJS library is missing\");\n",
       "        }\n",
       "      }\n",
       "    }, 10, root)\n",
       "  }\n",
       "})(window);"
      ],
      "application/vnd.bokehjs_exec.v0+json": ""
     },
     "metadata": {
      "application/vnd.bokehjs_exec.v0+json": {
       "id": "2283"
      }
     },
     "output_type": "display_data"
    },
    {
     "data": {
      "text/html": [
       "<p><code>&lt;Bokeh Notebook handle for <strong>In[40]</strong>&gt;</code></p>"
      ],
      "text/plain": [
       "<bokeh.io.notebook.CommsHandle at 0x1ffc681b0c8>"
      ]
     },
     "execution_count": 40,
     "metadata": {},
     "output_type": "execute_result"
    }
   ],
   "source": [
    "# prepare some data\n",
    "iran_temp_after_2010 = iran_temp[iran_temp.index.year > 2010]\n",
    "\n",
    "window_size = 30\n",
    "window = np.ones(window_size)/float(window_size)\n",
    "\n",
    "# create a new plot with a datetime axis type\n",
    "p = figure(plot_width=800, plot_height=350, x_axis_type=\"datetime\")\n",
    "\n",
    "# add renderers\n",
    "#p.circle(iran_temp_july.index, iran_temp_july.AverageTemperature, size=4, color='darkgreen', \n",
    "#         alpha=0.2, legend_label='Iran')\n",
    "p.line(iran_temp_after_2010.index, iran_temp_after_2010['AverageTemperature'], color='navy', legend_label='avg')\n",
    "\n",
    "# NEW: customize by setting attributes\n",
    "p.title.text = \"Iran Temp in after 2010\"\n",
    "p.legend.location = \"top_left\"\n",
    "p.grid.grid_line_alpha = 0\n",
    "p.xaxis.axis_label = 'Date'\n",
    "p.yaxis.axis_label = 'Temperature'\n",
    "p.ygrid.band_fill_color = \"olive\"\n",
    "p.ygrid.band_fill_alpha = 0.1\n",
    "\n",
    "# show the results\n",
    "show(p, notebook_handle=True)"
   ]
  },
  {
   "cell_type": "code",
   "execution_count": 41,
   "metadata": {},
   "outputs": [
    {
     "data": {
      "text/html": [
       "\n",
       "\n",
       "\n",
       "\n",
       "\n",
       "\n",
       "  <div class=\"bk-root\" id=\"05feb5d9-b382-45c3-9eea-811f7ebc1b98\" data-root-id=\"2596\"></div>\n"
      ]
     },
     "metadata": {},
     "output_type": "display_data"
    },
    {
     "data": {
      "application/javascript": [
       "(function(root) {\n",
       "  function embed_document(root) {\n",
       "    \n",
       "  var docs_json = {\"98264367-81b1-4935-9f39-299db8bb0fc9\":{\"roots\":{\"references\":[{\"attributes\":{\"below\":[{\"id\":\"2605\"}],\"center\":[{\"id\":\"2608\"},{\"id\":\"2612\"},{\"id\":\"2653\"}],\"left\":[{\"id\":\"2609\"}],\"plot_height\":350,\"plot_width\":800,\"renderers\":[{\"id\":\"2630\"}],\"title\":{\"id\":\"2633\"},\"toolbar\":{\"id\":\"2620\"},\"x_range\":{\"id\":\"2597\"},\"x_scale\":{\"id\":\"2601\"},\"y_range\":{\"id\":\"2599\"},\"y_scale\":{\"id\":\"2603\"}},\"id\":\"2596\",\"subtype\":\"Figure\",\"type\":\"Plot\"},{\"attributes\":{\"text\":\"Iran Temp in between 2005 and 2010\"},\"id\":\"2633\",\"type\":\"Title\"},{\"attributes\":{\"months\":[0,2,4,6,8,10]},\"id\":\"2646\",\"type\":\"MonthsTicker\"},{\"attributes\":{\"days\":[1,4,7,10,13,16,19,22,25,28]},\"id\":\"2642\",\"type\":\"DaysTicker\"},{\"attributes\":{},\"id\":\"2614\",\"type\":\"WheelZoomTool\"},{\"attributes\":{\"source\":{\"id\":\"2627\"}},\"id\":\"2631\",\"type\":\"CDSView\"},{\"attributes\":{\"items\":[{\"id\":\"2654\"}],\"location\":\"top_left\"},\"id\":\"2653\",\"type\":\"Legend\"},{\"attributes\":{\"axis_label\":\"Temperature\",\"formatter\":{\"id\":\"2637\"},\"ticker\":{\"id\":\"2610\"}},\"id\":\"2609\",\"type\":\"LinearAxis\"},{\"attributes\":{\"num_minor_ticks\":5,\"tickers\":[{\"id\":\"2638\"},{\"id\":\"2639\"},{\"id\":\"2640\"},{\"id\":\"2641\"},{\"id\":\"2642\"},{\"id\":\"2643\"},{\"id\":\"2644\"},{\"id\":\"2645\"},{\"id\":\"2646\"},{\"id\":\"2647\"},{\"id\":\"2648\"},{\"id\":\"2649\"}]},\"id\":\"2606\",\"type\":\"DatetimeTicker\"},{\"attributes\":{},\"id\":\"2613\",\"type\":\"PanTool\"},{\"attributes\":{},\"id\":\"2651\",\"type\":\"UnionRenderers\"},{\"attributes\":{\"axis_label\":\"Date\",\"formatter\":{\"id\":\"2635\"},\"ticker\":{\"id\":\"2606\"}},\"id\":\"2605\",\"type\":\"DatetimeAxis\"},{\"attributes\":{},\"id\":\"2599\",\"type\":\"DataRange1d\"},{\"attributes\":{},\"id\":\"2617\",\"type\":\"ResetTool\"},{\"attributes\":{},\"id\":\"2610\",\"type\":\"BasicTicker\"},{\"attributes\":{},\"id\":\"2635\",\"type\":\"DatetimeTickFormatter\"},{\"attributes\":{},\"id\":\"2616\",\"type\":\"SaveTool\"},{\"attributes\":{\"data\":{\"x\":{\"__ndarray__\":\"AADANjSIcEIAAACJLpJwQgAAAKoxm3BCAABA/CulcEIAAMDo065wQgAAADvOuHBCAACAJ3bCcEIAAMB5cMxwQgAAAMxq1nBCAACAuBLgcEIAAMAKDepwQgAAQPe083BCAACASa/9cEIAAMCbqQdxQgAAwLysEHFCAAAAD6cacUIAAID7TiRxQgAAwE1JLnFCAABAOvE3cUIAAICM60FxQgAAwN7lS3FCAABAy41VcUIAAIAdiF9xQgAAAAowaXFCAABAXCpzcUIAAICuJH1xQgAAQDV6hnFCAACAh3SQcUIAAAB0HJpxQgAAQMYWpHFCAADAsr6tcUIAAAAFubdxQgAAQFezwXFCAADAQ1vLcUIAAACWVdVxQgAAgIL93nFCAADA1PfocUIAAAAn8vJxQgAAAEj1+3FCAABAmu8FckIAAMCGlw9yQgAAANmRGXJCAACAxTkjckIAAMAXNC1yQgAAAGouN3JCAACAVtZAckIAAMCo0EpyQgAAQJV4VHJCAACA53JeckIAAMA5bWhyQgAAwFpwcXJCAAAArWp7ckIAAICZEoVyQgAAwOsMj3JCAABA2LSYckIAAIAqr6JyQgAAwHyprHJCAABAaVG2ckIAAIC7S8ByQgAAAKjzyXJC\",\"dtype\":\"float64\",\"order\":\"little\",\"shape\":[60]},\"y\":{\"__ndarray__\":\"bxKDwMqhE0B7FK5H4TolQHNoke18fyxAgZVDi2wnM0AX2c73U6M5QEjhehSupz1A7FG4HoXrPkAshxbZzhc+QBsv3SQGgTlA001iEFiZNUC4HoXrUTgqQDEIrBxaZBRANTMzMzMzFEBCYOXQIhsiQN0kBoGVQyhABoGVQ4vsMkDNzMzMzMw4QH0/NV66KT1ABoGVQ4tsPkCPwvUoXE89QH0/NV66aTlASOF6FK4HM0AfhetRuN4sQLTIdr6fmhxABCuHFtnO8T9cj8L1KFwaQLbz/dR4yTBAYhBYObRoNEAj2/l+ajw5QA3Xo3A9qj1Avp8aL90kP0DD9Shcj4I9QEjhehSuRzpAFK5H4Xp0NECgGi/dJMYoQG0Sg8DKIR1A5tAi2/n+FkBeukkMAmslQE5iEFg5NC1A30+Nl24SMEDHSzeJQeA4QNrO91PjBTxAxSCwcmgxP0Dwp8ZLN2k+QIPAyqFFtjlAVOOlm8TAM0CWQ4ts5/sqQIxs5/upcSFARIts5/tpIkBANV66SYwkQJQYBFYODTBAQWDl0CLbM0Cyne+nxgs5QLgehetR+D1ALbKd76emP0DkehSuR4E9QDdeukkMwjlAAAAAAADgNUCoxks3iUEqQBODwMqhhSFA\",\"dtype\":\"float64\",\"order\":\"little\",\"shape\":[60]}},\"selected\":{\"id\":\"2652\"},\"selection_policy\":{\"id\":\"2651\"}},\"id\":\"2627\",\"type\":\"ColumnDataSource\"},{\"attributes\":{\"days\":[1,15]},\"id\":\"2644\",\"type\":\"DaysTicker\"},{\"attributes\":{},\"id\":\"2649\",\"type\":\"YearsTicker\"},{\"attributes\":{},\"id\":\"2618\",\"type\":\"HelpTool\"},{\"attributes\":{\"line_alpha\":0.1,\"line_color\":\"navy\",\"x\":{\"field\":\"x\"},\"y\":{\"field\":\"y\"}},\"id\":\"2629\",\"type\":\"Line\"},{\"attributes\":{\"months\":[0,6]},\"id\":\"2648\",\"type\":\"MonthsTicker\"},{\"attributes\":{\"base\":24,\"mantissas\":[1,2,4,6,8,12],\"max_interval\":43200000.0,\"min_interval\":3600000.0,\"num_minor_ticks\":0},\"id\":\"2640\",\"type\":\"AdaptiveTicker\"},{\"attributes\":{},\"id\":\"2652\",\"type\":\"Selection\"},{\"attributes\":{\"label\":{\"value\":\"avg\"},\"renderers\":[{\"id\":\"2630\"}]},\"id\":\"2654\",\"type\":\"LegendItem\"},{\"attributes\":{\"bottom_units\":\"screen\",\"fill_alpha\":0.5,\"fill_color\":\"lightgrey\",\"left_units\":\"screen\",\"level\":\"overlay\",\"line_alpha\":1.0,\"line_color\":\"black\",\"line_dash\":[4,4],\"line_width\":2,\"right_units\":\"screen\",\"top_units\":\"screen\"},\"id\":\"2619\",\"type\":\"BoxAnnotation\"},{\"attributes\":{\"days\":[1,8,15,22]},\"id\":\"2643\",\"type\":\"DaysTicker\"},{\"attributes\":{\"months\":[0,4,8]},\"id\":\"2647\",\"type\":\"MonthsTicker\"},{\"attributes\":{},\"id\":\"2603\",\"type\":\"LinearScale\"},{\"attributes\":{},\"id\":\"2597\",\"type\":\"DataRange1d\"},{\"attributes\":{},\"id\":\"2637\",\"type\":\"BasicTickFormatter\"},{\"attributes\":{\"data_source\":{\"id\":\"2627\"},\"glyph\":{\"id\":\"2628\"},\"hover_glyph\":null,\"muted_glyph\":null,\"nonselection_glyph\":{\"id\":\"2629\"},\"selection_glyph\":null,\"view\":{\"id\":\"2631\"}},\"id\":\"2630\",\"type\":\"GlyphRenderer\"},{\"attributes\":{\"overlay\":{\"id\":\"2619\"}},\"id\":\"2615\",\"type\":\"BoxZoomTool\"},{\"attributes\":{\"mantissas\":[1,2,5],\"max_interval\":500.0,\"num_minor_ticks\":0},\"id\":\"2638\",\"type\":\"AdaptiveTicker\"},{\"attributes\":{\"days\":[1,2,3,4,5,6,7,8,9,10,11,12,13,14,15,16,17,18,19,20,21,22,23,24,25,26,27,28,29,30,31]},\"id\":\"2641\",\"type\":\"DaysTicker\"},{\"attributes\":{\"axis\":{\"id\":\"2605\"},\"grid_line_alpha\":0,\"ticker\":null},\"id\":\"2608\",\"type\":\"Grid\"},{\"attributes\":{\"months\":[0,1,2,3,4,5,6,7,8,9,10,11]},\"id\":\"2645\",\"type\":\"MonthsTicker\"},{\"attributes\":{\"active_drag\":\"auto\",\"active_inspect\":\"auto\",\"active_multi\":null,\"active_scroll\":\"auto\",\"active_tap\":\"auto\",\"tools\":[{\"id\":\"2613\"},{\"id\":\"2614\"},{\"id\":\"2615\"},{\"id\":\"2616\"},{\"id\":\"2617\"},{\"id\":\"2618\"}]},\"id\":\"2620\",\"type\":\"Toolbar\"},{\"attributes\":{\"line_color\":\"navy\",\"x\":{\"field\":\"x\"},\"y\":{\"field\":\"y\"}},\"id\":\"2628\",\"type\":\"Line\"},{\"attributes\":{\"base\":60,\"mantissas\":[1,2,5,10,15,20,30],\"max_interval\":1800000.0,\"min_interval\":1000.0,\"num_minor_ticks\":0},\"id\":\"2639\",\"type\":\"AdaptiveTicker\"},{\"attributes\":{},\"id\":\"2601\",\"type\":\"LinearScale\"},{\"attributes\":{\"axis\":{\"id\":\"2609\"},\"band_fill_alpha\":0.1,\"band_fill_color\":\"olive\",\"dimension\":1,\"grid_line_alpha\":0,\"ticker\":null},\"id\":\"2612\",\"type\":\"Grid\"}],\"root_ids\":[\"2596\"]},\"title\":\"Bokeh Application\",\"version\":\"2.1.1\"}};\n",
       "  var render_items = [{\"docid\":\"98264367-81b1-4935-9f39-299db8bb0fc9\",\"notebook_comms_target\":\"2803\",\"root_ids\":[\"2596\"],\"roots\":{\"2596\":\"05feb5d9-b382-45c3-9eea-811f7ebc1b98\"}}];\n",
       "  root.Bokeh.embed.embed_items_notebook(docs_json, render_items);\n",
       "\n",
       "  }\n",
       "  if (root.Bokeh !== undefined) {\n",
       "    embed_document(root);\n",
       "  } else {\n",
       "    var attempts = 0;\n",
       "    var timer = setInterval(function(root) {\n",
       "      if (root.Bokeh !== undefined) {\n",
       "        clearInterval(timer);\n",
       "        embed_document(root);\n",
       "      } else {\n",
       "        attempts++;\n",
       "        if (attempts > 100) {\n",
       "          clearInterval(timer);\n",
       "          console.log(\"Bokeh: ERROR: Unable to run BokehJS code because BokehJS library is missing\");\n",
       "        }\n",
       "      }\n",
       "    }, 10, root)\n",
       "  }\n",
       "})(window);"
      ],
      "application/vnd.bokehjs_exec.v0+json": ""
     },
     "metadata": {
      "application/vnd.bokehjs_exec.v0+json": {
       "id": "2596"
      }
     },
     "output_type": "display_data"
    },
    {
     "data": {
      "text/html": [
       "<p><code>&lt;Bokeh Notebook handle for <strong>In[41]</strong>&gt;</code></p>"
      ],
      "text/plain": [
       "<bokeh.io.notebook.CommsHandle at 0x1ffc68451c8>"
      ]
     },
     "execution_count": 41,
     "metadata": {},
     "output_type": "execute_result"
    }
   ],
   "source": [
    "# prepare some data\n",
    "iran_temp_between_2005_2010 = iran_temp[(iran_temp.index.year <= 2010) & (iran_temp.index.year > 2005)]\n",
    "\n",
    "window_size = 30\n",
    "window = np.ones(window_size)/float(window_size)\n",
    "\n",
    "# create a new plot with a datetime axis type\n",
    "p = figure(plot_width=800, plot_height=350, x_axis_type=\"datetime\")\n",
    "\n",
    "# add renderers\n",
    "#p.circle(iran_temp_july.index, iran_temp_july.AverageTemperature, size=4, color='darkgreen', \n",
    "#         alpha=0.2, legend_label='Iran')\n",
    "p.line(iran_temp_between_2005_2010.index, iran_temp_between_2005_2010['AverageTemperature'], color='navy', legend_label='avg')\n",
    "\n",
    "# NEW: customize by setting attributes\n",
    "p.title.text = \"Iran Temp in between 2005 and 2010\"\n",
    "p.legend.location = \"top_left\"\n",
    "p.grid.grid_line_alpha = 0\n",
    "p.xaxis.axis_label = 'Date'\n",
    "p.yaxis.axis_label = 'Temperature'\n",
    "p.ygrid.band_fill_color = \"olive\"\n",
    "p.ygrid.band_fill_alpha = 0.1\n",
    "\n",
    "# show the results\n",
    "show(p, notebook_handle=True)"
   ]
  },
  {
   "cell_type": "code",
   "execution_count": 45,
   "metadata": {},
   "outputs": [
    {
     "data": {
      "text/html": [
       "\n",
       "\n",
       "\n",
       "\n",
       "\n",
       "\n",
       "  <div class=\"bk-root\" id=\"e6d439b3-7dfc-463a-975a-ccc649770590\" data-root-id=\"4146\"></div>\n"
      ]
     },
     "metadata": {},
     "output_type": "display_data"
    },
    {
     "data": {
      "application/javascript": [
       "(function(root) {\n",
       "  function embed_document(root) {\n",
       "    \n",
       "  var docs_json = {\"eaac5443-27aa-4f4f-8812-433eed1e8c76\":{\"roots\":{\"references\":[{\"attributes\":{\"below\":[{\"id\":\"4155\"}],\"center\":[{\"id\":\"4158\"},{\"id\":\"4162\"},{\"id\":\"4203\"}],\"left\":[{\"id\":\"4159\"}],\"plot_height\":350,\"plot_width\":800,\"renderers\":[{\"id\":\"4180\"},{\"id\":\"4208\"}],\"title\":{\"id\":\"4183\"},\"toolbar\":{\"id\":\"4170\"},\"x_range\":{\"id\":\"4147\"},\"x_scale\":{\"id\":\"4151\"},\"y_range\":{\"id\":\"4149\"},\"y_scale\":{\"id\":\"4153\"}},\"id\":\"4146\",\"subtype\":\"Figure\",\"type\":\"Plot\"},{\"attributes\":{\"overlay\":{\"id\":\"4169\"}},\"id\":\"4165\",\"type\":\"BoxZoomTool\"},{\"attributes\":{\"fill_alpha\":{\"value\":0.2},\"fill_color\":{\"value\":\"darkgreen\"},\"line_alpha\":{\"value\":0.2},\"line_color\":{\"value\":\"darkgreen\"},\"x\":{\"field\":\"x\"},\"y\":{\"field\":\"y\"}},\"id\":\"4178\",\"type\":\"Circle\"},{\"attributes\":{\"source\":{\"id\":\"4177\"}},\"id\":\"4181\",\"type\":\"CDSView\"},{\"attributes\":{\"source\":{\"id\":\"4205\"}},\"id\":\"4209\",\"type\":\"CDSView\"},{\"attributes\":{},\"id\":\"4153\",\"type\":\"LinearScale\"},{\"attributes\":{\"days\":[1,4,7,10,13,16,19,22,25,28]},\"id\":\"4192\",\"type\":\"DaysTicker\"},{\"attributes\":{\"items\":[{\"id\":\"4204\"},{\"id\":\"4233\"}],\"location\":\"top_left\"},\"id\":\"4203\",\"type\":\"Legend\"},{\"attributes\":{\"fill_alpha\":{\"value\":0.1},\"fill_color\":{\"value\":\"darkgreen\"},\"line_alpha\":{\"value\":0.1},\"line_color\":{\"value\":\"darkgreen\"},\"x\":{\"field\":\"x\"},\"y\":{\"field\":\"y\"}},\"id\":\"4179\",\"type\":\"Circle\"},{\"attributes\":{\"data\":{\"x\":{\"__ndarray__\":\"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\",\"dtype\":\"float64\",\"order\":\"little\",\"shape\":[2075]},\"y\":{\"__ndarray__\":\"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\",\"dtype\":\"float64\",\"order\":\"little\",\"shape\":[2075]}},\"selected\":{\"id\":\"4232\"},\"selection_policy\":{\"id\":\"4231\"}},\"id\":\"4205\",\"type\":\"ColumnDataSource\"},{\"attributes\":{\"mantissas\":[1,2,5],\"max_interval\":500.0,\"num_minor_ticks\":0},\"id\":\"4188\",\"type\":\"AdaptiveTicker\"},{\"attributes\":{\"line_color\":\"navy\",\"x\":{\"field\":\"x\"},\"y\":{\"field\":\"y\"}},\"id\":\"4206\",\"type\":\"Line\"},{\"attributes\":{},\"id\":\"4149\",\"type\":\"DataRange1d\"},{\"attributes\":{\"axis\":{\"id\":\"4159\"},\"band_fill_alpha\":0.1,\"band_fill_color\":\"olive\",\"dimension\":1,\"grid_line_alpha\":0,\"ticker\":null},\"id\":\"4162\",\"type\":\"Grid\"},{\"attributes\":{},\"id\":\"4201\",\"type\":\"UnionRenderers\"},{\"attributes\":{\"days\":[1,2,3,4,5,6,7,8,9,10,11,12,13,14,15,16,17,18,19,20,21,22,23,24,25,26,27,28,29,30,31]},\"id\":\"4191\",\"type\":\"DaysTicker\"},{\"attributes\":{\"axis\":{\"id\":\"4155\"},\"grid_line_alpha\":0,\"ticker\":null},\"id\":\"4158\",\"type\":\"Grid\"},{\"attributes\":{\"months\":[0,6]},\"id\":\"4198\",\"type\":\"MonthsTicker\"},{\"attributes\":{\"bottom_units\":\"screen\",\"fill_alpha\":0.5,\"fill_color\":\"lightgrey\",\"left_units\":\"screen\",\"level\":\"overlay\",\"line_alpha\":1.0,\"line_color\":\"black\",\"line_dash\":[4,4],\"line_width\":2,\"right_units\":\"screen\",\"top_units\":\"screen\"},\"id\":\"4169\",\"type\":\"BoxAnnotation\"},{\"attributes\":{\"label\":{\"value\":\"avg\"},\"renderers\":[{\"id\":\"4208\"}]},\"id\":\"4233\",\"type\":\"LegendItem\"},{\"attributes\":{},\"id\":\"4187\",\"type\":\"BasicTickFormatter\"},{\"attributes\":{\"months\":[0,4,8]},\"id\":\"4197\",\"type\":\"MonthsTicker\"},{\"attributes\":{\"data_source\":{\"id\":\"4205\"},\"glyph\":{\"id\":\"4206\"},\"hover_glyph\":null,\"muted_glyph\":null,\"nonselection_glyph\":{\"id\":\"4207\"},\"selection_glyph\":null,\"view\":{\"id\":\"4209\"}},\"id\":\"4208\",\"type\":\"GlyphRenderer\"},{\"attributes\":{},\"id\":\"4160\",\"type\":\"BasicTicker\"},{\"attributes\":{\"line_alpha\":0.1,\"line_color\":\"navy\",\"x\":{\"field\":\"x\"},\"y\":{\"field\":\"y\"}},\"id\":\"4207\",\"type\":\"Line\"},{\"attributes\":{},\"id\":\"4199\",\"type\":\"YearsTicker\"},{\"attributes\":{\"num_minor_ticks\":5,\"tickers\":[{\"id\":\"4188\"},{\"id\":\"4189\"},{\"id\":\"4190\"},{\"id\":\"4191\"},{\"id\":\"4192\"},{\"id\":\"4193\"},{\"id\":\"4194\"},{\"id\":\"4195\"},{\"id\":\"4196\"},{\"id\":\"4197\"},{\"id\":\"4198\"},{\"id\":\"4199\"}]},\"id\":\"4156\",\"type\":\"DatetimeTicker\"},{\"attributes\":{},\"id\":\"4167\",\"type\":\"ResetTool\"},{\"attributes\":{\"text\":\"Iran Temp before 2010\"},\"id\":\"4183\",\"type\":\"Title\"},{\"attributes\":{\"months\":[0,2,4,6,8,10]},\"id\":\"4196\",\"type\":\"MonthsTicker\"},{\"attributes\":{},\"id\":\"4202\",\"type\":\"Selection\"},{\"attributes\":{},\"id\":\"4231\",\"type\":\"UnionRenderers\"},{\"attributes\":{},\"id\":\"4166\",\"type\":\"SaveTool\"},{\"attributes\":{},\"id\":\"4151\",\"type\":\"LinearScale\"},{\"attributes\":{\"days\":[1,8,15,22]},\"id\":\"4193\",\"type\":\"DaysTicker\"},{\"attributes\":{\"axis_label\":\"Temperature\",\"formatter\":{\"id\":\"4187\"},\"ticker\":{\"id\":\"4160\"}},\"id\":\"4159\",\"type\":\"LinearAxis\"},{\"attributes\":{\"base\":60,\"mantissas\":[1,2,5,10,15,20,30],\"max_interval\":1800000.0,\"min_interval\":1000.0,\"num_minor_ticks\":0},\"id\":\"4189\",\"type\":\"AdaptiveTicker\"},{\"attributes\":{},\"id\":\"4232\",\"type\":\"Selection\"},{\"attributes\":{},\"id\":\"4164\",\"type\":\"WheelZoomTool\"},{\"attributes\":{},\"id\":\"4185\",\"type\":\"DatetimeTickFormatter\"},{\"attributes\":{\"months\":[0,1,2,3,4,5,6,7,8,9,10,11]},\"id\":\"4195\",\"type\":\"MonthsTicker\"},{\"attributes\":{},\"id\":\"4168\",\"type\":\"HelpTool\"},{\"attributes\":{\"active_drag\":\"auto\",\"active_inspect\":\"auto\",\"active_multi\":null,\"active_scroll\":\"auto\",\"active_tap\":\"auto\",\"tools\":[{\"id\":\"4163\"},{\"id\":\"4164\"},{\"id\":\"4165\"},{\"id\":\"4166\"},{\"id\":\"4167\"},{\"id\":\"4168\"}]},\"id\":\"4170\",\"type\":\"Toolbar\"},{\"attributes\":{\"base\":24,\"mantissas\":[1,2,4,6,8,12],\"max_interval\":43200000.0,\"min_interval\":3600000.0,\"num_minor_ticks\":0},\"id\":\"4190\",\"type\":\"AdaptiveTicker\"},{\"attributes\":{},\"id\":\"4147\",\"type\":\"DataRange1d\"},{\"attributes\":{\"label\":{\"value\":\"July\"},\"renderers\":[{\"id\":\"4180\"}]},\"id\":\"4204\",\"type\":\"LegendItem\"},{\"attributes\":{},\"id\":\"4163\",\"type\":\"PanTool\"},{\"attributes\":{\"axis_label\":\"Date\",\"formatter\":{\"id\":\"4185\"},\"ticker\":{\"id\":\"4156\"}},\"id\":\"4155\",\"type\":\"DatetimeAxis\"},{\"attributes\":{\"data\":{\"x\":{\"__ndarray__\":\"AACAwn1sjsIAACA5wDGOwgAAwK8C943CAACA8xu8jcIAACBqXoGNwgAAwOCgRo3CAABgV+MLjcIAACCb/NCMwgAAwBE/lozCAABgiIFbjMIAAAD/wyCMwgAAwELd5YvCAABguR+ri8IAAAAwYnCLwgAAoKakNYvCAABg6r36isIAAABhAMCKwgAAoNdChYrCAABAToVKisIAAACSng+KwgAAoAjh1InCAABAfyOaicIAAOD1ZV+JwgAAoDl/JInCAABAsMHpiMIAAOAmBK+IwgAAgJ1GdIjCAABA4V85iMIAAOBXov6HwgAAgM7kw4fCAAAgRSeJh8IAAOCIQE6HwgAAgP+CE4fCAAAgdsXYhsIAAMDsB56GwgAAgDAhY4bCAAAgp2MohsIAAMAdpu2FwgAAYJTosoXCAAAg2AF4hcIAAMBORD2FwgAAYMWGAoXCAAAAPMnHhMIAAMB/4oyEwgAAYPYkUoTCAAAAbWcXhMIAAKDjqdyDwgAAYCfDoYPCAAAAngVng8IAAKAUSCyDwgAAQIuK8YLCAAAAz6O2gsIAAKBF5nuCwgAAQLwoQYLCAADgMmsGgsIAAKB2hMuBwgAAQO3GkIHCAADgYwlWgcIAAIDaSxuBwgAAQB5l4IDCAADglKelgMIAAIAL6mqAwgAAIIIsMIDCAACA8d3qf8IAAMDeYnV/wgAAAMzn/37CAABAuWyKfsIAAMBAnxR+wgAAAC4kn33CAABAG6kpfcIAAIAILrR8wgAAAJBgPnzCAABAfeXIe8IAAIBqalN7wgAAwFfv3XrCAABA3yFoesIAAIDMpvJ5wgAAwLkrfXnCAAAAp7AHecIAAIAu45F4wgAAwBtoHHjCAAAACe2md8IAAED2cTF3wgAAwH2ku3bCAAAAaylGdsIAAEBYrtB1wgAAgEUzW3XCAAAAzWXldMIAAEC66m90wgAAgKdv+nPCAADAlPSEc8IAAEAcJw9zwgAAgAmsmXLCAADA9jAkcsIAAADkta5xwgAAgGvoOHHCAADAWG3DcMIAAABG8k1wwgAAgGbusG/CAACAdVPFbsIAAABQXdptwgAAgCpn72zCAAAABXEEbMIAAAAU1hhrwgAAgO7fLWrCAAAAyelCacIAAICj81dowgAAgLJYbGfCAAAAjWKBZsIAAIBnbJZlwgAAAEJ2q2TCAAAAUdu/Y8IAAIAr5dRiwgAAAAbv6WHCAACA4Pj+YMIAAIDvXRNgwgAAAJTPUF7CAAAASeN6XMIAAAD+9qRawgAAABzBzVjCAAAA0dT3VsIAAACG6CFVwgAAADv8S1PCAAAAWcZ0UcIAAAActD1PwgAAAIbbkUvCAAAA8ALmR8IAAAAslzdEwgAAAJa+i0DCAAAAAMy/OcIAAADUGmgywgAAAJiGFibCAAAAAJGcDcIAAABg+CANQgAAAHCg9yVCAAAAwKdYMkIAAADsWLA5QgAAAAwFhEBCAAAAot0vREIAAABmSd5HQgAAAPwhiktCAAAAkvo1T0IAAACU6XBRQgAAAHYfSFNCAAAAwQseVUIAAAAM+PNWQgAAAFfkyVhCAAAAORqhWkIAAACEBndcQgAAAM/yTF5CAAAAjW8RYEIAAAB+Cv1gQgAAgKMA6GFCAAAAyfbSYkIAAIDu7L1jQgAAgN+HqWRCAAAABX6UZUIAAIAqdH9mQgAAAFBqamdCAAAAQQVWaEIAAIBm+0BpQgAAAIzxK2pCAACAsecWa0IAAICiggJsQgAAAMh47WxCAACA7W7YbUIAAAATZcNuQgAAAAQAr29CAADAFPtMcEIAAIAndsJwQgAAQDrxN3FCAADAsr6tcUIAAIDFOSNyQgAAQNi0mHJCAAAA6y8Oc0IAAIBj/YNzQgAAQHZ4+XNC\",\"dtype\":\"float64\",\"order\":\"little\",\"shape\":[177]},\"y\":{\"__ndarray__\":\"JzEIrBx6PECTGARWDu08QPLSTWIQWD1Ag8DKoUWWPkB/arx0k9g9QB+F61G4/jtA0SLb+X4KPUAnMQisHFo9QDEIrBxa5DxAVg4tsp2PPUDufD81Xho+QESLbOf7KT1A+n5qvHQzPUDvp8ZLN6k9QJzEILByKD1AVOOlm8RAPUD8qfHSTUI9QGiR7Xw/dTxAbhKDwMoBPUBSuB6F61E9QLFyaJHtvDxArBxaZDt/PUAIrBxaZBs9QEw3iUFgJT5AvHSTGAR2PUBOYhBYOVQ9QHsUrkfhej1AKVyPwvUoPUC4HoXrURg9QFg5tMh2Pj1A4XoUrkfhPEAv3SQGgXU9QCGwcmiRbT1AI9v5fmq8PEA5tMh2vt88QLpJDAIrhz1ApHA9CtcDPUBBYOXQIps8QKjGSzeJIT1A7FG4HoVLPUD8qfHSTaI9QIGVQ4tsJz5AkxgEVg5NPUDjpZvEILA8QHsUrkfhGj1AMQisHFpEPEAhsHJoka09QPyp8dJNYjxAZmZmZmYGPUDAyqFFtnM9QEoMAiuHVjxAUI2XbhLjPEBkO99PjXc9QI/C9ShczzxAYLpJDALrPEAj2/l+ahw9QKwcWmQ73zxAWDm0yHZ+PEADK4cW2W48QNEi2/l+yjxAsXJoke0cPUDfT42XblI9QHNoke18vz1A7FG4HoXLPEDvp8ZLN0k9QOF6FK5HIT1ASgwCK4cWPUBBYOXQIjs9QGZmZmZmRj1A5dAi2/n+PEBiEFg5tAg9QB+F61G4Xj1A001iEFg5PUCcxCCwckg9QGZmZmZmRj1AHVpkO9+vPUAv3SQGgbU9QIlBYOXQQj1AbhKDwMoBPUAOAiuHFtk8QDMzMzMz0z1AcT0K16MwPUAOLbKd7wc9QAMrhxbZjjxAgZVDi2xnPkASg8DKoeU9QIPAyqFFVj1AJzEIrBxaPUBFtvP91Hg9QAaBlUOLDD1Ac2iR7Xy/PUA/NV66Saw8QO58PzVemjxA9P3UeOlmPUAX2c73U+M9QGIQWDm0qDxARbbz/dRYPUAzMzMzMzM9QNV46SYxKD1ArBxaZDtfPUBzaJHtfP89QOkmMQisfD1A/tR46SbRPEBKDAIrh3Y9QOkmMQisnD1ASgwCK4dWPUBBYOXQIls9QKabxCCwMj5A+n5qvHQzPUBuEoPAysE8QFTjpZvEoD1AUrgehevxPUCTGARWDo09QKjGSzeJgT1AFK5H4XoUPUD+1HjpJrE8QNV46SYxKD1AmpmZmZkZPUBkO99Pjdc9QBgEVg4tcj1A001iEFh5PED+1HjpJnE9QFyPwvUo3DxAmpmZmZk5PUB56SYxCMw9QDeJQWDlUD1A8tJNYhCYPUB3vp8aL709QH9qvHSTOD1A001iEFgZPUA3XrpJDII9QCGwcmiRrTxAL90kBoH1PEAX2c73U0M9QBfZzvdTQz1ARbbz/dQYPUDXo3A9Cnc9QM/3U+Ol2zxASgwCK4c2PkBcj8L1KJw9QN9PjZduUj5AjWzn+6lRPUCDwMqhRTY+QG3n+6nx8j1AYhBYObSoPUAj2/l+avw8QDdeukkMoj5AnMQgsHKoPUBiEFg5tOg9QLTIdr6fmj1Avp8aL91EPUA/NV66SUw+QBKDwMqhpT5Asp3vp8ZLPkCq8dJNYvA9QO58PzVeej1AGy/dJAZhPUAxCKwcWiQ+QFK4HoXrsT5AmpmZmZm5PUAUrkfhevQ+QFCNl24Soz5A16NwPQrXPUASg8DKoQU+QBKDwMqhxT5AsXJoke18PkBU46WbxCA/QPhT46WbpD1AsXJoke1cP0DsUbgehes+QAaBlUOLbD5Avp8aL90kP0DFILByaDE/QC2yne+npj9AYhBYObQIP0CkcD0K1yM/QC/dJAaBdT9A\",\"dtype\":\"float64\",\"order\":\"little\",\"shape\":[177]}},\"selected\":{\"id\":\"4202\"},\"selection_policy\":{\"id\":\"4201\"}},\"id\":\"4177\",\"type\":\"ColumnDataSource\"},{\"attributes\":{\"days\":[1,15]},\"id\":\"4194\",\"type\":\"DaysTicker\"},{\"attributes\":{\"data_source\":{\"id\":\"4177\"},\"glyph\":{\"id\":\"4178\"},\"hover_glyph\":null,\"muted_glyph\":null,\"nonselection_glyph\":{\"id\":\"4179\"},\"selection_glyph\":null,\"view\":{\"id\":\"4181\"}},\"id\":\"4180\",\"type\":\"GlyphRenderer\"}],\"root_ids\":[\"4146\"]},\"title\":\"Bokeh Application\",\"version\":\"2.1.1\"}};\n",
       "  var render_items = [{\"docid\":\"eaac5443-27aa-4f4f-8812-433eed1e8c76\",\"notebook_comms_target\":\"4472\",\"root_ids\":[\"4146\"],\"roots\":{\"4146\":\"e6d439b3-7dfc-463a-975a-ccc649770590\"}}];\n",
       "  root.Bokeh.embed.embed_items_notebook(docs_json, render_items);\n",
       "\n",
       "  }\n",
       "  if (root.Bokeh !== undefined) {\n",
       "    embed_document(root);\n",
       "  } else {\n",
       "    var attempts = 0;\n",
       "    var timer = setInterval(function(root) {\n",
       "      if (root.Bokeh !== undefined) {\n",
       "        clearInterval(timer);\n",
       "        embed_document(root);\n",
       "      } else {\n",
       "        attempts++;\n",
       "        if (attempts > 100) {\n",
       "          clearInterval(timer);\n",
       "          console.log(\"Bokeh: ERROR: Unable to run BokehJS code because BokehJS library is missing\");\n",
       "        }\n",
       "      }\n",
       "    }, 10, root)\n",
       "  }\n",
       "})(window);"
      ],
      "application/vnd.bokehjs_exec.v0+json": ""
     },
     "metadata": {
      "application/vnd.bokehjs_exec.v0+json": {
       "id": "4146"
      }
     },
     "output_type": "display_data"
    },
    {
     "data": {
      "text/html": [
       "<p><code>&lt;Bokeh Notebook handle for <strong>In[45]</strong>&gt;</code></p>"
      ],
      "text/plain": [
       "<bokeh.io.notebook.CommsHandle at 0x1ffc74cd308>"
      ]
     },
     "execution_count": 45,
     "metadata": {},
     "output_type": "execute_result"
    }
   ],
   "source": [
    "# prepare some data\n",
    "iran_temp_before_2010 = iran_temp[(iran_temp.index.year < 2010)]\n",
    "\n",
    "window_size = 30\n",
    "window = np.ones(window_size)/float(window_size)\n",
    "\n",
    "# create a new plot with a datetime axis type\n",
    "p = figure(plot_width=800, plot_height=350, x_axis_type=\"datetime\")\n",
    "\n",
    "# add renderers\n",
    "p.circle(iran_temp_july.index, iran_temp_july.AverageTemperature, size=4, color='darkgreen', \n",
    "         alpha=0.2, legend_label='July')\n",
    "p.line(iran_temp_before_2010.index, iran_temp_before_2010['AverageTemperature'], color='navy', legend_label='avg')\n",
    "\n",
    "# NEW: customize by setting attributes\n",
    "p.title.text = \"Iran Temp before 2010\"\n",
    "p.legend.location = \"top_left\"\n",
    "p.grid.grid_line_alpha = 0\n",
    "p.xaxis.axis_label = 'Date'\n",
    "p.yaxis.axis_label = 'Temperature'\n",
    "p.ygrid.band_fill_color = \"olive\"\n",
    "p.ygrid.band_fill_alpha = 0.1\n",
    "\n",
    "# show the results\n",
    "show(p, notebook_handle=True)"
   ]
  },
  {
   "cell_type": "code",
   "execution_count": null,
   "metadata": {},
   "outputs": [],
   "source": []
  }
 ],
 "metadata": {
  "kernelspec": {
   "display_name": "Python 3",
   "language": "python",
   "name": "python3"
  },
  "language_info": {
   "codemirror_mode": {
    "name": "ipython",
    "version": 3
   },
   "file_extension": ".py",
   "mimetype": "text/x-python",
   "name": "python",
   "nbconvert_exporter": "python",
   "pygments_lexer": "ipython3",
   "version": "3.7.7"
  }
 },
 "nbformat": 4,
 "nbformat_minor": 4
}
