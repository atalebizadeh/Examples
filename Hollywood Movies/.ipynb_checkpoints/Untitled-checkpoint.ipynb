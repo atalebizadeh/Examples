{
 "cells": [
  {
   "cell_type": "markdown",
   "id": "c315ed13",
   "metadata": {},
   "source": [
    "The movie industry is a mulit-billion dollar industry with many movies being made. In this notebook we are going to see what makes a movie the most money. Using genres, studios, year, and many other stuff from this dataset.\n",
    "\n",
    "This notebook features:\n",
    "\n",
    "- Genre\n",
    "- Year\n",
    "- Lead studio\n",
    "- Audience score"
   ]
  },
  {
   "cell_type": "markdown",
   "id": "7337e2cd",
   "metadata": {},
   "source": [
    "Importing necessary libraries:"
   ]
  },
  {
   "cell_type": "code",
   "execution_count": 2,
   "id": "42a471d2",
   "metadata": {},
   "outputs": [],
   "source": [
    "import numpy as np\n",
    "import pandas as pd \n",
    "import io\n",
    "pd.plotting.register_matplotlib_converters()\n",
    "import matplotlib.pyplot as plt\n",
    "import matplotlib.animation as animation\n",
    "import plotly.express as px\n",
    "%matplotlib inline\n",
    "import seaborn as sns\n",
    "import pandas_profiling\n",
    "from os import path\n",
    "from PIL import Image\n",
    "from wordcloud import WordCloud, STOPWORDS, ImageColorGenerator\n",
    "from sklearn.preprocessing import StandardScaler, MinMaxScaler, LabelBinarizer\n",
    "import plotly.graph_objects as go\n",
    "import plotly.io as pio\n",
    "pio.templates\n",
    "\n",
    "import os"
   ]
  },
  {
   "cell_type": "code",
   "execution_count": 3,
   "id": "0c448c55",
   "metadata": {},
   "outputs": [
    {
     "data": {
      "text/html": [
       "<div>\n",
       "<style scoped>\n",
       "    .dataframe tbody tr th:only-of-type {\n",
       "        vertical-align: middle;\n",
       "    }\n",
       "\n",
       "    .dataframe tbody tr th {\n",
       "        vertical-align: top;\n",
       "    }\n",
       "\n",
       "    .dataframe thead th {\n",
       "        text-align: right;\n",
       "    }\n",
       "</style>\n",
       "<table border=\"1\" class=\"dataframe\">\n",
       "  <thead>\n",
       "    <tr style=\"text-align: right;\">\n",
       "      <th></th>\n",
       "      <th>Film</th>\n",
       "      <th>Genre</th>\n",
       "      <th>Lead Studio</th>\n",
       "      <th>Audience  score %</th>\n",
       "      <th>Profitability</th>\n",
       "      <th>Rotten Tomatoes %</th>\n",
       "      <th>Worldwide Gross</th>\n",
       "      <th>Year</th>\n",
       "    </tr>\n",
       "  </thead>\n",
       "  <tbody>\n",
       "    <tr>\n",
       "      <th>0</th>\n",
       "      <td>27 Dresses</td>\n",
       "      <td>Comedy</td>\n",
       "      <td>Fox</td>\n",
       "      <td>71.0</td>\n",
       "      <td>5.343622</td>\n",
       "      <td>40.0</td>\n",
       "      <td>160.308654</td>\n",
       "      <td>2008</td>\n",
       "    </tr>\n",
       "    <tr>\n",
       "      <th>1</th>\n",
       "      <td>(500) Days of Summer</td>\n",
       "      <td>Comedy</td>\n",
       "      <td>Fox</td>\n",
       "      <td>81.0</td>\n",
       "      <td>8.096000</td>\n",
       "      <td>87.0</td>\n",
       "      <td>60.720000</td>\n",
       "      <td>2009</td>\n",
       "    </tr>\n",
       "    <tr>\n",
       "      <th>2</th>\n",
       "      <td>A Dangerous Method</td>\n",
       "      <td>Drama</td>\n",
       "      <td>Independent</td>\n",
       "      <td>89.0</td>\n",
       "      <td>0.448645</td>\n",
       "      <td>79.0</td>\n",
       "      <td>8.972895</td>\n",
       "      <td>2011</td>\n",
       "    </tr>\n",
       "    <tr>\n",
       "      <th>3</th>\n",
       "      <td>A Serious Man</td>\n",
       "      <td>Drama</td>\n",
       "      <td>Universal</td>\n",
       "      <td>64.0</td>\n",
       "      <td>4.382857</td>\n",
       "      <td>89.0</td>\n",
       "      <td>30.680000</td>\n",
       "      <td>2009</td>\n",
       "    </tr>\n",
       "    <tr>\n",
       "      <th>4</th>\n",
       "      <td>Across the Universe</td>\n",
       "      <td>Romance</td>\n",
       "      <td>Independent</td>\n",
       "      <td>84.0</td>\n",
       "      <td>0.652603</td>\n",
       "      <td>54.0</td>\n",
       "      <td>29.367143</td>\n",
       "      <td>2007</td>\n",
       "    </tr>\n",
       "  </tbody>\n",
       "</table>\n",
       "</div>"
      ],
      "text/plain": [
       "                   Film    Genre  Lead Studio  Audience  score %  \\\n",
       "0            27 Dresses   Comedy          Fox               71.0   \n",
       "1  (500) Days of Summer   Comedy          Fox               81.0   \n",
       "2    A Dangerous Method    Drama  Independent               89.0   \n",
       "3         A Serious Man    Drama    Universal               64.0   \n",
       "4   Across the Universe  Romance  Independent               84.0   \n",
       "\n",
       "   Profitability  Rotten Tomatoes %  Worldwide Gross  Year  \n",
       "0       5.343622               40.0       160.308654  2008  \n",
       "1       8.096000               87.0        60.720000  2009  \n",
       "2       0.448645               79.0         8.972895  2011  \n",
       "3       4.382857               89.0        30.680000  2009  \n",
       "4       0.652603               54.0        29.367143  2007  "
      ]
     },
     "execution_count": 3,
     "metadata": {},
     "output_type": "execute_result"
    }
   ],
   "source": [
    "df = pd.read_csv('data/HollywoodsMostProfitableStories.csv')\n",
    "df.head()"
   ]
  },
  {
   "cell_type": "code",
   "execution_count": null,
   "id": "07d82929",
   "metadata": {},
   "outputs": [],
   "source": []
  }
 ],
 "metadata": {
  "kernelspec": {
   "display_name": "Python 3",
   "language": "python",
   "name": "python3"
  },
  "language_info": {
   "codemirror_mode": {
    "name": "ipython",
    "version": 3
   },
   "file_extension": ".py",
   "mimetype": "text/x-python",
   "name": "python",
   "nbconvert_exporter": "python",
   "pygments_lexer": "ipython3",
   "version": "3.7.10"
  }
 },
 "nbformat": 4,
 "nbformat_minor": 5
}
