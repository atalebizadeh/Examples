{
 "cells": [
  {
   "cell_type": "code",
   "execution_count": 1,
   "metadata": {},
   "outputs": [],
   "source": [
    "import pandas as pd\n",
    "import numpy as np\n",
    "import matplotlib.pyplot as plt"
   ]
  },
  {
   "cell_type": "code",
   "execution_count": 4,
   "metadata": {},
   "outputs": [],
   "source": [
    "df = pd.read_csv('data/Independence100.csv', index_col='Rank')"
   ]
  },
  {
   "cell_type": "code",
   "execution_count": 5,
   "metadata": {},
   "outputs": [
    {
     "data": {
      "text/html": [
       "<div>\n",
       "<style scoped>\n",
       "    .dataframe tbody tr th:only-of-type {\n",
       "        vertical-align: middle;\n",
       "    }\n",
       "\n",
       "    .dataframe tbody tr th {\n",
       "        vertical-align: top;\n",
       "    }\n",
       "\n",
       "    .dataframe thead th {\n",
       "        text-align: right;\n",
       "    }\n",
       "</style>\n",
       "<table border=\"1\" class=\"dataframe\">\n",
       "  <thead>\n",
       "    <tr style=\"text-align: right;\">\n",
       "      <th></th>\n",
       "      <th>Restaurant</th>\n",
       "      <th>Sales</th>\n",
       "      <th>Average Check</th>\n",
       "      <th>City</th>\n",
       "      <th>State</th>\n",
       "      <th>Meals Served</th>\n",
       "    </tr>\n",
       "    <tr>\n",
       "      <th>Rank</th>\n",
       "      <th></th>\n",
       "      <th></th>\n",
       "      <th></th>\n",
       "      <th></th>\n",
       "      <th></th>\n",
       "      <th></th>\n",
       "    </tr>\n",
       "  </thead>\n",
       "  <tbody>\n",
       "    <tr>\n",
       "      <th>1</th>\n",
       "      <td>Carmine's (Times Square)</td>\n",
       "      <td>39080335.0</td>\n",
       "      <td>40</td>\n",
       "      <td>New York</td>\n",
       "      <td>N.Y.</td>\n",
       "      <td>469803.0</td>\n",
       "    </tr>\n",
       "    <tr>\n",
       "      <th>2</th>\n",
       "      <td>The Boathouse Orlando</td>\n",
       "      <td>35218364.0</td>\n",
       "      <td>43</td>\n",
       "      <td>Orlando</td>\n",
       "      <td>Fla.</td>\n",
       "      <td>820819.0</td>\n",
       "    </tr>\n",
       "    <tr>\n",
       "      <th>3</th>\n",
       "      <td>Old Ebbitt Grill</td>\n",
       "      <td>29104017.0</td>\n",
       "      <td>33</td>\n",
       "      <td>Washington</td>\n",
       "      <td>D.C.</td>\n",
       "      <td>892830.0</td>\n",
       "    </tr>\n",
       "    <tr>\n",
       "      <th>4</th>\n",
       "      <td>LAVO Italian Restaurant &amp; Nightclub</td>\n",
       "      <td>26916180.0</td>\n",
       "      <td>90</td>\n",
       "      <td>New York</td>\n",
       "      <td>N.Y.</td>\n",
       "      <td>198500.0</td>\n",
       "    </tr>\n",
       "    <tr>\n",
       "      <th>5</th>\n",
       "      <td>Bryant Park Grill &amp; Cafe</td>\n",
       "      <td>26900000.0</td>\n",
       "      <td>62</td>\n",
       "      <td>New York</td>\n",
       "      <td>N.Y.</td>\n",
       "      <td>403000.0</td>\n",
       "    </tr>\n",
       "  </tbody>\n",
       "</table>\n",
       "</div>"
      ],
      "text/plain": [
       "                               Restaurant       Sales  Average Check  \\\n",
       "Rank                                                                   \n",
       "1                Carmine's (Times Square)  39080335.0             40   \n",
       "2                   The Boathouse Orlando  35218364.0             43   \n",
       "3                        Old Ebbitt Grill  29104017.0             33   \n",
       "4     LAVO Italian Restaurant & Nightclub  26916180.0             90   \n",
       "5                Bryant Park Grill & Cafe  26900000.0             62   \n",
       "\n",
       "            City State  Meals Served  \n",
       "Rank                                  \n",
       "1       New York  N.Y.      469803.0  \n",
       "2       Orlando   Fla.      820819.0  \n",
       "3     Washington  D.C.      892830.0  \n",
       "4       New York  N.Y.      198500.0  \n",
       "5       New York  N.Y.      403000.0  "
      ]
     },
     "execution_count": 5,
     "metadata": {},
     "output_type": "execute_result"
    }
   ],
   "source": [
    "df.head()"
   ]
  },
  {
   "cell_type": "code",
   "execution_count": 12,
   "metadata": {},
   "outputs": [
    {
     "data": {
      "text/plain": [
       "State\n",
       "Calif.     54.333333\n",
       "Colo.      37.000000\n",
       "D.C.       41.444444\n",
       "Fla.       72.666667\n",
       "Fla.       69.000000\n",
       "Ga.        81.500000\n",
       "Ill.       82.444444\n",
       "Ind.       82.500000\n",
       "Mass.     106.000000\n",
       "Mich.      18.000000\n",
       "N.C.       75.000000\n",
       "N.J.       41.000000\n",
       "N.Y.       76.761905\n",
       "Nev.       97.454545\n",
       "Ore.       83.000000\n",
       "Pa.        35.000000\n",
       "Tenn.      30.500000\n",
       "Texas      36.000000\n",
       "Va.        38.000000\n",
       "Name: Average Check, dtype: float64"
      ]
     },
     "execution_count": 12,
     "metadata": {},
     "output_type": "execute_result"
    }
   ],
   "source": [
    "df.groupby('State')['Average Check'].mean()"
   ]
  },
  {
   "cell_type": "code",
   "execution_count": 15,
   "metadata": {},
   "outputs": [
    {
     "data": {
      "text/plain": [
       "76.76190476190476"
      ]
     },
     "execution_count": 15,
     "metadata": {},
     "output_type": "execute_result"
    }
   ],
   "source": [
    "df[df['State'] == 'N.Y.']['Average Check'].mean()"
   ]
  },
  {
   "cell_type": "code",
   "execution_count": 17,
   "metadata": {},
   "outputs": [
    {
     "data": {
      "text/html": [
       "<div>\n",
       "<style scoped>\n",
       "    .dataframe tbody tr th:only-of-type {\n",
       "        vertical-align: middle;\n",
       "    }\n",
       "\n",
       "    .dataframe tbody tr th {\n",
       "        vertical-align: top;\n",
       "    }\n",
       "\n",
       "    .dataframe thead th {\n",
       "        text-align: right;\n",
       "    }\n",
       "</style>\n",
       "<table border=\"1\" class=\"dataframe\">\n",
       "  <thead>\n",
       "    <tr style=\"text-align: right;\">\n",
       "      <th></th>\n",
       "      <th>Restaurant</th>\n",
       "      <th>Sales</th>\n",
       "      <th>Average Check</th>\n",
       "      <th>City</th>\n",
       "      <th>State</th>\n",
       "      <th>Meals Served</th>\n",
       "    </tr>\n",
       "    <tr>\n",
       "      <th>Rank</th>\n",
       "      <th></th>\n",
       "      <th></th>\n",
       "      <th></th>\n",
       "      <th></th>\n",
       "      <th></th>\n",
       "      <th></th>\n",
       "    </tr>\n",
       "  </thead>\n",
       "  <tbody>\n",
       "    <tr>\n",
       "      <th>52</th>\n",
       "      <td>Abe &amp; Louie's</td>\n",
       "      <td>17063477.0</td>\n",
       "      <td>106</td>\n",
       "      <td>Boston</td>\n",
       "      <td>Mass.</td>\n",
       "      <td>160762.0</td>\n",
       "    </tr>\n",
       "  </tbody>\n",
       "</table>\n",
       "</div>"
      ],
      "text/plain": [
       "         Restaurant       Sales  Average Check    City  State  Meals Served\n",
       "Rank                                                                       \n",
       "52    Abe & Louie's  17063477.0            106  Boston  Mass.      160762.0"
      ]
     },
     "execution_count": 17,
     "metadata": {},
     "output_type": "execute_result"
    }
   ],
   "source": [
    "df[df['State'] == 'Mass.']"
   ]
  },
  {
   "cell_type": "code",
   "execution_count": 20,
   "metadata": {},
   "outputs": [
    {
     "data": {
      "text/plain": [
       "N.Y.      21\n",
       "Ill.      18\n",
       "Calif.    12\n",
       "Nev.      11\n",
       "D.C.       9\n",
       "Fla.       9\n",
       "Texas      3\n",
       "Mich.      2\n",
       "Ga.        2\n",
       "Tenn.      2\n",
       "Ind.       2\n",
       "N.J.       2\n",
       "Pa.        1\n",
       "Mass.      1\n",
       "Va.        1\n",
       "N.C.       1\n",
       "Ore.       1\n",
       "Colo.      1\n",
       "Fla.       1\n",
       "Name: State, dtype: int64"
      ]
     },
     "execution_count": 20,
     "metadata": {},
     "output_type": "execute_result"
    }
   ],
   "source": [
    "df['State'].value_counts()"
   ]
  },
  {
   "cell_type": "code",
   "execution_count": 29,
   "metadata": {},
   "outputs": [
    {
     "data": {
      "image/png": "[encoded data removed]",
      "text/plain": [
       "<Figure size 800x480 with 1 Axes>"
      ]
     },
     "metadata": {
      "needs_background": "light"
     },
     "output_type": "display_data"
    }
   ],
   "source": [
    "plt.figure(figsize=(10, 6), dpi=80)\n",
    "plt.hist(x='State', data=df, bins=19)\n",
    "plt.xticks(rotation=90)\n",
    "plt.show()"
   ]
  },
  {
   "cell_type": "code",
   "execution_count": null,
   "metadata": {},
   "outputs": [],
   "source": []
  }
 ],
 "metadata": {
  "kernelspec": {
   "display_name": "Python 3",
   "language": "python",
   "name": "python3"
  },
  "language_info": {
   "codemirror_mode": {
    "name": "ipython",
    "version": 3
   },
   "file_extension": ".py",
   "mimetype": "text/x-python",
   "name": "python",
   "nbconvert_exporter": "python",
   "pygments_lexer": "ipython3",
   "version": "3.7.7"
  }
 },
 "nbformat": 4,
 "nbformat_minor": 4
}
