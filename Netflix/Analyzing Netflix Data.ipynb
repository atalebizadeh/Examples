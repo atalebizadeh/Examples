{
 "cells": [
  {
   "cell_type": "markdown",
   "metadata": {},
   "source": [
    "#### Project Description:\n",
    "\n",
    "In this project, I’ll apply the Python skills I learned to solve a real-world data science problem. Press “watch next episode” to discover if Netflix’s movies are getting shorter over time, using everything from lists and loops to pandas and matplotlib.\n",
    "\n",
    "I’ll also showcase my experience in an essential data science skill — exploratory data analysis. I'll be performing critical tasks such as manipulating raw data and drawing conclusions from plots created of the data. "
   ]
  },
  {
   "cell_type": "markdown",
   "metadata": {},
   "source": [
    "##### 1. Loading your friend's data into a dictionary:"
   ]
  },
  {
   "cell_type": "code",
   "execution_count": 1,
   "metadata": {},
   "outputs": [],
   "source": [
    "#Let’s import Pandas and read the data into a dataframe:\n",
    "import pandas as pd \n",
    "df = pd.read_csv(\"data/netflix_titles.csv\")"
   ]
  },
  {
   "cell_type": "code",
   "execution_count": 2,
   "metadata": {},
   "outputs": [
    {
     "name": "stdout",
     "output_type": "stream",
     "text": [
      "<class 'pandas.core.frame.DataFrame'>\n",
      "RangeIndex: 7787 entries, 0 to 7786\n",
      "Data columns (total 12 columns):\n",
      " #   Column        Non-Null Count  Dtype \n",
      "---  ------        --------------  ----- \n",
      " 0   show_id       7787 non-null   object\n",
      " 1   type          7787 non-null   object\n",
      " 2   title         7787 non-null   object\n",
      " 3   director      5398 non-null   object\n",
      " 4   cast          7069 non-null   object\n",
      " 5   country       7280 non-null   object\n",
      " 6   date_added    7777 non-null   object\n",
      " 7   release_year  7787 non-null   int64 \n",
      " 8   rating        7780 non-null   object\n",
      " 9   duration      7787 non-null   object\n",
      " 10  listed_in     7787 non-null   object\n",
      " 11  description   7787 non-null   object\n",
      "dtypes: int64(1), object(11)\n",
      "memory usage: 730.2+ KB\n"
     ]
    }
   ],
   "source": [
    "#Let’s look at the info():\n",
    "df.info()"
   ]
  },
  {
   "cell_type": "code",
   "execution_count": 3,
   "metadata": {},
   "outputs": [],
   "source": [
    "#df.shape"
   ]
  },
  {
   "cell_type": "code",
   "execution_count": 4,
   "metadata": {},
   "outputs": [
    {
     "name": "stdout",
     "output_type": "stream",
     "text": [
      "Number of rows: 7787\n",
      "Number of columns: 12\n"
     ]
    }
   ],
   "source": [
    "#Let's take a look at the number of rows in the data:\n",
    "print(\"Number of rows:\", df.shape[0])\n",
    "print(\"Number of columns:\", df.shape[1])"
   ]
  },
  {
   "cell_type": "code",
   "execution_count": 5,
   "metadata": {},
   "outputs": [
    {
     "data": {
      "text/html": [
       "<div>\n",
       "<style scoped>\n",
       "    .dataframe tbody tr th:only-of-type {\n",
       "        vertical-align: middle;\n",
       "    }\n",
       "\n",
       "    .dataframe tbody tr th {\n",
       "        vertical-align: top;\n",
       "    }\n",
       "\n",
       "    .dataframe thead th {\n",
       "        text-align: right;\n",
       "    }\n",
       "</style>\n",
       "<table border=\"1\" class=\"dataframe\">\n",
       "  <thead>\n",
       "    <tr style=\"text-align: right;\">\n",
       "      <th></th>\n",
       "      <th>show_id</th>\n",
       "      <th>type</th>\n",
       "      <th>title</th>\n",
       "      <th>director</th>\n",
       "      <th>cast</th>\n",
       "      <th>country</th>\n",
       "      <th>date_added</th>\n",
       "      <th>release_year</th>\n",
       "      <th>rating</th>\n",
       "      <th>duration</th>\n",
       "      <th>listed_in</th>\n",
       "      <th>description</th>\n",
       "    </tr>\n",
       "  </thead>\n",
       "  <tbody>\n",
       "    <tr>\n",
       "      <th>0</th>\n",
       "      <td>s1</td>\n",
       "      <td>TV Show</td>\n",
       "      <td>3%</td>\n",
       "      <td>NaN</td>\n",
       "      <td>João Miguel, Bianca Comparato, Michel Gomes, R...</td>\n",
       "      <td>Brazil</td>\n",
       "      <td>August 14, 2020</td>\n",
       "      <td>2020</td>\n",
       "      <td>TV-MA</td>\n",
       "      <td>4 Seasons</td>\n",
       "      <td>International TV Shows, TV Dramas, TV Sci-Fi &amp;...</td>\n",
       "      <td>In a future where the elite inhabit an island ...</td>\n",
       "    </tr>\n",
       "    <tr>\n",
       "      <th>1</th>\n",
       "      <td>s2</td>\n",
       "      <td>Movie</td>\n",
       "      <td>7:19</td>\n",
       "      <td>Jorge Michel Grau</td>\n",
       "      <td>Demián Bichir, Héctor Bonilla, Oscar Serrano, ...</td>\n",
       "      <td>Mexico</td>\n",
       "      <td>December 23, 2016</td>\n",
       "      <td>2016</td>\n",
       "      <td>TV-MA</td>\n",
       "      <td>93 min</td>\n",
       "      <td>Dramas, International Movies</td>\n",
       "      <td>After a devastating earthquake hits Mexico Cit...</td>\n",
       "    </tr>\n",
       "    <tr>\n",
       "      <th>2</th>\n",
       "      <td>s3</td>\n",
       "      <td>Movie</td>\n",
       "      <td>23:59</td>\n",
       "      <td>Gilbert Chan</td>\n",
       "      <td>Tedd Chan, Stella Chung, Henley Hii, Lawrence ...</td>\n",
       "      <td>Singapore</td>\n",
       "      <td>December 20, 2018</td>\n",
       "      <td>2011</td>\n",
       "      <td>R</td>\n",
       "      <td>78 min</td>\n",
       "      <td>Horror Movies, International Movies</td>\n",
       "      <td>When an army recruit is found dead, his fellow...</td>\n",
       "    </tr>\n",
       "    <tr>\n",
       "      <th>3</th>\n",
       "      <td>s4</td>\n",
       "      <td>Movie</td>\n",
       "      <td>9</td>\n",
       "      <td>Shane Acker</td>\n",
       "      <td>Elijah Wood, John C. Reilly, Jennifer Connelly...</td>\n",
       "      <td>United States</td>\n",
       "      <td>November 16, 2017</td>\n",
       "      <td>2009</td>\n",
       "      <td>PG-13</td>\n",
       "      <td>80 min</td>\n",
       "      <td>Action &amp; Adventure, Independent Movies, Sci-Fi...</td>\n",
       "      <td>In a postapocalyptic world, rag-doll robots hi...</td>\n",
       "    </tr>\n",
       "    <tr>\n",
       "      <th>4</th>\n",
       "      <td>s5</td>\n",
       "      <td>Movie</td>\n",
       "      <td>21</td>\n",
       "      <td>Robert Luketic</td>\n",
       "      <td>Jim Sturgess, Kevin Spacey, Kate Bosworth, Aar...</td>\n",
       "      <td>United States</td>\n",
       "      <td>January 1, 2020</td>\n",
       "      <td>2008</td>\n",
       "      <td>PG-13</td>\n",
       "      <td>123 min</td>\n",
       "      <td>Dramas</td>\n",
       "      <td>A brilliant group of students become card-coun...</td>\n",
       "    </tr>\n",
       "  </tbody>\n",
       "</table>\n",
       "</div>"
      ],
      "text/plain": [
       "  show_id     type  title           director  \\\n",
       "0      s1  TV Show     3%                NaN   \n",
       "1      s2    Movie   7:19  Jorge Michel Grau   \n",
       "2      s3    Movie  23:59       Gilbert Chan   \n",
       "3      s4    Movie      9        Shane Acker   \n",
       "4      s5    Movie     21     Robert Luketic   \n",
       "\n",
       "                                                cast        country  \\\n",
       "0  João Miguel, Bianca Comparato, Michel Gomes, R...         Brazil   \n",
       "1  Demián Bichir, Héctor Bonilla, Oscar Serrano, ...         Mexico   \n",
       "2  Tedd Chan, Stella Chung, Henley Hii, Lawrence ...      Singapore   \n",
       "3  Elijah Wood, John C. Reilly, Jennifer Connelly...  United States   \n",
       "4  Jim Sturgess, Kevin Spacey, Kate Bosworth, Aar...  United States   \n",
       "\n",
       "          date_added  release_year rating   duration  \\\n",
       "0    August 14, 2020          2020  TV-MA  4 Seasons   \n",
       "1  December 23, 2016          2016  TV-MA     93 min   \n",
       "2  December 20, 2018          2011      R     78 min   \n",
       "3  November 16, 2017          2009  PG-13     80 min   \n",
       "4    January 1, 2020          2008  PG-13    123 min   \n",
       "\n",
       "                                           listed_in  \\\n",
       "0  International TV Shows, TV Dramas, TV Sci-Fi &...   \n",
       "1                       Dramas, International Movies   \n",
       "2                Horror Movies, International Movies   \n",
       "3  Action & Adventure, Independent Movies, Sci-Fi...   \n",
       "4                                             Dramas   \n",
       "\n",
       "                                         description  \n",
       "0  In a future where the elite inhabit an island ...  \n",
       "1  After a devastating earthquake hits Mexico Cit...  \n",
       "2  When an army recruit is found dead, his fellow...  \n",
       "3  In a postapocalyptic world, rag-doll robots hi...  \n",
       "4  A brilliant group of students become card-coun...  "
      ]
     },
     "execution_count": 5,
     "metadata": {},
     "output_type": "execute_result"
    }
   ],
   "source": [
    "#Let’s look at the first five rows of the data:\n",
    "df.head()"
   ]
  },
  {
   "cell_type": "markdown",
   "metadata": {},
   "source": [
    "We can see that there are several categorical columns like 'country', 'rating', 'type'. Let’s define a function that takes as input a data frame, column name, and limit. When called, it prints a dictionary of categorical values and how frequently they appear."
   ]
  },
  {
   "cell_type": "code",
   "execution_count": 6,
   "metadata": {},
   "outputs": [],
   "source": [
    "def return_counter(data_frame, column_name, limit):\n",
    "    from collections import Counter\n",
    "    print(dict(Counter(data_frame[column_name].values).most_common(limit)))\n",
    "    #print(dict(data_frame[column_name].value_counts(dropna=False)[:limit]))"
   ]
  },
  {
   "cell_type": "markdown",
   "metadata": {},
   "source": [
    "Let’s apply our function to the ‘country’ column and limit our results to the five most common values."
   ]
  },
  {
   "cell_type": "code",
   "execution_count": 7,
   "metadata": {},
   "outputs": [
    {
     "name": "stdout",
     "output_type": "stream",
     "text": [
      "{'United States': 2555, 'India': 923, nan: 507, 'United Kingdom': 397, 'Japan': 226}\n"
     ]
    }
   ],
   "source": [
    "return_counter(df, 'country', 5)"
   ]
  },
  {
   "cell_type": "code",
   "execution_count": 8,
   "metadata": {},
   "outputs": [
    {
     "data": {
      "text/plain": [
       "United States     2555\n",
       "India              923\n",
       "NaN                507\n",
       "United Kingdom     397\n",
       "Japan              226\n",
       "Name: country, dtype: int64"
      ]
     },
     "execution_count": 8,
     "metadata": {},
     "output_type": "execute_result"
    }
   ],
   "source": [
    "df['country'].value_counts(dropna=False)[:5]"
   ]
  },
  {
   "cell_type": "markdown",
   "metadata": {},
   "source": [
    "As we can see, we have 2555 titles in the US, 923 in India, 507 missing country values, 397 in the UK, and 226 in Japan."
   ]
  },
  {
   "cell_type": "markdown",
   "metadata": {},
   "source": [
    "Let’s apply our return_counter function to the ‘director’ column, upon dropping missing values:"
   ]
  },
  {
   "cell_type": "code",
   "execution_count": 9,
   "metadata": {},
   "outputs": [
    {
     "name": "stdout",
     "output_type": "stream",
     "text": [
      "{nan: 2389, 'Raúl Campos, Jan Suter': 18, 'Marcus Raboy': 16, 'Jay Karas': 14, 'Cathy Garcia-Molina': 13}\n"
     ]
    }
   ],
   "source": [
    "#df['director'].dropna(inplace=True)\n",
    "#df['director'].reset_index(drop=True, inplace=True)\n",
    "return_counter(df, 'director', 5)"
   ]
  },
  {
   "cell_type": "markdown",
   "metadata": {},
   "source": [
    "Now, let’s look at the titles from the most common directors ‘Raul Campos’ and ‘Jan Suter’:"
   ]
  },
  {
   "cell_type": "code",
   "execution_count": 10,
   "metadata": {},
   "outputs": [
    {
     "name": "stdout",
     "output_type": "stream",
     "text": [
      "{'Mea Culpa', 'Carlos Ballarta: Furia Ñera', 'Todo lo que sería Lucas Lauriente', 'Sofía Niño de Rivera: Exposed', 'Sofía Niño de Rivera: Selección Natural', \"Ricardo O'Farrill: Abrazo navideño\", 'Coco y Raulito: Carrusel de ternura', 'Malena Pichot: Estupidez compleja', 'Natalia Valdebenito: El especial', 'Sebastián Marcelo Wainraich', 'Fernando Sanjiao: Hombre', 'Jani Dueñas: Grandes fracasos de ayer y hoy', 'Alan Saldaña: Mi vida de pobre', 'Arango y Sanint: Ríase el show', 'Luciano Mellera: Infantiloide', \"Ricardo O'Farrill Abrazo Genial\", 'Ricardo Quevedo: Hay gente así', 'Daniel Sosa: Sosafado'}\n"
     ]
    }
   ],
   "source": [
    "top_directors = df[(df['director'] =='Raúl Campos, Jan Suter')]\n",
    "print(set(top_directors['title']))\n",
    "#top_directors"
   ]
  },
  {
   "cell_type": "code",
   "execution_count": 11,
   "metadata": {},
   "outputs": [],
   "source": [
    "#df[df['director'] == 'Raúl Campos, Jan Suter']"
   ]
  },
  {
   "cell_type": "markdown",
   "metadata": {},
   "source": [
    "And the countries:"
   ]
  },
  {
   "cell_type": "code",
   "execution_count": 12,
   "metadata": {},
   "outputs": [
    {
     "name": "stdout",
     "output_type": "stream",
     "text": [
      "{'Argentina', 'Colombia', 'Chile', 'Mexico'}\n"
     ]
    }
   ],
   "source": [
    "print(set(top_directors['country']))"
   ]
  },
  {
   "cell_type": "markdown",
   "metadata": {},
   "source": [
    "We see that these are titles from Colombia, Chile, Argentina, and Mexico. Let’s do the same for Marcus Raboy:"
   ]
  },
  {
   "cell_type": "code",
   "execution_count": 13,
   "metadata": {},
   "outputs": [
    {
     "name": "stdout",
     "output_type": "stream",
     "text": [
      "Marcus Raboy Titles:  {'Ryan Hamilton: Happy Face', 'Taylor Tomlinson: Quarter-Life Crisis', 'Miranda Sings Live…Your Welcome', 'Cristela Alonzo: Lower Classy', 'Dana Carvey: Straight White Male, 60', 'Steve Martin and Martin Short: An Evening You Will Forget for the Rest of Your Life', 'Vir Das: Losing It', 'Whitney Cummings: Can I Touch It?', 'Anthony Jeselnik: Fire in the Maternity Ward', 'Judd Apatow: The Return', 'Katt Williams: Kattpacalypse', 'Lynne Koplitz: Hormonal Beast', 'Patton Oswalt: I Love Everything', 'Marlon Wayans: Woke-ish', 'DeRay Davis: How to Act Black', 'Vir Das: Abroad Understanding'}\n",
      "Countries:  {nan, 'United States'}\n"
     ]
    }
   ],
   "source": [
    "Marcus_Raboy = df[(df['director'] =='Marcus Raboy')]\n",
    "print('Marcus Raboy Titles: ', set(Marcus_Raboy['title']))\n",
    "print('Countries: ', set(Marcus_Raboy['country']))"
   ]
  },
  {
   "cell_type": "markdown",
   "metadata": {},
   "source": [
    "Now we’ll analyze movie durations. First, we need to filter the data set to only include movie titles:"
   ]
  },
  {
   "cell_type": "code",
   "execution_count": 14,
   "metadata": {},
   "outputs": [],
   "source": [
    "df_movie = df[df['type'] == 'Movie']"
   ]
  },
  {
   "cell_type": "markdown",
   "metadata": {},
   "source": [
    "Let’s then print the set of movie durations:"
   ]
  },
  {
   "cell_type": "code",
   "execution_count": 15,
   "metadata": {},
   "outputs": [
    {
     "name": "stdout",
     "output_type": "stream",
     "text": [
      "{'165 min', '37 min', '129 min', '75 min', '100 min', '41 min', '118 min', '14 min', '182 min', '125 min', '44 min', '168 min', '193 min', '195 min', '65 min', '158 min', '81 min', '110 min', '48 min', '29 min', '144 min', '180 min', '153 min', '186 min', '134 min', '103 min', '145 min', '181 min', '17 min', '137 min', '59 min', '214 min', '135 min', '18 min', '49 min', '50 min', '121 min', '74 min', '194 min', '93 min', '102 min', '171 min', '26 min', '27 min', '177 min', '45 min', '15 min', '164 min', '147 min', '80 min', '191 min', '28 min', '25 min', '72 min', '150 min', '97 min', '115 min', '23 min', '224 min', '204 min', '61 min', '69 min', '114 min', '107 min', '16 min', '109 min', '53 min', '95 min', '71 min', '136 min', '117 min', '34 min', '36 min', '52 min', '40 min', '200 min', '32 min', '123 min', '151 min', '160 min', '130 min', '20 min', '152 min', '192 min', '73 min', '64 min', '56 min', '63 min', '82 min', '51 min', '176 min', '57 min', '159 min', '5 min', '87 min', '76 min', '68 min', '166 min', '8 min', '67 min', '132 min', '12 min', '85 min', '127 min', '155 min', '201 min', '79 min', '185 min', '161 min', '189 min', '149 min', '237 min', '54 min', '43 min', '111 min', '143 min', '126 min', '133 min', '131 min', '99 min', '112 min', '62 min', '98 min', '108 min', '30 min', '38 min', '312 min', '146 min', '60 min', '89 min', '11 min', '19 min', '10 min', '96 min', '13 min', '47 min', '101 min', '3 min', '84 min', '203 min', '33 min', '173 min', '178 min', '140 min', '170 min', '119 min', '209 min', '141 min', '92 min', '172 min', '90 min', '106 min', '116 min', '24 min', '46 min', '22 min', '113 min', '128 min', '94 min', '70 min', '83 min', '139 min', '157 min', '179 min', '154 min', '120 min', '163 min', '86 min', '156 min', '174 min', '88 min', '233 min', '208 min', '104 min', '21 min', '205 min', '105 min', '148 min', '187 min', '31 min', '138 min', '196 min', '58 min', '190 min', '122 min', '35 min', '91 min', '162 min', '77 min', '167 min', '66 min', '169 min', '78 min', '9 min', '253 min', '228 min', '230 min', '42 min', '124 min', '55 min', '142 min'}\n"
     ]
    }
   ],
   "source": [
    "print(set(df_movie['duration']))"
   ]
  },
  {
   "cell_type": "markdown",
   "metadata": {},
   "source": [
    "We see that all values are reported as strings and the duration is measured in minutes. Let’s remove ‘min’ from the string values and convert the result to integers:"
   ]
  },
  {
   "cell_type": "code",
   "execution_count": 16,
   "metadata": {},
   "outputs": [
    {
     "name": "stdout",
     "output_type": "stream",
     "text": [
      "{3, 5, 8, 9, 10, 11, 12, 13, 14, 15, 16, 17, 18, 19, 20, 21, 22, 23, 24, 25, 26, 27, 28, 29, 30, 31, 32, 33, 34, 35, 36, 37, 38, 40, 41, 42, 43, 44, 45, 46, 47, 48, 49, 50, 51, 52, 53, 54, 55, 56, 57, 58, 59, 60, 61, 62, 63, 64, 65, 66, 67, 68, 69, 70, 71, 72, 73, 74, 75, 76, 77, 78, 79, 80, 81, 82, 83, 84, 85, 86, 87, 88, 89, 90, 91, 92, 93, 94, 95, 96, 97, 98, 99, 100, 101, 102, 103, 104, 105, 106, 107, 108, 109, 110, 111, 112, 113, 114, 115, 116, 117, 118, 119, 120, 121, 122, 123, 124, 125, 126, 127, 128, 129, 130, 131, 132, 133, 134, 135, 136, 137, 138, 139, 140, 141, 142, 143, 144, 145, 146, 147, 148, 149, 150, 151, 152, 153, 154, 155, 156, 157, 158, 159, 160, 161, 162, 163, 164, 165, 166, 167, 168, 169, 170, 171, 172, 173, 174, 176, 177, 178, 179, 180, 181, 182, 185, 186, 187, 189, 190, 191, 192, 193, 194, 195, 196, 200, 201, 203, 204, 205, 208, 209, 214, 224, 228, 230, 233, 237, 253, 312}\n"
     ]
    },
    {
     "name": "stderr",
     "output_type": "stream",
     "text": [
      "C:\\Users\\atale\\AppData\\Local\\Continuum\\anaconda3\\lib\\site-packages\\ipykernel_launcher.py:3: SettingWithCopyWarning: \n",
      "A value is trying to be set on a copy of a slice from a DataFrame.\n",
      "Try using .loc[row_indexer,col_indexer] = value instead\n",
      "\n",
      "See the caveats in the documentation: https://pandas.pydata.org/pandas-docs/stable/user_guide/indexing.html#returning-a-view-versus-a-copy\n",
      "  This is separate from the ipykernel package so we can avoid doing imports until\n"
     ]
    }
   ],
   "source": [
    "# df_movie['duration'] = df_movie['duration'].str.replace(' min', '')\n",
    "# df_movie['duration']\n",
    "df_movie['duration'] = df_movie['duration'].map(lambda x: x.rstrip('min')).astype(int)\n",
    "print(set(df_movie['duration']))"
   ]
  },
  {
   "cell_type": "markdown",
   "metadata": {},
   "source": [
    "Next, it would be useful to generate summary statistics from numerical columns like ‘duration’. Let’s define a function that takes a data frame, a categorical column, and a numerical column. The mean and standard deviation of the numerical column for each category is stored in a data frame and the data frame is sorted in descending order according to the mean. This is useful if you want to quickly see if certain categories have higher or lower mean and/or standard deviation values for a particular numerical column."
   ]
  },
  {
   "cell_type": "code",
   "execution_count": 17,
   "metadata": {},
   "outputs": [],
   "source": [
    "def return_statistics(data_frame, categorical_column, numerical_column):\n",
    "    mean = []\n",
    "    std = []\n",
    "    field = []\n",
    "    for i in set(list(data_frame[categorical_column].values)):\n",
    "        new_data = data_frame[data_frame[categorical_column] == i]\n",
    "        field.append(i)\n",
    "        mean.append(new_data[numerical_column].mean())\n",
    "        std.append(new_data[numerical_column].std())\n",
    "    df = pd.DataFrame({'{}'.format(categorical_column): field, 'mean {}'.format(numerical_column): mean, 'std in {}'.format(numerical_column): std})\n",
    "    df.sort_values('mean {}'.format(numerical_column), inplace = True, ascending = False)\n",
    "    df.dropna(inplace = True)\n",
    "    return df"
   ]
  },
  {
   "cell_type": "markdown",
   "metadata": {},
   "source": [
    "Let’s call our function with categorical column ‘listed_in’ and numerical column ‘duration’:"
   ]
  },
  {
   "cell_type": "code",
   "execution_count": 19,
   "metadata": {},
   "outputs": [
    {
     "data": {
      "text/html": [
       "<div>\n",
       "<style scoped>\n",
       "    .dataframe tbody tr th:only-of-type {\n",
       "        vertical-align: middle;\n",
       "    }\n",
       "\n",
       "    .dataframe tbody tr th {\n",
       "        vertical-align: top;\n",
       "    }\n",
       "\n",
       "    .dataframe thead th {\n",
       "        text-align: right;\n",
       "    }\n",
       "</style>\n",
       "<table border=\"1\" class=\"dataframe\">\n",
       "  <thead>\n",
       "    <tr style=\"text-align: right;\">\n",
       "      <th></th>\n",
       "      <th>listed_in</th>\n",
       "      <th>mean duration</th>\n",
       "      <th>std in duration</th>\n",
       "    </tr>\n",
       "  </thead>\n",
       "  <tbody>\n",
       "    <tr>\n",
       "      <th>231</th>\n",
       "      <td>Classic Movies, Dramas, Romantic Movies</td>\n",
       "      <td>153.666667</td>\n",
       "      <td>46.003623</td>\n",
       "    </tr>\n",
       "    <tr>\n",
       "      <th>133</th>\n",
       "      <td>Classic Movies, Cult Movies, Dramas</td>\n",
       "      <td>145.500000</td>\n",
       "      <td>12.020815</td>\n",
       "    </tr>\n",
       "    <tr>\n",
       "      <th>130</th>\n",
       "      <td>Classic Movies, Dramas, Music &amp; Musicals</td>\n",
       "      <td>145.000000</td>\n",
       "      <td>50.911688</td>\n",
       "    </tr>\n",
       "    <tr>\n",
       "      <th>85</th>\n",
       "      <td>Action &amp; Adventure, International Movies, Musi...</td>\n",
       "      <td>142.800000</td>\n",
       "      <td>15.894094</td>\n",
       "    </tr>\n",
       "    <tr>\n",
       "      <th>24</th>\n",
       "      <td>Action &amp; Adventure, Classic Movies, Dramas</td>\n",
       "      <td>142.428571</td>\n",
       "      <td>41.307211</td>\n",
       "    </tr>\n",
       "    <tr>\n",
       "      <th>31</th>\n",
       "      <td>Action &amp; Adventure, Comedies, Dramas</td>\n",
       "      <td>136.083333</td>\n",
       "      <td>28.946603</td>\n",
       "    </tr>\n",
       "    <tr>\n",
       "      <th>185</th>\n",
       "      <td>Dramas, International Movies, Music &amp; Musicals</td>\n",
       "      <td>136.038462</td>\n",
       "      <td>27.089511</td>\n",
       "    </tr>\n",
       "    <tr>\n",
       "      <th>34</th>\n",
       "      <td>Classic Movies, Dramas, Sports Movies</td>\n",
       "      <td>133.500000</td>\n",
       "      <td>6.363961</td>\n",
       "    </tr>\n",
       "    <tr>\n",
       "      <th>38</th>\n",
       "      <td>International Movies, Music &amp; Musicals, Romant...</td>\n",
       "      <td>133.000000</td>\n",
       "      <td>20.861448</td>\n",
       "    </tr>\n",
       "    <tr>\n",
       "      <th>27</th>\n",
       "      <td>Action &amp; Adventure, Classic Movies, Comedies</td>\n",
       "      <td>130.333333</td>\n",
       "      <td>40.104031</td>\n",
       "    </tr>\n",
       "    <tr>\n",
       "      <th>226</th>\n",
       "      <td>Comedies, International Movies, Sci-Fi &amp; Fantasy</td>\n",
       "      <td>129.666667</td>\n",
       "      <td>31.001075</td>\n",
       "    </tr>\n",
       "    <tr>\n",
       "      <th>234</th>\n",
       "      <td>Action &amp; Adventure, Dramas, International Movies</td>\n",
       "      <td>129.521368</td>\n",
       "      <td>27.520086</td>\n",
       "    </tr>\n",
       "    <tr>\n",
       "      <th>105</th>\n",
       "      <td>Cult Movies, Dramas, Thrillers</td>\n",
       "      <td>129.500000</td>\n",
       "      <td>40.305087</td>\n",
       "    </tr>\n",
       "    <tr>\n",
       "      <th>12</th>\n",
       "      <td>Classic Movies, Dramas, International Movies</td>\n",
       "      <td>129.444444</td>\n",
       "      <td>40.195438</td>\n",
       "    </tr>\n",
       "    <tr>\n",
       "      <th>74</th>\n",
       "      <td>Comedies, International Movies, Music &amp; Musicals</td>\n",
       "      <td>129.075472</td>\n",
       "      <td>22.611985</td>\n",
       "    </tr>\n",
       "  </tbody>\n",
       "</table>\n",
       "</div>"
      ],
      "text/plain": [
       "                                             listed_in  mean duration  \\\n",
       "231            Classic Movies, Dramas, Romantic Movies     153.666667   \n",
       "133                Classic Movies, Cult Movies, Dramas     145.500000   \n",
       "130           Classic Movies, Dramas, Music & Musicals     145.000000   \n",
       "85   Action & Adventure, International Movies, Musi...     142.800000   \n",
       "24          Action & Adventure, Classic Movies, Dramas     142.428571   \n",
       "31                Action & Adventure, Comedies, Dramas     136.083333   \n",
       "185     Dramas, International Movies, Music & Musicals     136.038462   \n",
       "34               Classic Movies, Dramas, Sports Movies     133.500000   \n",
       "38   International Movies, Music & Musicals, Romant...     133.000000   \n",
       "27        Action & Adventure, Classic Movies, Comedies     130.333333   \n",
       "226   Comedies, International Movies, Sci-Fi & Fantasy     129.666667   \n",
       "234   Action & Adventure, Dramas, International Movies     129.521368   \n",
       "105                     Cult Movies, Dramas, Thrillers     129.500000   \n",
       "12        Classic Movies, Dramas, International Movies     129.444444   \n",
       "74    Comedies, International Movies, Music & Musicals     129.075472   \n",
       "\n",
       "     std in duration  \n",
       "231        46.003623  \n",
       "133        12.020815  \n",
       "130        50.911688  \n",
       "85         15.894094  \n",
       "24         41.307211  \n",
       "31         28.946603  \n",
       "185        27.089511  \n",
       "34          6.363961  \n",
       "38         20.861448  \n",
       "27         40.104031  \n",
       "226        31.001075  \n",
       "234        27.520086  \n",
       "105        40.305087  \n",
       "12         40.195438  \n",
       "74         22.611985  "
      ]
     },
     "execution_count": 19,
     "metadata": {},
     "output_type": "execute_result"
    }
   ],
   "source": [
    "stats = return_statistics(df_movie, 'listed_in', 'duration')\n",
    "stats.head(15)"
   ]
  },
  {
   "cell_type": "markdown",
   "metadata": {},
   "source": [
    "Next, we will use boxplots to visualize the distribution in numeric values based on the minimum, maximum, median, first quartile, and third quartile. \n",
    "\n",
    "Similar to the summary statistics function, this function takes a data frame, categorical column, and numerical column and displays boxplots for the most common categories based on the limit:"
   ]
  },
  {
   "cell_type": "code",
   "execution_count": 22,
   "metadata": {},
   "outputs": [],
   "source": [
    "def get_boxplot_of_categories(data_frame, categorical_column, numerical_column, limit):\n",
    "    import seaborn as sns\n",
    "    from collections import Counter\n",
    "    keys = []\n",
    "    for i in dict(Counter(data_frame[categorical_column].values).most_common(limit)):\n",
    "        keys.append(i)\n",
    "    print(keys)\n",
    "    df_new = data_frame[data_frame[categorical_column].isin(keys)]\n",
    "    sns.set()\n",
    "    sns.boxplot(x = df_new[categorical_column], y = df_new[numerical_column])"
   ]
  },
  {
   "cell_type": "markdown",
   "metadata": {},
   "source": [
    "Let’s generate boxplots for ‘duration’ in the 5 most commonly occurring ‘listed in’ categories:"
   ]
  },
  {
   "cell_type": "code",
   "execution_count": 23,
   "metadata": {},
   "outputs": [
    {
     "name": "stdout",
     "output_type": "stream",
     "text": [
      "['Documentaries', 'Stand-Up Comedy', 'Dramas, International Movies', 'Comedies, Dramas, International Movies', 'Dramas, Independent Movies, International Movies']\n"
     ]
    },
    {
     "data": {
      "image/png": "[encoded data removed]",
      "text/plain": [
       "<Figure size 432x288 with 1 Axes>"
      ]
     },
     "metadata": {},
     "output_type": "display_data"
    }
   ],
   "source": [
    "get_boxplot_of_categories(df_movie, 'listed_in', 'duration', 5)"
   ]
  },
  {
   "cell_type": "markdown",
   "metadata": {},
   "source": [
    "Finally, let’s define a function takes a data frame and a numerical column as input and displays a histogram:"
   ]
  },
  {
   "cell_type": "code",
   "execution_count": null,
   "metadata": {},
   "outputs": [],
   "source": []
  }
 ],
 "metadata": {
  "kernelspec": {
   "display_name": "Python 3",
   "language": "python",
   "name": "python3"
  },
  "language_info": {
   "codemirror_mode": {
    "name": "ipython",
    "version": 3
   },
   "file_extension": ".py",
   "mimetype": "text/x-python",
   "name": "python",
   "nbconvert_exporter": "python",
   "pygments_lexer": "ipython3",
   "version": "3.7.7"
  }
 },
 "nbformat": 4,
 "nbformat_minor": 4
}
