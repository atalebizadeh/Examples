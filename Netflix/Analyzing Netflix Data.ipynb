{
 "cells": [
  {
   "cell_type": "markdown",
   "metadata": {},
   "source": [
    "#### Project Description:\n",
    "\n",
    "In this project, I’ll apply the Python skills I learned to solve a real-world data science problem. Press “watch next episode” to discover if Netflix’s movies are getting shorter over time, using everything from lists and loops to pandas and matplotlib.\n",
    "\n",
    "I’ll also showcase my experience in an essential data science skill — exploratory data analysis. I'll be performing critical tasks such as manipulating raw data and drawing conclusions from plots created of the data. "
   ]
  },
  {
   "cell_type": "code",
   "execution_count": null,
   "metadata": {},
   "outputs": [],
   "source": []
  }
 ],
 "metadata": {
  "kernelspec": {
   "display_name": "Python 3",
   "language": "python",
   "name": "python3"
  },
  "language_info": {
   "codemirror_mode": {
    "name": "ipython",
    "version": 3
   },
   "file_extension": ".py",
   "mimetype": "text/x-python",
   "name": "python",
   "nbconvert_exporter": "python",
   "pygments_lexer": "ipython3",
   "version": "3.7.7"
  }
 },
 "nbformat": 4,
 "nbformat_minor": 4
}
