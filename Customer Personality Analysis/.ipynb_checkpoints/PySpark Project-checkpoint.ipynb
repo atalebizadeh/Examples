{
 "cells": [
  {
   "cell_type": "code",
   "execution_count": 1,
   "id": "34ad4b63",
   "metadata": {},
   "outputs": [],
   "source": [
    "from pyspark.sql import SparkSession"
   ]
  },
  {
   "cell_type": "code",
   "execution_count": 2,
   "id": "6ca2306b",
   "metadata": {},
   "outputs": [],
   "source": [
    "spark = SparkSession.builder.getOrCreate()"
   ]
  },
  {
   "cell_type": "code",
   "execution_count": 3,
   "id": "9511337d",
   "metadata": {},
   "outputs": [
    {
     "data": {
      "text/html": [
       "\n",
       "            <div>\n",
       "                <p><b>SparkSession - in-memory</b></p>\n",
       "                \n",
       "        <div>\n",
       "            <p><b>SparkContext</b></p>\n",
       "\n",
       "            <p><a href=\"http://DESKTOP-2LH1TVI:4040\">Spark UI</a></p>\n",
       "\n",
       "            <dl>\n",
       "              <dt>Version</dt>\n",
       "                <dd><code>v3.2.0</code></dd>\n",
       "              <dt>Master</dt>\n",
       "                <dd><code>local[*]</code></dd>\n",
       "              <dt>AppName</dt>\n",
       "                <dd><code>pyspark-shell</code></dd>\n",
       "            </dl>\n",
       "        </div>\n",
       "        \n",
       "            </div>\n",
       "        "
      ],
      "text/plain": [
       "<pyspark.sql.session.SparkSession at 0x29f9d35b0c8>"
      ]
     },
     "execution_count": 3,
     "metadata": {},
     "output_type": "execute_result"
    }
   ],
   "source": [
    "spark"
   ]
  },
  {
   "cell_type": "code",
   "execution_count": 14,
   "id": "154e8cf0",
   "metadata": {},
   "outputs": [],
   "source": [
    "#read the dataset\n",
    "df_pyspark = spark.read.option('header', 'true').csv('data/marketing_campaign.csv', inferSchema=True)"
   ]
  },
  {
   "cell_type": "code",
   "execution_count": 15,
   "id": "fd598400",
   "metadata": {},
   "outputs": [
    {
     "name": "stdout",
     "output_type": "stream",
     "text": [
      "root\n",
      " |-- ID\\tYear_Birth\\tEducation\\tMarital_Status\\tIncome\\tKidhome\\tTeenhome\\tDt_Customer\\tRecency\\tMntWines\\tMntFruits\\tMntMeatProducts\\tMntFishProducts\\tMntSweetProducts\\tMntGoldProds\\tNumDealsPurchases\\tNumWebPurchases\\tNumCatalogPurchases\\tNumStorePurchases\\tNumWebVisitsMonth\\tAcceptedCmp3\\tAcceptedCmp4\\tAcceptedCmp5\\tAcceptedCmp1\\tAcceptedCmp2\\tComplain\\tZ_CostContact\\tZ_Revenue\\tResponse: string (nullable = true)\n",
      "\n"
     ]
    }
   ],
   "source": [
    "## check schemas\n",
    "df_pyspark.printSchema()"
   ]
  },
  {
   "cell_type": "code",
   "execution_count": 16,
   "id": "d2457ba3",
   "metadata": {},
   "outputs": [
    {
     "name": "stdout",
     "output_type": "stream",
     "text": [
      "+----------------------------------------------------------------------------------------------------------------------------------------------------------------------------------------------------------------------------------------------------------------------------------------------------------------------------------------------------------------------------------------------------+\n",
      "|ID\\tYear_Birth\\tEducation\\tMarital_Status\\tIncome\\tKidhome\\tTeenhome\\tDt_Customer\\tRecency\\tMntWines\\tMntFruits\\tMntMeatProducts\\tMntFishProducts\\tMntSweetProducts\\tMntGoldProds\\tNumDealsPurchases\\tNumWebPurchases\\tNumCatalogPurchases\\tNumStorePurchases\\tNumWebVisitsMonth\\tAcceptedCmp3\\tAcceptedCmp4\\tAcceptedCmp5\\tAcceptedCmp1\\tAcceptedCmp2\\tComplain\\tZ_CostContact\\tZ_Revenue\\tResponse|\n",
      "+----------------------------------------------------------------------------------------------------------------------------------------------------------------------------------------------------------------------------------------------------------------------------------------------------------------------------------------------------------------------------------------------------+\n",
      "|                                                                                                                                                                                                                                                                                                                                                                                5524\\t1957\\tGradu...|\n",
      "|                                                                                                                                                                                                                                                                                                                                                                                2174\\t1954\\tGradu...|\n",
      "|                                                                                                                                                                                                                                                                                                                                                                                4141\\t1965\\tGradu...|\n",
      "|                                                                                                                                                                                                                                                                                                                                                                                6182\\t1984\\tGradu...|\n",
      "|                                                                                                                                                                                                                                                                                                                                                                                5324\\t1981\\tPhD\\t...|\n",
      "|                                                                                                                                                                                                                                                                                                                                                                                7446\\t1967\\tMaste...|\n",
      "|                                                                                                                                                                                                                                                                                                                                                                                965\\t1971\\tGradua...|\n",
      "|                                                                                                                                                                                                                                                                                                                                                                                6177\\t1985\\tPhD\\t...|\n",
      "|                                                                                                                                                                                                                                                                                                                                                                                4855\\t1974\\tPhD\\t...|\n",
      "|                                                                                                                                                                                                                                                                                                                                                                                5899\\t1950\\tPhD\\t...|\n",
      "|                                                                                                                                                                                                                                                                                                                                                                                1994\\t1983\\tGradu...|\n",
      "|                                                                                                                                                                                                                                                                                                                                                                                387\\t1976\\tBasic\\...|\n",
      "|                                                                                                                                                                                                                                                                                                                                                                                2125\\t1959\\tGradu...|\n",
      "|                                                                                                                                                                                                                                                                                                                                                                                8180\\t1952\\tMaste...|\n",
      "|                                                                                                                                                                                                                                                                                                                                                                                2569\\t1987\\tGradu...|\n",
      "|                                                                                                                                                                                                                                                                                                                                                                                2114\\t1946\\tPhD\\t...|\n",
      "|                                                                                                                                                                                                                                                                                                                                                                                9736\\t1980\\tGradu...|\n",
      "|                                                                                                                                                                                                                                                                                                                                                                                4939\\t1946\\tGradu...|\n",
      "|                                                                                                                                                                                                                                                                                                                                                                                6565\\t1949\\tMaste...|\n",
      "|                                                                                                                                                                                                                                                                                                                                                                                2278\\t1985\\t2n Cy...|\n",
      "+----------------------------------------------------------------------------------------------------------------------------------------------------------------------------------------------------------------------------------------------------------------------------------------------------------------------------------------------------------------------------------------------------+\n",
      "only showing top 20 rows\n",
      "\n"
     ]
    }
   ],
   "source": [
    "df_pyspark=spark.read.csv('data/marketing_campaign.csv', header=True, inferSchema=True)\n",
    "df_pyspark.show()"
   ]
  },
  {
   "cell_type": "code",
   "execution_count": 17,
   "id": "2686ccf0",
   "metadata": {},
   "outputs": [
    {
     "data": {
      "text/plain": [
       "['ID\\tYear_Birth\\tEducation\\tMarital_Status\\tIncome\\tKidhome\\tTeenhome\\tDt_Customer\\tRecency\\tMntWines\\tMntFruits\\tMntMeatProducts\\tMntFishProducts\\tMntSweetProducts\\tMntGoldProds\\tNumDealsPurchases\\tNumWebPurchases\\tNumCatalogPurchases\\tNumStorePurchases\\tNumWebVisitsMonth\\tAcceptedCmp3\\tAcceptedCmp4\\tAcceptedCmp5\\tAcceptedCmp1\\tAcceptedCmp2\\tComplain\\tZ_CostContact\\tZ_Revenue\\tResponse']"
      ]
     },
     "execution_count": 17,
     "metadata": {},
     "output_type": "execute_result"
    }
   ],
   "source": [
    "df_pyspark.columns"
   ]
  },
  {
   "cell_type": "code",
   "execution_count": null,
   "id": "d1e4b1e8",
   "metadata": {},
   "outputs": [],
   "source": []
  }
 ],
 "metadata": {
  "kernelspec": {
   "display_name": "Python 3",
   "language": "python",
   "name": "python3"
  },
  "language_info": {
   "codemirror_mode": {
    "name": "ipython",
    "version": 3
   },
   "file_extension": ".py",
   "mimetype": "text/x-python",
   "name": "python",
   "nbconvert_exporter": "python",
   "pygments_lexer": "ipython3",
   "version": "3.7.11"
  }
 },
 "nbformat": 4,
 "nbformat_minor": 5
}
