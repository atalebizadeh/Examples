{
 "cells": [
  {
   "cell_type": "code",
   "execution_count": 1,
   "metadata": {},
   "outputs": [],
   "source": [
    "# import libraries\n",
    "\n",
    "from sklearn.model_selection import train_test_split\n",
    "from sklearn.metrics import r2_score, mean_squared_error, mean_squared_log_error, mean_absolute_error\n",
    "from sklearn.preprocessing import MinMaxScaler, StandardScaler\n",
    "from sklearn.neighbors import KNeighborsRegressor\n",
    "from sklearn.linear_model import LinearRegression, LassoLarsCV\n",
    "from sklearn.svm import SVR\n",
    "from sklearn.ensemble import RandomForestRegressor\n",
    "from sklearn.tree import DecisionTreeRegressor\n",
    "import xgboost as xgb\n",
    "from xgboost.sklearn import XGBRegressor\n",
    "from sklearn.model_selection import GridSearchCV, cross_val_score, KFold\n",
    "from scipy.stats import pearsonr\n",
    "from sklearn.metrics import accuracy_score\n",
    "from sklearn.pipeline import Pipeline\n",
    "\n",
    "import pandas as pd\n",
    "import numpy as np\n",
    "\n",
    "import math\n",
    "import time\n",
    "\n",
    "# Pandas warning messages (optional)\n",
    "pd.options.mode.chained_assignment = None  #default='warn'\n",
    "\n",
    "# Plot options\n",
    "import matplotlib.pyplot as plt\n",
    "import seaborn as sns\n",
    "sns.palplot(sns.color_palette('deep'))\n",
    "sns.set_style(\"whitegrid\")\n",
    "%matplotlib inline\n",
    "\n",
    "sns.set()\n",
    "\n",
    "# I want crisp graphics, so we'll output SVG\n",
    "#%config InlineBackend.figure_format = 'svg'"
   ]
  },
  {
   "cell_type": "code",
   "execution_count": 2,
   "metadata": {},
   "outputs": [
    {
     "data": {
      "text/html": [
       "<div>\n",
       "<style scoped>\n",
       "    .dataframe tbody tr th:only-of-type {\n",
       "        vertical-align: middle;\n",
       "    }\n",
       "\n",
       "    .dataframe tbody tr th {\n",
       "        vertical-align: top;\n",
       "    }\n",
       "\n",
       "    .dataframe thead th {\n",
       "        text-align: right;\n",
       "    }\n",
       "</style>\n",
       "<table border=\"1\" class=\"dataframe\">\n",
       "  <thead>\n",
       "    <tr style=\"text-align: right;\">\n",
       "      <th></th>\n",
       "      <th>id</th>\n",
       "      <th>price</th>\n",
       "      <th>latitude</th>\n",
       "      <th>longitude</th>\n",
       "      <th>room_type</th>\n",
       "      <th>minimum_nights</th>\n",
       "      <th>number_of_reviews</th>\n",
       "      <th>availability_365</th>\n",
       "    </tr>\n",
       "  </thead>\n",
       "  <tbody>\n",
       "    <tr>\n",
       "      <th>0</th>\n",
       "      <td>2265</td>\n",
       "      <td>200.0</td>\n",
       "      <td>30.27750</td>\n",
       "      <td>-97.71398</td>\n",
       "      <td>Entire home/apt</td>\n",
       "      <td>7</td>\n",
       "      <td>24</td>\n",
       "      <td>131</td>\n",
       "    </tr>\n",
       "    <tr>\n",
       "      <th>1</th>\n",
       "      <td>5245</td>\n",
       "      <td>114.0</td>\n",
       "      <td>30.27577</td>\n",
       "      <td>-97.71379</td>\n",
       "      <td>Private room</td>\n",
       "      <td>30</td>\n",
       "      <td>9</td>\n",
       "      <td>0</td>\n",
       "    </tr>\n",
       "    <tr>\n",
       "      <th>2</th>\n",
       "      <td>5456</td>\n",
       "      <td>104.0</td>\n",
       "      <td>30.26112</td>\n",
       "      <td>-97.73448</td>\n",
       "      <td>Entire home/apt</td>\n",
       "      <td>2</td>\n",
       "      <td>543</td>\n",
       "      <td>354</td>\n",
       "    </tr>\n",
       "    <tr>\n",
       "      <th>3</th>\n",
       "      <td>6413</td>\n",
       "      <td>99.0</td>\n",
       "      <td>30.24829</td>\n",
       "      <td>-97.73726</td>\n",
       "      <td>Entire home/apt</td>\n",
       "      <td>30</td>\n",
       "      <td>115</td>\n",
       "      <td>0</td>\n",
       "    </tr>\n",
       "    <tr>\n",
       "      <th>4</th>\n",
       "      <td>6448</td>\n",
       "      <td>139.0</td>\n",
       "      <td>30.26027</td>\n",
       "      <td>-97.76503</td>\n",
       "      <td>Entire home/apt</td>\n",
       "      <td>3</td>\n",
       "      <td>235</td>\n",
       "      <td>194</td>\n",
       "    </tr>\n",
       "  </tbody>\n",
       "</table>\n",
       "</div>"
      ],
      "text/plain": [
       "     id  price  latitude  longitude        room_type  minimum_nights  \\\n",
       "0  2265  200.0  30.27750  -97.71398  Entire home/apt               7   \n",
       "1  5245  114.0  30.27577  -97.71379     Private room              30   \n",
       "2  5456  104.0  30.26112  -97.73448  Entire home/apt               2   \n",
       "3  6413   99.0  30.24829  -97.73726  Entire home/apt              30   \n",
       "4  6448  139.0  30.26027  -97.76503  Entire home/apt               3   \n",
       "\n",
       "   number_of_reviews  availability_365  \n",
       "0                 24               131  \n",
       "1                  9                 0  \n",
       "2                543               354  \n",
       "3                115                 0  \n",
       "4                235               194  "
      ]
     },
     "execution_count": 2,
     "metadata": {},
     "output_type": "execute_result"
    }
   ],
   "source": [
    "# Load data\n",
    "df_cleaned = pd.read_csv('data/listings_Feb21_cleaned.csv', low_memory=False)\n",
    "df_cleaned.head()"
   ]
  },
  {
   "cell_type": "code",
   "execution_count": 3,
   "metadata": {
    "scrolled": true
   },
   "outputs": [
    {
     "name": "stdout",
     "output_type": "stream",
     "text": [
      "count    9127.000000\n",
      "mean      187.424893\n",
      "std       130.780542\n",
      "min        51.000000\n",
      "25%        97.000000\n",
      "50%       150.000000\n",
      "75%       225.000000\n",
      "max       699.000000\n",
      "Name: price, dtype: float64\n"
     ]
    },
    {
     "data": {
      "text/html": [
       "<div>\n",
       "<style scoped>\n",
       "    .dataframe tbody tr th:only-of-type {\n",
       "        vertical-align: middle;\n",
       "    }\n",
       "\n",
       "    .dataframe tbody tr th {\n",
       "        vertical-align: top;\n",
       "    }\n",
       "\n",
       "    .dataframe thead th {\n",
       "        text-align: right;\n",
       "    }\n",
       "</style>\n",
       "<table border=\"1\" class=\"dataframe\">\n",
       "  <thead>\n",
       "    <tr style=\"text-align: right;\">\n",
       "      <th></th>\n",
       "      <th>id</th>\n",
       "      <th>room_type</th>\n",
       "      <th>minimum_nights</th>\n",
       "      <th>number_of_reviews</th>\n",
       "      <th>availability_365</th>\n",
       "    </tr>\n",
       "  </thead>\n",
       "  <tbody>\n",
       "    <tr>\n",
       "      <th>0</th>\n",
       "      <td>2265</td>\n",
       "      <td>Entire home/apt</td>\n",
       "      <td>7</td>\n",
       "      <td>24</td>\n",
       "      <td>131</td>\n",
       "    </tr>\n",
       "    <tr>\n",
       "      <th>1</th>\n",
       "      <td>5245</td>\n",
       "      <td>Private room</td>\n",
       "      <td>30</td>\n",
       "      <td>9</td>\n",
       "      <td>0</td>\n",
       "    </tr>\n",
       "    <tr>\n",
       "      <th>2</th>\n",
       "      <td>5456</td>\n",
       "      <td>Entire home/apt</td>\n",
       "      <td>2</td>\n",
       "      <td>543</td>\n",
       "      <td>354</td>\n",
       "    </tr>\n",
       "    <tr>\n",
       "      <th>3</th>\n",
       "      <td>6413</td>\n",
       "      <td>Entire home/apt</td>\n",
       "      <td>30</td>\n",
       "      <td>115</td>\n",
       "      <td>0</td>\n",
       "    </tr>\n",
       "    <tr>\n",
       "      <th>4</th>\n",
       "      <td>6448</td>\n",
       "      <td>Entire home/apt</td>\n",
       "      <td>3</td>\n",
       "      <td>235</td>\n",
       "      <td>194</td>\n",
       "    </tr>\n",
       "  </tbody>\n",
       "</table>\n",
       "</div>"
      ],
      "text/plain": [
       "     id        room_type  minimum_nights  number_of_reviews  availability_365\n",
       "0  2265  Entire home/apt               7                 24               131\n",
       "1  5245     Private room              30                  9                 0\n",
       "2  5456  Entire home/apt               2                543               354\n",
       "3  6413  Entire home/apt              30                115                 0\n",
       "4  6448  Entire home/apt               3                235               194"
      ]
     },
     "execution_count": 3,
     "metadata": {},
     "output_type": "execute_result"
    }
   ],
   "source": [
    "# Create features and price DFs for sklearn inputs\n",
    "#df_cleaned = df_cleaned[df_cleaned.price < df_cleaned.price.quantile(.95)]\n",
    "X = df_cleaned.drop(['price', 'latitude', 'longitude'], axis=1)   # 'X'\n",
    "y = df_cleaned['price']                  # 'y'\n",
    "print(y.describe())\n",
    "X.head()"
   ]
  },
  {
   "cell_type": "code",
   "execution_count": 4,
   "metadata": {
    "scrolled": false
   },
   "outputs": [
    {
     "name": "stdout",
     "output_type": "stream",
     "text": [
      "std: 130.77337771535554\n",
      "mean: 187.42489317409883\n"
     ]
    },
    {
     "data": {
      "text/plain": [
       "(array([3224., 2729., 1093.,  749.,  344.,  326.,  319.,  113.,  142.,\n",
       "          88.]),\n",
       " array([ 51. , 115.8, 180.6, 245.4, 310.2, 375. , 439.8, 504.6, 569.4,\n",
       "        634.2, 699. ]),\n",
       " <a list of 10 Patch objects>)"
      ]
     },
     "execution_count": 4,
     "metadata": {},
     "output_type": "execute_result"
    },
    {
     "data": {
      "image/png": "[encoded data removed]",
      "text/plain": [
       "<Figure size 432x288 with 1 Axes>"
      ]
     },
     "metadata": {},
     "output_type": "display_data"
    }
   ],
   "source": [
    "print('std:', np.std(y))\n",
    "print('mean:', np.mean(y))\n",
    "plt.hist(y)"
   ]
  },
  {
   "cell_type": "code",
   "execution_count": 5,
   "metadata": {},
   "outputs": [
    {
     "name": "stdout",
     "output_type": "stream",
     "text": [
      "0    5.298317\n",
      "1    4.736198\n",
      "2    4.644391\n",
      "3    4.595120\n",
      "4    4.934474\n",
      "Name: price, dtype: float64 \n",
      " 0    200.0\n",
      "1    114.0\n",
      "2    104.0\n",
      "3     99.0\n",
      "4    139.0\n",
      "Name: price, dtype: float64\n"
     ]
    },
    {
     "data": {
      "text/plain": [
       "count    9127.000000\n",
       "mean        5.037518\n",
       "std         0.605572\n",
       "min         3.931826\n",
       "25%         4.574711\n",
       "50%         5.010635\n",
       "75%         5.416100\n",
       "max         6.549651\n",
       "Name: price, dtype: float64"
      ]
     },
     "execution_count": 5,
     "metadata": {},
     "output_type": "execute_result"
    }
   ],
   "source": [
    "# Price distribution is skewed to the right due to remaining outliers. Using np.log() to \n",
    "# normalize the price distribution\n",
    "log_y = np.log(y)\n",
    "print(log_y.head(),'\\n', y.head())\n",
    "log_y.describe()"
   ]
  },
  {
   "cell_type": "code",
   "execution_count": 6,
   "metadata": {},
   "outputs": [
    {
     "name": "stdout",
     "output_type": "stream",
     "text": [
      "std: 0.6055388375764077\n",
      "mean: 5.037518203475374\n"
     ]
    },
    {
     "data": {
      "text/plain": [
       "(array([ 627., 1075., 1371., 1204., 1786.,  983.,  772.,  585.,  433.,\n",
       "         291.]),\n",
       " array([3.93182563, 4.19360814, 4.45539065, 4.71717317, 4.97895568,\n",
       "        5.24073819, 5.5025207 , 5.76430321, 6.02608572, 6.28786823,\n",
       "        6.54965074]),\n",
       " <a list of 10 Patch objects>)"
      ]
     },
     "execution_count": 6,
     "metadata": {},
     "output_type": "execute_result"
    },
    {
     "data": {
      "image/png": "[encoded data removed]",
      "text/plain": [
       "<Figure size 432x288 with 1 Axes>"
      ]
     },
     "metadata": {},
     "output_type": "display_data"
    }
   ],
   "source": [
    "print('std:', np.std(log_y))\n",
    "print('mean:', np.mean(log_y))\n",
    "plt.hist(log_y)"
   ]
  },
  {
   "cell_type": "code",
   "execution_count": 7,
   "metadata": {},
   "outputs": [],
   "source": [
    "# Comparing price histogram with log(price) histogram\n",
    "# y.hist()"
   ]
  },
  {
   "cell_type": "code",
   "execution_count": 8,
   "metadata": {},
   "outputs": [],
   "source": [
    "# log_y.hist()"
   ]
  },
  {
   "cell_type": "code",
   "execution_count": 9,
   "metadata": {},
   "outputs": [
    {
     "data": {
      "text/html": [
       "<div>\n",
       "<style scoped>\n",
       "    .dataframe tbody tr th:only-of-type {\n",
       "        vertical-align: middle;\n",
       "    }\n",
       "\n",
       "    .dataframe tbody tr th {\n",
       "        vertical-align: top;\n",
       "    }\n",
       "\n",
       "    .dataframe thead th {\n",
       "        text-align: right;\n",
       "    }\n",
       "</style>\n",
       "<table border=\"1\" class=\"dataframe\">\n",
       "  <thead>\n",
       "    <tr style=\"text-align: right;\">\n",
       "      <th></th>\n",
       "      <th>id</th>\n",
       "      <th>minimum_nights</th>\n",
       "      <th>number_of_reviews</th>\n",
       "      <th>availability_365</th>\n",
       "      <th>room_type_Hotel room</th>\n",
       "      <th>room_type_Private room</th>\n",
       "      <th>room_type_Shared room</th>\n",
       "    </tr>\n",
       "  </thead>\n",
       "  <tbody>\n",
       "    <tr>\n",
       "      <th>0</th>\n",
       "      <td>2265</td>\n",
       "      <td>7</td>\n",
       "      <td>24</td>\n",
       "      <td>131</td>\n",
       "      <td>0</td>\n",
       "      <td>0</td>\n",
       "      <td>0</td>\n",
       "    </tr>\n",
       "    <tr>\n",
       "      <th>1</th>\n",
       "      <td>5245</td>\n",
       "      <td>30</td>\n",
       "      <td>9</td>\n",
       "      <td>0</td>\n",
       "      <td>0</td>\n",
       "      <td>1</td>\n",
       "      <td>0</td>\n",
       "    </tr>\n",
       "    <tr>\n",
       "      <th>2</th>\n",
       "      <td>5456</td>\n",
       "      <td>2</td>\n",
       "      <td>543</td>\n",
       "      <td>354</td>\n",
       "      <td>0</td>\n",
       "      <td>0</td>\n",
       "      <td>0</td>\n",
       "    </tr>\n",
       "    <tr>\n",
       "      <th>3</th>\n",
       "      <td>6413</td>\n",
       "      <td>30</td>\n",
       "      <td>115</td>\n",
       "      <td>0</td>\n",
       "      <td>0</td>\n",
       "      <td>0</td>\n",
       "      <td>0</td>\n",
       "    </tr>\n",
       "    <tr>\n",
       "      <th>4</th>\n",
       "      <td>6448</td>\n",
       "      <td>3</td>\n",
       "      <td>235</td>\n",
       "      <td>194</td>\n",
       "      <td>0</td>\n",
       "      <td>0</td>\n",
       "      <td>0</td>\n",
       "    </tr>\n",
       "  </tbody>\n",
       "</table>\n",
       "</div>"
      ],
      "text/plain": [
       "     id  minimum_nights  number_of_reviews  availability_365  \\\n",
       "0  2265               7                 24               131   \n",
       "1  5245              30                  9                 0   \n",
       "2  5456               2                543               354   \n",
       "3  6413              30                115                 0   \n",
       "4  6448               3                235               194   \n",
       "\n",
       "   room_type_Hotel room  room_type_Private room  room_type_Shared room  \n",
       "0                     0                       0                      0  \n",
       "1                     0                       1                      0  \n",
       "2                     0                       0                      0  \n",
       "3                     0                       0                      0  \n",
       "4                     0                       0                      0  "
      ]
     },
     "execution_count": 9,
     "metadata": {},
     "output_type": "execute_result"
    }
   ],
   "source": [
    "# Create dummy variables for categorical columns in the df\n",
    "features = pd.get_dummies(X, drop_first=True)\n",
    "features.head()"
   ]
  },
  {
   "cell_type": "code",
   "execution_count": 10,
   "metadata": {},
   "outputs": [
    {
     "data": {
      "text/html": [
       "<div>\n",
       "<style scoped>\n",
       "    .dataframe tbody tr th:only-of-type {\n",
       "        vertical-align: middle;\n",
       "    }\n",
       "\n",
       "    .dataframe tbody tr th {\n",
       "        vertical-align: top;\n",
       "    }\n",
       "\n",
       "    .dataframe thead th {\n",
       "        text-align: right;\n",
       "    }\n",
       "</style>\n",
       "<table border=\"1\" class=\"dataframe\">\n",
       "  <thead>\n",
       "    <tr style=\"text-align: right;\">\n",
       "      <th></th>\n",
       "      <th>id</th>\n",
       "      <th>room_type</th>\n",
       "      <th>minimum_nights</th>\n",
       "      <th>number_of_reviews</th>\n",
       "      <th>availability_365</th>\n",
       "    </tr>\n",
       "  </thead>\n",
       "  <tbody>\n",
       "    <tr>\n",
       "      <th>0</th>\n",
       "      <td>2265</td>\n",
       "      <td>Entire home/apt</td>\n",
       "      <td>7</td>\n",
       "      <td>24</td>\n",
       "      <td>131</td>\n",
       "    </tr>\n",
       "    <tr>\n",
       "      <th>1</th>\n",
       "      <td>5245</td>\n",
       "      <td>Private room</td>\n",
       "      <td>30</td>\n",
       "      <td>9</td>\n",
       "      <td>0</td>\n",
       "    </tr>\n",
       "    <tr>\n",
       "      <th>2</th>\n",
       "      <td>5456</td>\n",
       "      <td>Entire home/apt</td>\n",
       "      <td>2</td>\n",
       "      <td>543</td>\n",
       "      <td>354</td>\n",
       "    </tr>\n",
       "    <tr>\n",
       "      <th>3</th>\n",
       "      <td>6413</td>\n",
       "      <td>Entire home/apt</td>\n",
       "      <td>30</td>\n",
       "      <td>115</td>\n",
       "      <td>0</td>\n",
       "    </tr>\n",
       "    <tr>\n",
       "      <th>4</th>\n",
       "      <td>6448</td>\n",
       "      <td>Entire home/apt</td>\n",
       "      <td>3</td>\n",
       "      <td>235</td>\n",
       "      <td>194</td>\n",
       "    </tr>\n",
       "  </tbody>\n",
       "</table>\n",
       "</div>"
      ],
      "text/plain": [
       "     id        room_type  minimum_nights  number_of_reviews  availability_365\n",
       "0  2265  Entire home/apt               7                 24               131\n",
       "1  5245     Private room              30                  9                 0\n",
       "2  5456  Entire home/apt               2                543               354\n",
       "3  6413  Entire home/apt              30                115                 0\n",
       "4  6448  Entire home/apt               3                235               194"
      ]
     },
     "execution_count": 10,
     "metadata": {},
     "output_type": "execute_result"
    }
   ],
   "source": [
    "X.head()"
   ]
  },
  {
   "cell_type": "code",
   "execution_count": 11,
   "metadata": {},
   "outputs": [
    {
     "name": "stdout",
     "output_type": "stream",
     "text": [
      "[0.78575859]\n"
     ]
    }
   ],
   "source": [
    "# Using PCA for dimensionality-reduction\n",
    "from sklearn.decomposition import PCA\n",
    "\n",
    "# Set up PCA and the X vector for diminsionality reduction\n",
    "pca = PCA(n_components=1)\n",
    "df_X = features[[\n",
    "#     'bathrooms',\n",
    "#     'bedrooms',\n",
    "#     'accommodates',\n",
    "#     'extra_people',\n",
    "#     'security_deposit',\n",
    "#     'cleaning_fee',\n",
    "#     'review_scores_rating',\n",
    "    'number_of_reviews',\n",
    "    'minimum_nights',\n",
    "    'availability_365'\n",
    "]]\n",
    "\n",
    "# Apply PCA to the dataset X vector\n",
    "transformed_X = pca.fit_transform(df_X)\n",
    "\n",
    "# Look at the percentage of variance explained by the different components\n",
    "print(pca.explained_variance_ratio_)"
   ]
  },
  {
   "cell_type": "code",
   "execution_count": 12,
   "metadata": {},
   "outputs": [
    {
     "data": {
      "image/png": "[encoded data removed]",
      "text/plain": [
       "<Figure size 540x540 with 12 Axes>"
      ]
     },
     "metadata": {},
     "output_type": "display_data"
    }
   ],
   "source": [
    "# Create the scaler\n",
    "scaler = StandardScaler()\n",
    "ansur_std = scaler.fit_transform(df_X)\n",
    "\n",
    "# Create the PCA instance and fit and transform the data with pca\n",
    "pca = PCA()\n",
    "pc = pca.fit_transform(df_X)\n",
    "pc_df = pd.DataFrame(pc, columns=['PC 1', 'PC 2', 'PC 3'])\n",
    "\n",
    "# Create a pairplot of the principal component dataframe\n",
    "sns.pairplot(pc_df)\n",
    "plt.show()"
   ]
  },
  {
   "cell_type": "code",
   "execution_count": 13,
   "metadata": {},
   "outputs": [
    {
     "name": "stdout",
     "output_type": "stream",
     "text": [
      "PC 1 effects = {'number_of_reviews': 0.3, 'minimum_nights': 0.58, 'availability_365': 0.76}\n",
      "PC 2 effects = {'number_of_reviews': -0.81, 'minimum_nights': 0.58, 'availability_365': -0.12}\n"
     ]
    }
   ],
   "source": [
    "# Build the pipeline\n",
    "pipe = Pipeline([('scaler', StandardScaler()),\n",
    "        \t\t ('reducer', PCA(n_components=2))])\n",
    "                 \n",
    "                 \n",
    "#2. Fit the pipeline to the poke_df dataset and extract the component vectors.\n",
    "\n",
    "# Fit it to the dataset and extract the component vectors\n",
    "pipe.fit(df_X)\n",
    "vectors = pipe.steps[1][1].components_.round(2)\n",
    "\n",
    "# Print feature effects\n",
    "print('PC 1 effects = ' + str(dict(zip(df_X.columns, vectors[0]))))\n",
    "print('PC 2 effects = ' + str(dict(zip(df_X.columns, vectors[1]))))"
   ]
  },
  {
   "cell_type": "code",
   "execution_count": 14,
   "metadata": {},
   "outputs": [
    {
     "data": {
      "text/plain": [
       "array([[ 0.3 ,  0.58,  0.76],\n",
       "       [-0.81,  0.58, -0.12]])"
      ]
     },
     "execution_count": 14,
     "metadata": {},
     "output_type": "execute_result"
    }
   ],
   "source": [
    "pipe.steps[1][1].components_.round(2)"
   ]
  },
  {
   "cell_type": "code",
   "execution_count": 15,
   "metadata": {},
   "outputs": [
    {
     "name": "stdout",
     "output_type": "stream",
     "text": [
      "3 components selected\n",
      "3 components selected\n"
     ]
    }
   ],
   "source": [
    "# Pipe a scaler to PCA selecting 80% of the variance\n",
    "pipe = Pipeline([('scaler', StandardScaler()),\n",
    "        \t\t ('reducer', PCA(n_components=0.8))])\n",
    "                 \n",
    "                 \n",
    "#2. Fit the pipe to the data.\n",
    "# Fit the pipe to the data\n",
    "pipe.fit(df_X)\n",
    "\n",
    "print('{} components selected'.format(len(pipe.steps[1][1].components_)))\n",
    "\n",
    "\n",
    "\n",
    "#3. Increase the proportion of variance to keep to 90%.\n",
    "\n",
    "# Let PCA select 90% of the variance\n",
    "pipe = Pipeline([('scaler', StandardScaler()),\n",
    "        \t\t ('reducer', PCA(n_components=0.9))])\n",
    "\n",
    "# Fit the pipe to the data\n",
    "pipe.fit(df_X)\n",
    "\n",
    "print('{} components selected'.format(len(pipe.steps[1][1].components_)))"
   ]
  },
  {
   "cell_type": "code",
   "execution_count": 16,
   "metadata": {},
   "outputs": [
    {
     "data": {
      "image/png": "[encoded data removed]",
      "text/plain": [
       "<Figure size 432x288 with 1 Axes>"
      ]
     },
     "metadata": {},
     "output_type": "display_data"
    }
   ],
   "source": [
    "# Pipeline a scaler and PCA selecting 10 components\n",
    "pipe = Pipeline([('scaler', StandardScaler()),\n",
    "        \t\t ('reducer', PCA(n_components=3))])\n",
    "                 \n",
    "                 \n",
    "#2. Fit the pipe to the data.\n",
    "\n",
    "# Fit the pipe to the data\n",
    "pipe.fit(df_X)\n",
    "\n",
    "\n",
    "#3. Plot the explained variance ratio.\n",
    "\n",
    "# Plot the explained variance ratio\n",
    "plt.plot(pipe.steps[1][1].explained_variance_ratio_)\n",
    "\n",
    "plt.xlabel('Principal component index')\n",
    "plt.ylabel('Explained variance ratio')\n",
    "plt.show()"
   ]
  },
  {
   "cell_type": "code",
   "execution_count": 17,
   "metadata": {},
   "outputs": [
    {
     "name": "stdout",
     "output_type": "stream",
     "text": [
      "PC 1 effects = {'number_of_reviews': 0.3, 'minimum_nights': 0.58, 'availability_365': 0.76}\n"
     ]
    }
   ],
   "source": [
    "# Build the pipeline\n",
    "pipe = Pipeline([('scaler', StandardScaler()),\n",
    "        \t\t ('reducer', PCA(n_components=1))])\n",
    "                 \n",
    "                 \n",
    "#2. Fit the pipeline to the poke_df dataset and extract the component vectors.\n",
    "\n",
    "# Fit it to the dataset and extract the component vectors\n",
    "pipe.fit(df_X)\n",
    "vectors = pipe.steps[1][1].components_.round(2)\n",
    "\n",
    "# Print feature effects\n",
    "print('PC 1 effects = ' + str(dict(zip(df_X.columns, vectors[0]))))"
   ]
  },
  {
   "cell_type": "code",
   "execution_count": 18,
   "metadata": {},
   "outputs": [],
   "source": [
    "# Scale the quantitative features\n",
    "#scaler = MinMaxScaler()\n",
    "scaler = StandardScaler()\n",
    "numerical = [\n",
    "#     'bathrooms',\n",
    "#     'bedrooms',\n",
    "#     'accommodates',\n",
    "#     'extra_people',\n",
    "#     'security_deposit',\n",
    "#     'cleaning_fee',\n",
    "#     'review_scores_rating',\n",
    "    'number_of_reviews',\n",
    "    'minimum_nights',\n",
    "    'availability_365'\n",
    "]\n",
    "features_scaled = features.copy()\n",
    "features_scaled[numerical] = scaler.fit_transform(features_scaled[numerical])"
   ]
  },
  {
   "cell_type": "code",
   "execution_count": 19,
   "metadata": {},
   "outputs": [
    {
     "data": {
      "text/html": [
       "<div>\n",
       "<style scoped>\n",
       "    .dataframe tbody tr th:only-of-type {\n",
       "        vertical-align: middle;\n",
       "    }\n",
       "\n",
       "    .dataframe tbody tr th {\n",
       "        vertical-align: top;\n",
       "    }\n",
       "\n",
       "    .dataframe thead th {\n",
       "        text-align: right;\n",
       "    }\n",
       "</style>\n",
       "<table border=\"1\" class=\"dataframe\">\n",
       "  <thead>\n",
       "    <tr style=\"text-align: right;\">\n",
       "      <th></th>\n",
       "      <th>id</th>\n",
       "      <th>minimum_nights</th>\n",
       "      <th>number_of_reviews</th>\n",
       "      <th>availability_365</th>\n",
       "      <th>room_type_Hotel room</th>\n",
       "      <th>room_type_Private room</th>\n",
       "      <th>room_type_Shared room</th>\n",
       "    </tr>\n",
       "  </thead>\n",
       "  <tbody>\n",
       "    <tr>\n",
       "      <th>0</th>\n",
       "      <td>2265</td>\n",
       "      <td>-0.042764</td>\n",
       "      <td>-0.123037</td>\n",
       "      <td>0.041249</td>\n",
       "      <td>0</td>\n",
       "      <td>0</td>\n",
       "      <td>0</td>\n",
       "    </tr>\n",
       "    <tr>\n",
       "      <th>1</th>\n",
       "      <td>5245</td>\n",
       "      <td>0.932689</td>\n",
       "      <td>-0.339499</td>\n",
       "      <td>-0.903367</td>\n",
       "      <td>0</td>\n",
       "      <td>1</td>\n",
       "      <td>0</td>\n",
       "    </tr>\n",
       "    <tr>\n",
       "      <th>2</th>\n",
       "      <td>5456</td>\n",
       "      <td>-0.254819</td>\n",
       "      <td>7.366537</td>\n",
       "      <td>1.649261</td>\n",
       "      <td>0</td>\n",
       "      <td>0</td>\n",
       "      <td>0</td>\n",
       "    </tr>\n",
       "    <tr>\n",
       "      <th>3</th>\n",
       "      <td>6413</td>\n",
       "      <td>0.932689</td>\n",
       "      <td>1.190164</td>\n",
       "      <td>-0.903367</td>\n",
       "      <td>0</td>\n",
       "      <td>0</td>\n",
       "      <td>0</td>\n",
       "    </tr>\n",
       "    <tr>\n",
       "      <th>4</th>\n",
       "      <td>6448</td>\n",
       "      <td>-0.212408</td>\n",
       "      <td>2.921857</td>\n",
       "      <td>0.495531</td>\n",
       "      <td>0</td>\n",
       "      <td>0</td>\n",
       "      <td>0</td>\n",
       "    </tr>\n",
       "  </tbody>\n",
       "</table>\n",
       "</div>"
      ],
      "text/plain": [
       "     id  minimum_nights  number_of_reviews  availability_365  \\\n",
       "0  2265       -0.042764          -0.123037          0.041249   \n",
       "1  5245        0.932689          -0.339499         -0.903367   \n",
       "2  5456       -0.254819           7.366537          1.649261   \n",
       "3  6413        0.932689           1.190164         -0.903367   \n",
       "4  6448       -0.212408           2.921857          0.495531   \n",
       "\n",
       "   room_type_Hotel room  room_type_Private room  room_type_Shared room  \n",
       "0                     0                       0                      0  \n",
       "1                     0                       1                      0  \n",
       "2                     0                       0                      0  \n",
       "3                     0                       0                      0  \n",
       "4                     0                       0                      0  "
      ]
     },
     "execution_count": 19,
     "metadata": {},
     "output_type": "execute_result"
    }
   ],
   "source": [
    "features_scaled.head()"
   ]
  },
  {
   "cell_type": "markdown",
   "metadata": {},
   "source": [
    "### Modeling:"
   ]
  },
  {
   "cell_type": "code",
   "execution_count": 20,
   "metadata": {},
   "outputs": [
    {
     "name": "stdout",
     "output_type": "stream",
     "text": [
      "Training set has 6388 samples.\n",
      "Test set has 2739 samples.\n"
     ]
    }
   ],
   "source": [
    "X_train, X_test, y_train, y_test = train_test_split(features_scaled, \n",
    "                                                    log_y, \n",
    "                                                    test_size = .30, \n",
    "                                                    random_state = 42)\n",
    "                                                    #stratify=log_y)\n",
    "\n",
    "# Show the results of the split\n",
    "print(\"Training set has {} samples.\".format(X_train.shape[0]))\n",
    "print(\"Test set has {} samples.\".format(X_test.shape[0]))"
   ]
  },
  {
   "cell_type": "code",
   "execution_count": 21,
   "metadata": {},
   "outputs": [
    {
     "data": {
      "text/plain": [
       "count    2739.000000\n",
       "mean        5.047071\n",
       "std         0.600979\n",
       "min         3.931826\n",
       "25%         4.595120\n",
       "50%         5.010635\n",
       "75%         5.424950\n",
       "max         6.549651\n",
       "Name: price, dtype: float64"
      ]
     },
     "execution_count": 21,
     "metadata": {},
     "output_type": "execute_result"
    }
   ],
   "source": [
    "y_test.describe()"
   ]
  },
  {
   "cell_type": "code",
   "execution_count": 22,
   "metadata": {},
   "outputs": [
    {
     "data": {
      "text/plain": [
       "count    6388.000000\n",
       "mean        5.033422\n",
       "std         0.607531\n",
       "min         3.931826\n",
       "25%         4.564348\n",
       "50%         5.010635\n",
       "75%         5.416100\n",
       "max         6.549651\n",
       "Name: price, dtype: float64"
      ]
     },
     "execution_count": 22,
     "metadata": {},
     "output_type": "execute_result"
    }
   ],
   "source": [
    "y_train.describe()"
   ]
  },
  {
   "cell_type": "code",
   "execution_count": 25,
   "metadata": {},
   "outputs": [
    {
     "name": "stdout",
     "output_type": "stream",
     "text": [
      "                       R2 Score\n",
      "DecisionTreeRegressor  0.215938\n",
      "RandomForestRegressor  0.172841\n"
     ]
    }
   ],
   "source": [
    "models = [\n",
    "#     SVR(kernel='linear'),\n",
    "     DecisionTreeRegressor(max_depth= 7, min_samples_leaf= 10),\n",
    "#     LinearRegression(),\n",
    "#     KNeighborsRegressor(n_neighbors=7),\n",
    "     RandomForestRegressor(n_estimators=500, random_state=42)\n",
    "         ]\n",
    "\n",
    "results = {}\n",
    "\n",
    "for model in models:\n",
    "    \n",
    "    # Instantiate and fit Regressor Model\n",
    "    reg_model = model\n",
    "    reg_model.fit(X_train, y_train.values.ravel())\n",
    "    \n",
    "    # Make predictions with model\n",
    "    y_test_preds = reg_model.predict(X_test)\n",
    "    \n",
    "    # Grab model name and store results associated with model\n",
    "    name = str(model).split(\"(\")[0]\n",
    "    results[name] = r2_score(y_test, y_test_preds)\n",
    "    \n",
    "results_df = pd.DataFrame(results.values(), index=results.keys(), columns=['R2 Score'])\n",
    "print(results_df)"
   ]
  },
  {
   "cell_type": "code",
   "execution_count": 26,
   "metadata": {},
   "outputs": [
    {
     "name": "stdout",
     "output_type": "stream",
     "text": [
      "                       R2 Score\n",
      "DecisionTreeRegressor  0.215938\n",
      "RandomForestRegressor  0.172841\n"
     ]
    },
    {
     "data": {
      "text/plain": [
       "Text(0.5, 1.0, 'Comparison of Regression Models')"
      ]
     },
     "execution_count": 26,
     "metadata": {},
     "output_type": "execute_result"
    },
    {
     "data": {
      "image/png": "[encoded data removed]",
      "text/plain": [
       "<Figure size 432x288 with 1 Axes>"
      ]
     },
     "metadata": {},
     "output_type": "display_data"
    }
   ],
   "source": [
    "results_df = pd.DataFrame(results.values(), index=results.keys(), columns=['R2 Score'])\n",
    "print(results_df.sort_values('R2 Score', ascending=False))\n",
    "\n",
    "fig, ax = plt.subplots()\n",
    "\n",
    "ind = range(len(results))\n",
    "ax.barh(ind, list(results.values()), align='center', \n",
    "        color = '#55a868', alpha=0.8)\n",
    "ax.set_yticks(ind)\n",
    "ax.set_yticklabels(results.keys())\n",
    "ax.set_xlabel('r-squared score')\n",
    "ax.tick_params(left=False, top=False, right=False) \n",
    "ax.set_title('Comparison of Regression Models')\n",
    "#fig.savefig('images/compare_models.png', bbox_inches = 'tight')"
   ]
  },
  {
   "cell_type": "code",
   "execution_count": 27,
   "metadata": {},
   "outputs": [
    {
     "data": {
      "text/plain": [
       "DecisionTreeRegressor(ccp_alpha=0.0, criterion='mse', max_depth=None,\n",
       "                      max_features=None, max_leaf_nodes=None,\n",
       "                      min_impurity_decrease=0.0, min_impurity_split=None,\n",
       "                      min_samples_leaf=1, min_samples_split=2,\n",
       "                      min_weight_fraction_leaf=0.0, presort='deprecated',\n",
       "                      random_state=None, splitter='best')"
      ]
     },
     "execution_count": 27,
     "metadata": {},
     "output_type": "execute_result"
    }
   ],
   "source": [
    "# Training Decision Tree Regressor Model\n",
    "modelDTR = DecisionTreeRegressor()\n",
    "\n",
    "modelDTR.fit(X_train, y_train)"
   ]
  },
  {
   "cell_type": "code",
   "execution_count": 28,
   "metadata": {},
   "outputs": [
    {
     "data": {
      "text/html": [
       "<div>\n",
       "<style scoped>\n",
       "    .dataframe tbody tr th:only-of-type {\n",
       "        vertical-align: middle;\n",
       "    }\n",
       "\n",
       "    .dataframe tbody tr th {\n",
       "        vertical-align: top;\n",
       "    }\n",
       "\n",
       "    .dataframe thead th {\n",
       "        text-align: right;\n",
       "    }\n",
       "</style>\n",
       "<table border=\"1\" class=\"dataframe\">\n",
       "  <thead>\n",
       "    <tr style=\"text-align: right;\">\n",
       "      <th></th>\n",
       "      <th>id</th>\n",
       "      <th>minimum_nights</th>\n",
       "      <th>number_of_reviews</th>\n",
       "      <th>availability_365</th>\n",
       "      <th>room_type_Hotel room</th>\n",
       "      <th>room_type_Private room</th>\n",
       "      <th>room_type_Shared room</th>\n",
       "    </tr>\n",
       "  </thead>\n",
       "  <tbody>\n",
       "    <tr>\n",
       "      <th>3107</th>\n",
       "      <td>17624763</td>\n",
       "      <td>-0.212408</td>\n",
       "      <td>-0.411653</td>\n",
       "      <td>-0.903367</td>\n",
       "      <td>0</td>\n",
       "      <td>0</td>\n",
       "      <td>0</td>\n",
       "    </tr>\n",
       "    <tr>\n",
       "      <th>3567</th>\n",
       "      <td>20801999</td>\n",
       "      <td>-0.254819</td>\n",
       "      <td>1.796256</td>\n",
       "      <td>-0.816837</td>\n",
       "      <td>0</td>\n",
       "      <td>0</td>\n",
       "      <td>0</td>\n",
       "    </tr>\n",
       "    <tr>\n",
       "      <th>3133</th>\n",
       "      <td>17684743</td>\n",
       "      <td>-0.297230</td>\n",
       "      <td>-0.426083</td>\n",
       "      <td>-0.903367</td>\n",
       "      <td>0</td>\n",
       "      <td>1</td>\n",
       "      <td>0</td>\n",
       "    </tr>\n",
       "    <tr>\n",
       "      <th>3317</th>\n",
       "      <td>19295842</td>\n",
       "      <td>-0.297230</td>\n",
       "      <td>3.744412</td>\n",
       "      <td>1.656472</td>\n",
       "      <td>0</td>\n",
       "      <td>0</td>\n",
       "      <td>0</td>\n",
       "    </tr>\n",
       "    <tr>\n",
       "      <th>8424</th>\n",
       "      <td>46569289</td>\n",
       "      <td>-0.254819</td>\n",
       "      <td>-0.382791</td>\n",
       "      <td>-0.463507</td>\n",
       "      <td>0</td>\n",
       "      <td>0</td>\n",
       "      <td>0</td>\n",
       "    </tr>\n",
       "    <tr>\n",
       "      <th>...</th>\n",
       "      <td>...</td>\n",
       "      <td>...</td>\n",
       "      <td>...</td>\n",
       "      <td>...</td>\n",
       "      <td>...</td>\n",
       "      <td>...</td>\n",
       "      <td>...</td>\n",
       "    </tr>\n",
       "    <tr>\n",
       "      <th>7717</th>\n",
       "      <td>44283066</td>\n",
       "      <td>-0.254819</td>\n",
       "      <td>-0.454945</td>\n",
       "      <td>-0.261605</td>\n",
       "      <td>0</td>\n",
       "      <td>0</td>\n",
       "      <td>0</td>\n",
       "    </tr>\n",
       "    <tr>\n",
       "      <th>8153</th>\n",
       "      <td>45824111</td>\n",
       "      <td>-0.297230</td>\n",
       "      <td>-0.469376</td>\n",
       "      <td>1.728580</td>\n",
       "      <td>0</td>\n",
       "      <td>1</td>\n",
       "      <td>0</td>\n",
       "    </tr>\n",
       "    <tr>\n",
       "      <th>1940</th>\n",
       "      <td>10886605</td>\n",
       "      <td>-0.297230</td>\n",
       "      <td>-0.440514</td>\n",
       "      <td>-0.903367</td>\n",
       "      <td>0</td>\n",
       "      <td>0</td>\n",
       "      <td>0</td>\n",
       "    </tr>\n",
       "    <tr>\n",
       "      <th>5131</th>\n",
       "      <td>29774978</td>\n",
       "      <td>-0.254819</td>\n",
       "      <td>1.002564</td>\n",
       "      <td>-0.066913</td>\n",
       "      <td>0</td>\n",
       "      <td>0</td>\n",
       "      <td>0</td>\n",
       "    </tr>\n",
       "    <tr>\n",
       "      <th>6837</th>\n",
       "      <td>40177659</td>\n",
       "      <td>-0.297230</td>\n",
       "      <td>-0.238483</td>\n",
       "      <td>-0.701464</td>\n",
       "      <td>0</td>\n",
       "      <td>0</td>\n",
       "      <td>0</td>\n",
       "    </tr>\n",
       "  </tbody>\n",
       "</table>\n",
       "<p>2739 rows × 7 columns</p>\n",
       "</div>"
      ],
      "text/plain": [
       "            id  minimum_nights  number_of_reviews  availability_365  \\\n",
       "3107  17624763       -0.212408          -0.411653         -0.903367   \n",
       "3567  20801999       -0.254819           1.796256         -0.816837   \n",
       "3133  17684743       -0.297230          -0.426083         -0.903367   \n",
       "3317  19295842       -0.297230           3.744412          1.656472   \n",
       "8424  46569289       -0.254819          -0.382791         -0.463507   \n",
       "...        ...             ...                ...               ...   \n",
       "7717  44283066       -0.254819          -0.454945         -0.261605   \n",
       "8153  45824111       -0.297230          -0.469376          1.728580   \n",
       "1940  10886605       -0.297230          -0.440514         -0.903367   \n",
       "5131  29774978       -0.254819           1.002564         -0.066913   \n",
       "6837  40177659       -0.297230          -0.238483         -0.701464   \n",
       "\n",
       "      room_type_Hotel room  room_type_Private room  room_type_Shared room  \n",
       "3107                     0                       0                      0  \n",
       "3567                     0                       0                      0  \n",
       "3133                     0                       1                      0  \n",
       "3317                     0                       0                      0  \n",
       "8424                     0                       0                      0  \n",
       "...                    ...                     ...                    ...  \n",
       "7717                     0                       0                      0  \n",
       "8153                     0                       1                      0  \n",
       "1940                     0                       0                      0  \n",
       "5131                     0                       0                      0  \n",
       "6837                     0                       0                      0  \n",
       "\n",
       "[2739 rows x 7 columns]"
      ]
     },
     "execution_count": 28,
     "metadata": {},
     "output_type": "execute_result"
    }
   ],
   "source": [
    "X_test"
   ]
  },
  {
   "cell_type": "code",
   "execution_count": 29,
   "metadata": {},
   "outputs": [
    {
     "data": {
      "text/plain": [
       "3107    4.787492\n",
       "3567    4.700480\n",
       "3133    4.248495\n",
       "3317    4.595120\n",
       "8424    4.828314\n",
       "          ...   \n",
       "7717    6.212606\n",
       "8153    4.219508\n",
       "1940    5.192957\n",
       "5131    4.682131\n",
       "6837    4.094345\n",
       "Name: price, Length: 2739, dtype: float64"
      ]
     },
     "execution_count": 29,
     "metadata": {},
     "output_type": "execute_result"
    }
   ],
   "source": [
    "y_test"
   ]
  },
  {
   "cell_type": "code",
   "execution_count": 30,
   "metadata": {},
   "outputs": [
    {
     "data": {
      "text/plain": [
       "-0.45279130722075966"
      ]
     },
     "execution_count": 30,
     "metadata": {},
     "output_type": "execute_result"
    }
   ],
   "source": [
    "modelDTR.score(X_test, y_test)"
   ]
  },
  {
   "cell_type": "code",
   "execution_count": 31,
   "metadata": {},
   "outputs": [
    {
     "name": "stdout",
     "output_type": "stream",
     "text": [
      "Decision Tree Regressor accuracy: -0.45\n"
     ]
    }
   ],
   "source": [
    "# Accuracy score for Decision Tree\n",
    "y_pred = modelDTR.predict(X_test)\n",
    "cross_val_score(modelDTR, features_scaled, y, cv=10)\n",
    "print('Decision Tree Regressor accuracy: {:.2f}'.format(r2_score(y_test, y_pred)))"
   ]
  },
  {
   "cell_type": "markdown",
   "metadata": {},
   "source": [
    "### Decision Tree Regressor:\n",
    "#### Hyperparameter Tuning:"
   ]
  },
  {
   "cell_type": "code",
   "execution_count": null,
   "metadata": {},
   "outputs": [],
   "source": [
    "# Using GridSearchCV on DecisionTreeRegressor\n",
    "#create a dictionary of all values we want to test\n",
    "param_grid = {\"max_depth\": np.arange(1, 21),\n",
    "              \"max_features\": np.arange(1, 9),\n",
    "              \"min_samples_leaf\": [20, 40, 100],\n",
    "              \"min_samples_split\": [10, 20, 40],\n",
    "              \"max_leaf_nodes\": [5, 20, 100],\n",
    "              #\"criterion\": [\"mse\", \"mae\"]\n",
    "             }\n",
    "#use gridsearch to test all values\n",
    "dtr_cv = GridSearchCV(modelDTR, param_grid, cv=5)\n",
    "#fit model to data\n",
    "dtr_cv.fit(X_train, y_train)"
   ]
  },
  {
   "cell_type": "code",
   "execution_count": null,
   "metadata": {},
   "outputs": [],
   "source": [
    "print(dtr_cv.best_params_)\n",
    "print(cross_val_score(modelDTR, features_scaled, y, cv=10))"
   ]
  },
  {
   "cell_type": "code",
   "execution_count": null,
   "metadata": {},
   "outputs": [],
   "source": [
    "modelDTR = DecisionTreeRegressor(max_depth = 10, max_features = 8, max_leaf_nodes = 100,\n",
    "                                 min_samples_leaf= 20, min_samples_split = 40)\n",
    "modelDTR.fit(X_train, y_train)\n",
    "y_test_preds = modelDTR.predict(X_test)\n",
    "print(y_test_preds)\n",
    "r2_score(y_test, y_test_preds)"
   ]
  },
  {
   "cell_type": "code",
   "execution_count": null,
   "metadata": {},
   "outputs": [],
   "source": [
    "lr = LinearRegression()\n",
    "# Pass data to the LR model\n",
    "lr.fit(X_train,y_train)\n",
    "y_test_preds = lr.predict(X_test)\n",
    "r2_score(y_test, y_test_preds)"
   ]
  },
  {
   "cell_type": "code",
   "execution_count": null,
   "metadata": {},
   "outputs": [],
   "source": [
    "plt.figure(figsize=(12,8))\n",
    "plt.subplot(2,2,1)\n",
    "sns.regplot(y_train, lr.predict(X_train), line_kws={\"color\":\"r\",\"alpha\":0.7,\"lw\":2})\n",
    "plt.xlabel('Actual training values')\n",
    "plt.ylabel('Predicted training values(price)')\n",
    "plt.title('Training values for Linear Regression')\n",
    "plt.subplot(2,2,2)\n",
    "sns.regplot(y_test, lr.predict(X_test), line_kws={\"color\":\"r\",\"alpha\":0.7,\"lw\":2})\n",
    "plt.xlabel('Actual test values')\n",
    "plt.ylabel('Predicted test values(price)')\n",
    "plt.title('Test values for Linear Regression')\n",
    "plt.show()"
   ]
  },
  {
   "cell_type": "code",
   "execution_count": null,
   "metadata": {},
   "outputs": [],
   "source": [
    "knn = KNeighborsRegressor()\n",
    "# Create 3 folds\n",
    "kfold = KFold(n_splits=3, shuffle=True, random_state=42)\n",
    "# Define our hyperparameters\n",
    "params = [{'n_neighbors': [2,3,4,5,6], 'weights': ['uniform','distance']}]\n",
    "\n",
    "# Search for best hyperparameters\n",
    "grid = GridSearchCV(estimator=knn, param_grid=params, cv=kfold, scoring='r2')\n",
    "grid.fit(X_train, y_train)"
   ]
  },
  {
   "cell_type": "code",
   "execution_count": null,
   "metadata": {},
   "outputs": [],
   "source": [
    "# Get the results\n",
    "print(grid.best_score_)\n",
    "print(grid.best_estimator_)\n",
    "print(grid.best_params_)"
   ]
  },
  {
   "cell_type": "code",
   "execution_count": null,
   "metadata": {},
   "outputs": [],
   "source": [
    "knn = KNeighborsRegressor(n_neighbors= 6, weights= 'uniform')\n",
    "knn.fit(X_train, y_train)\n",
    "predictions = knn.predict(X_test)\n",
    "knn_mse = mean_squared_error(predictions, y_test)\n",
    "knn_mse"
   ]
  },
  {
   "cell_type": "markdown",
   "metadata": {},
   "source": [
    "### Random Forest Regressor:\n",
    "#### Hyperparameter Tuning:"
   ]
  },
  {
   "cell_type": "code",
   "execution_count": null,
   "metadata": {},
   "outputs": [],
   "source": [
    "modelRFR = RandomForestRegressor(random_state=42)"
   ]
  },
  {
   "cell_type": "code",
   "execution_count": null,
   "metadata": {},
   "outputs": [],
   "source": [
    "# Number of trees in random forest\n",
    "n_estimators = [int(x) for x in np.linspace(start = 100, stop = 1200, num = 12)]\n",
    "# Number of features to consider at every split\n",
    "max_features = ['auto']\n",
    "# Maximum number of levels in tree\n",
    "max_depth = [int(x) for x in np.linspace(5, 30, num = 6)]\n",
    "# max_depth.append(None)\n",
    "# Minimum number of samples required to split a node\n",
    "min_samples_split = [2, 5, 10, 15, 100]\n",
    "# Minimum number of samples required at each leaf node\n",
    "min_samples_leaf = [1, 2, 5, 10]\n",
    "# Method of selecting samples for training each tree\n",
    "# bootstrap = [True, False]\n",
    "\n",
    "# Create the random grid\n",
    "param_grid = { \n",
    "    #'n_estimators': n_estimators,\n",
    "    'max_features': max_features,\n",
    "    'max_depth': max_depth,\n",
    "    'min_samples_split': min_samples_split,\n",
    "    'min_samples_leaf': min_samples_leaf,\n",
    "    'bootstrap': [True]\n",
    "}"
   ]
  },
  {
   "cell_type": "code",
   "execution_count": null,
   "metadata": {},
   "outputs": [],
   "source": [
    "# %%time\n",
    "# CV_RFR = GridSearchCV(estimator=modelRFR, param_grid=param_grid, cv= 5)\n",
    "# CV_RFR.fit(X_train, np.ravel(y_train))"
   ]
  },
  {
   "cell_type": "code",
   "execution_count": null,
   "metadata": {},
   "outputs": [],
   "source": [
    "#CV_RFR.best_params_"
   ]
  },
  {
   "cell_type": "markdown",
   "metadata": {},
   "source": [
    "### XGB Regressor:\n",
    "#### Hyperparameter Tuning:"
   ]
  },
  {
   "cell_type": "code",
   "execution_count": null,
   "metadata": {},
   "outputs": [],
   "source": [
    "xgb1 = XGBRegressor()\n",
    "parameters = {'nthread':[4], #when use hyperthread, xgboost may become slower\n",
    "              'objective':['reg:linear'],\n",
    "              'learning_rate': [.03, 0.05, .07], #so called `eta` value\n",
    "              'max_depth': [5, 6, 7],\n",
    "              'min_child_weight': [4],\n",
    "              'silent': [1],\n",
    "              'subsample': [0.7],\n",
    "              'colsample_bytree': [0.7],\n",
    "              'n_estimators': [500]}\n",
    "\n",
    "xgb_grid = GridSearchCV(xgb1,\n",
    "                        parameters,\n",
    "                        cv = 5,\n",
    "                        n_jobs = 5,\n",
    "                        verbose=True)"
   ]
  },
  {
   "cell_type": "code",
   "execution_count": null,
   "metadata": {},
   "outputs": [],
   "source": [
    "xgb_grid.fit(X_train, y_train)"
   ]
  },
  {
   "cell_type": "code",
   "execution_count": null,
   "metadata": {},
   "outputs": [],
   "source": [
    "xgb_grid.best_params_"
   ]
  },
  {
   "cell_type": "code",
   "execution_count": null,
   "metadata": {},
   "outputs": [],
   "source": []
  },
  {
   "cell_type": "code",
   "execution_count": null,
   "metadata": {},
   "outputs": [],
   "source": []
  },
  {
   "cell_type": "code",
   "execution_count": null,
   "metadata": {},
   "outputs": [],
   "source": []
  },
  {
   "cell_type": "code",
   "execution_count": null,
   "metadata": {},
   "outputs": [],
   "source": []
  },
  {
   "cell_type": "code",
   "execution_count": null,
   "metadata": {},
   "outputs": [],
   "source": []
  },
  {
   "cell_type": "code",
   "execution_count": null,
   "metadata": {},
   "outputs": [],
   "source": []
  },
  {
   "cell_type": "code",
   "execution_count": null,
   "metadata": {},
   "outputs": [],
   "source": []
  },
  {
   "cell_type": "code",
   "execution_count": null,
   "metadata": {},
   "outputs": [],
   "source": []
  },
  {
   "cell_type": "code",
   "execution_count": null,
   "metadata": {},
   "outputs": [],
   "source": []
  },
  {
   "cell_type": "code",
   "execution_count": null,
   "metadata": {},
   "outputs": [],
   "source": []
  }
 ],
 "metadata": {
  "kernelspec": {
   "display_name": "Python 3",
   "language": "python",
   "name": "python3"
  },
  "language_info": {
   "codemirror_mode": {
    "name": "ipython",
    "version": 3
   },
   "file_extension": ".py",
   "mimetype": "text/x-python",
   "name": "python",
   "nbconvert_exporter": "python",
   "pygments_lexer": "ipython3",
   "version": "3.7.7"
  }
 },
 "nbformat": 4,
 "nbformat_minor": 4
}
