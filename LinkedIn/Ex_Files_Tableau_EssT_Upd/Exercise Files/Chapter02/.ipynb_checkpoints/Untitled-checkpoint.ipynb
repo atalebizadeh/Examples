{
 "cells": [
  {
   "cell_type": "code",
   "execution_count": 1,
   "metadata": {},
   "outputs": [],
   "source": [
    "import pandas as pd\n",
    "import numpy as np\n",
    "\n",
    "import matplotlib.pyplot as plt\n",
    "import seaborn as sns\n",
    "\n",
    "sns.set_style()\n",
    "%matplotlib inline"
   ]
  },
  {
   "cell_type": "code",
   "execution_count": 2,
   "metadata": {},
   "outputs": [
    {
     "data": {
      "text/html": [
       "<div>\n",
       "<style scoped>\n",
       "    .dataframe tbody tr th:only-of-type {\n",
       "        vertical-align: middle;\n",
       "    }\n",
       "\n",
       "    .dataframe tbody tr th {\n",
       "        vertical-align: top;\n",
       "    }\n",
       "\n",
       "    .dataframe thead th {\n",
       "        text-align: right;\n",
       "    }\n",
       "</style>\n",
       "<table border=\"1\" class=\"dataframe\">\n",
       "  <thead>\n",
       "    <tr style=\"text-align: right;\">\n",
       "      <th></th>\n",
       "      <th>CustomerType</th>\n",
       "      <th>CustomerName</th>\n",
       "      <th>CustomerState</th>\n",
       "    </tr>\n",
       "    <tr>\n",
       "      <th>CustomerID</th>\n",
       "      <th></th>\n",
       "      <th></th>\n",
       "      <th></th>\n",
       "    </tr>\n",
       "  </thead>\n",
       "  <tbody>\n",
       "    <tr>\n",
       "      <th>2142</th>\n",
       "      <td>Individual</td>\n",
       "      <td>Aarika Adlington</td>\n",
       "      <td>North Carolina</td>\n",
       "    </tr>\n",
       "    <tr>\n",
       "      <th>2143</th>\n",
       "      <td>Individual</td>\n",
       "      <td>Aaron Homenick</td>\n",
       "      <td>Indiana</td>\n",
       "    </tr>\n",
       "    <tr>\n",
       "      <th>2144</th>\n",
       "      <td>Individual</td>\n",
       "      <td>Abba Handman</td>\n",
       "      <td>Florida</td>\n",
       "    </tr>\n",
       "    <tr>\n",
       "      <th>2145</th>\n",
       "      <td>Individual</td>\n",
       "      <td>Abbie Leroux</td>\n",
       "      <td>Florida</td>\n",
       "    </tr>\n",
       "    <tr>\n",
       "      <th>2146</th>\n",
       "      <td>Business</td>\n",
       "      <td>Abbott Group</td>\n",
       "      <td>Florida</td>\n",
       "    </tr>\n",
       "  </tbody>\n",
       "</table>\n",
       "</div>"
      ],
      "text/plain": [
       "           CustomerType      CustomerName   CustomerState\n",
       "CustomerID                                               \n",
       "2142         Individual  Aarika Adlington  North Carolina\n",
       "2143         Individual    Aaron Homenick         Indiana\n",
       "2144         Individual      Abba Handman         Florida\n",
       "2145         Individual      Abbie Leroux         Florida\n",
       "2146           Business      Abbott Group         Florida"
      ]
     },
     "execution_count": 2,
     "metadata": {},
     "output_type": "execute_result"
    }
   ],
   "source": [
    "customers = pd.read_excel('Customers.xlsx', index_col='CustomerID')\n",
    "customers.head()"
   ]
  },
  {
   "cell_type": "code",
   "execution_count": 3,
   "metadata": {},
   "outputs": [
    {
     "data": {
      "text/plain": [
       "(2361, 3)"
      ]
     },
     "execution_count": 3,
     "metadata": {},
     "output_type": "execute_result"
    }
   ],
   "source": [
    "customers.shape"
   ]
  },
  {
   "cell_type": "code",
   "execution_count": 4,
   "metadata": {},
   "outputs": [
    {
     "data": {
      "text/plain": [
       "2361"
      ]
     },
     "execution_count": 4,
     "metadata": {},
     "output_type": "execute_result"
    }
   ],
   "source": [
    "customers.index.nunique()"
   ]
  },
  {
   "cell_type": "code",
   "execution_count": 5,
   "metadata": {},
   "outputs": [
    {
     "data": {
      "text/html": [
       "<div>\n",
       "<style scoped>\n",
       "    .dataframe tbody tr th:only-of-type {\n",
       "        vertical-align: middle;\n",
       "    }\n",
       "\n",
       "    .dataframe tbody tr th {\n",
       "        vertical-align: top;\n",
       "    }\n",
       "\n",
       "    .dataframe thead th {\n",
       "        text-align: right;\n",
       "    }\n",
       "</style>\n",
       "<table border=\"1\" class=\"dataframe\">\n",
       "  <thead>\n",
       "    <tr style=\"text-align: right;\">\n",
       "      <th></th>\n",
       "      <th>OrderNum</th>\n",
       "      <th>OrderDate</th>\n",
       "      <th>OrderType</th>\n",
       "      <th>CustomerID</th>\n",
       "      <th>ProductID</th>\n",
       "      <th>Quantity</th>\n",
       "    </tr>\n",
       "  </thead>\n",
       "  <tbody>\n",
       "    <tr>\n",
       "      <th>0</th>\n",
       "      <td>1100948</td>\n",
       "      <td>2017-09-03</td>\n",
       "      <td>Retail</td>\n",
       "      <td>2853</td>\n",
       "      <td>TV810</td>\n",
       "      <td>1</td>\n",
       "    </tr>\n",
       "    <tr>\n",
       "      <th>1</th>\n",
       "      <td>1101096</td>\n",
       "      <td>2017-09-24</td>\n",
       "      <td>Wholesale</td>\n",
       "      <td>3557</td>\n",
       "      <td>BP104</td>\n",
       "      <td>10</td>\n",
       "    </tr>\n",
       "    <tr>\n",
       "      <th>2</th>\n",
       "      <td>1101138</td>\n",
       "      <td>2017-10-01</td>\n",
       "      <td>Wholesale</td>\n",
       "      <td>4036</td>\n",
       "      <td>DS306</td>\n",
       "      <td>4</td>\n",
       "    </tr>\n",
       "    <tr>\n",
       "      <th>3</th>\n",
       "      <td>1101158</td>\n",
       "      <td>2017-10-03</td>\n",
       "      <td>Retail</td>\n",
       "      <td>4377</td>\n",
       "      <td>DS306</td>\n",
       "      <td>1</td>\n",
       "    </tr>\n",
       "    <tr>\n",
       "      <th>4</th>\n",
       "      <td>1101181</td>\n",
       "      <td>2017-10-09</td>\n",
       "      <td>Retail</td>\n",
       "      <td>3822</td>\n",
       "      <td>EB507</td>\n",
       "      <td>1</td>\n",
       "    </tr>\n",
       "  </tbody>\n",
       "</table>\n",
       "</div>"
      ],
      "text/plain": [
       "   OrderNum  OrderDate  OrderType  CustomerID ProductID  Quantity\n",
       "0   1100948 2017-09-03     Retail        2853     TV810         1\n",
       "1   1101096 2017-09-24  Wholesale        3557     BP104        10\n",
       "2   1101138 2017-10-01  Wholesale        4036     DS306         4\n",
       "3   1101158 2017-10-03     Retail        4377     DS306         1\n",
       "4   1101181 2017-10-09     Retail        3822     EB507         1"
      ]
     },
     "execution_count": 5,
     "metadata": {},
     "output_type": "execute_result"
    }
   ],
   "source": [
    "orders = pd.read_excel('Orders.xlsx')\n",
    "orders.head()"
   ]
  },
  {
   "cell_type": "code",
   "execution_count": 6,
   "metadata": {
    "scrolled": true
   },
   "outputs": [
    {
     "data": {
      "text/html": [
       "<div>\n",
       "<style scoped>\n",
       "    .dataframe tbody tr th:only-of-type {\n",
       "        vertical-align: middle;\n",
       "    }\n",
       "\n",
       "    .dataframe tbody tr th {\n",
       "        vertical-align: top;\n",
       "    }\n",
       "\n",
       "    .dataframe thead th {\n",
       "        text-align: right;\n",
       "    }\n",
       "</style>\n",
       "<table border=\"1\" class=\"dataframe\">\n",
       "  <thead>\n",
       "    <tr style=\"text-align: right;\">\n",
       "      <th></th>\n",
       "      <th>ProductID</th>\n",
       "      <th>ProductCategory</th>\n",
       "      <th>ProductName</th>\n",
       "      <th>ProductPrice</th>\n",
       "    </tr>\n",
       "  </thead>\n",
       "  <tbody>\n",
       "    <tr>\n",
       "      <th>0</th>\n",
       "      <td>BP101</td>\n",
       "      <td>Blueprints</td>\n",
       "      <td>All Eyes Drone Blueprint</td>\n",
       "      <td>9.99</td>\n",
       "    </tr>\n",
       "    <tr>\n",
       "      <th>1</th>\n",
       "      <td>BP102</td>\n",
       "      <td>Blueprints</td>\n",
       "      <td>Bsquare Robot Blueprint</td>\n",
       "      <td>8.99</td>\n",
       "    </tr>\n",
       "    <tr>\n",
       "      <th>2</th>\n",
       "      <td>BP104</td>\n",
       "      <td>Blueprints</td>\n",
       "      <td>Cat Robot Blueprint</td>\n",
       "      <td>4.99</td>\n",
       "    </tr>\n",
       "    <tr>\n",
       "      <th>3</th>\n",
       "      <td>BP105</td>\n",
       "      <td>Blueprints</td>\n",
       "      <td>Creature Robot Arms Blueprint</td>\n",
       "      <td>12.00</td>\n",
       "    </tr>\n",
       "    <tr>\n",
       "      <th>4</th>\n",
       "      <td>BP106</td>\n",
       "      <td>Blueprints</td>\n",
       "      <td>Hexacopter Drone Blueprint</td>\n",
       "      <td>8.99</td>\n",
       "    </tr>\n",
       "  </tbody>\n",
       "</table>\n",
       "</div>"
      ],
      "text/plain": [
       "  ProductID ProductCategory                     ProductName  ProductPrice\n",
       "0     BP101      Blueprints        All Eyes Drone Blueprint          9.99\n",
       "1     BP102      Blueprints         Bsquare Robot Blueprint          8.99\n",
       "2     BP104      Blueprints             Cat Robot Blueprint          4.99\n",
       "3     BP105      Blueprints  Creature Robot Arms Blueprint          12.00\n",
       "4     BP106      Blueprints      Hexacopter Drone Blueprint          8.99"
      ]
     },
     "execution_count": 6,
     "metadata": {},
     "output_type": "execute_result"
    }
   ],
   "source": [
    "products = pd.read_excel('Products.xlsx')\n",
    "products.head()"
   ]
  },
  {
   "cell_type": "code",
   "execution_count": 7,
   "metadata": {},
   "outputs": [],
   "source": [
    "prod_order = pd.merge(orders, products, on='ProductID')"
   ]
  },
  {
   "cell_type": "code",
   "execution_count": 8,
   "metadata": {},
   "outputs": [
    {
     "name": "stdout",
     "output_type": "stream",
     "text": [
      "<class 'pandas.core.frame.DataFrame'>\n",
      "Int64Index: 4976 entries, 0 to 4975\n",
      "Data columns (total 9 columns):\n",
      " #   Column           Non-Null Count  Dtype         \n",
      "---  ------           --------------  -----         \n",
      " 0   OrderNum         4976 non-null   int64         \n",
      " 1   OrderDate        4976 non-null   datetime64[ns]\n",
      " 2   OrderType        4976 non-null   object        \n",
      " 3   CustomerID       4976 non-null   int64         \n",
      " 4   ProductID        4976 non-null   object        \n",
      " 5   Quantity         4976 non-null   int64         \n",
      " 6   ProductCategory  4976 non-null   object        \n",
      " 7   ProductName      4976 non-null   object        \n",
      " 8   ProductPrice     4976 non-null   float64       \n",
      "dtypes: datetime64[ns](1), float64(1), int64(3), object(4)\n",
      "memory usage: 388.8+ KB\n"
     ]
    }
   ],
   "source": [
    "prod_order.info()"
   ]
  },
  {
   "cell_type": "code",
   "execution_count": 9,
   "metadata": {
    "scrolled": true
   },
   "outputs": [
    {
     "data": {
      "text/html": [
       "<div>\n",
       "<style scoped>\n",
       "    .dataframe tbody tr th:only-of-type {\n",
       "        vertical-align: middle;\n",
       "    }\n",
       "\n",
       "    .dataframe tbody tr th {\n",
       "        vertical-align: top;\n",
       "    }\n",
       "\n",
       "    .dataframe thead th {\n",
       "        text-align: right;\n",
       "    }\n",
       "</style>\n",
       "<table border=\"1\" class=\"dataframe\">\n",
       "  <thead>\n",
       "    <tr style=\"text-align: right;\">\n",
       "      <th></th>\n",
       "      <th>OrderNum</th>\n",
       "      <th>OrderDate</th>\n",
       "      <th>OrderType</th>\n",
       "      <th>CustomerID</th>\n",
       "      <th>ProductID</th>\n",
       "      <th>Quantity</th>\n",
       "      <th>ProductCategory</th>\n",
       "      <th>ProductName</th>\n",
       "      <th>ProductPrice</th>\n",
       "    </tr>\n",
       "  </thead>\n",
       "  <tbody>\n",
       "    <tr>\n",
       "      <th>0</th>\n",
       "      <td>1100948</td>\n",
       "      <td>2017-09-03</td>\n",
       "      <td>Retail</td>\n",
       "      <td>2853</td>\n",
       "      <td>TV810</td>\n",
       "      <td>1</td>\n",
       "      <td>Training Videos</td>\n",
       "      <td>Understanding Automation</td>\n",
       "      <td>44.95</td>\n",
       "    </tr>\n",
       "    <tr>\n",
       "      <th>1</th>\n",
       "      <td>1103787</td>\n",
       "      <td>2018-10-17</td>\n",
       "      <td>Retail</td>\n",
       "      <td>3710</td>\n",
       "      <td>TV810</td>\n",
       "      <td>1</td>\n",
       "      <td>Training Videos</td>\n",
       "      <td>Understanding Automation</td>\n",
       "      <td>44.95</td>\n",
       "    </tr>\n",
       "    <tr>\n",
       "      <th>2</th>\n",
       "      <td>1103799</td>\n",
       "      <td>2018-10-18</td>\n",
       "      <td>Wholesale</td>\n",
       "      <td>4036</td>\n",
       "      <td>TV810</td>\n",
       "      <td>78</td>\n",
       "      <td>Training Videos</td>\n",
       "      <td>Understanding Automation</td>\n",
       "      <td>44.95</td>\n",
       "    </tr>\n",
       "    <tr>\n",
       "      <th>3</th>\n",
       "      <td>1102460</td>\n",
       "      <td>2018-04-14</td>\n",
       "      <td>Wholesale</td>\n",
       "      <td>3551</td>\n",
       "      <td>TV810</td>\n",
       "      <td>9</td>\n",
       "      <td>Training Videos</td>\n",
       "      <td>Understanding Automation</td>\n",
       "      <td>44.95</td>\n",
       "    </tr>\n",
       "    <tr>\n",
       "      <th>4</th>\n",
       "      <td>1103930</td>\n",
       "      <td>2018-11-09</td>\n",
       "      <td>Retail</td>\n",
       "      <td>4083</td>\n",
       "      <td>TV810</td>\n",
       "      <td>1</td>\n",
       "      <td>Training Videos</td>\n",
       "      <td>Understanding Automation</td>\n",
       "      <td>44.95</td>\n",
       "    </tr>\n",
       "  </tbody>\n",
       "</table>\n",
       "</div>"
      ],
      "text/plain": [
       "   OrderNum  OrderDate  OrderType  CustomerID ProductID  Quantity  \\\n",
       "0   1100948 2017-09-03     Retail        2853     TV810         1   \n",
       "1   1103787 2018-10-17     Retail        3710     TV810         1   \n",
       "2   1103799 2018-10-18  Wholesale        4036     TV810        78   \n",
       "3   1102460 2018-04-14  Wholesale        3551     TV810         9   \n",
       "4   1103930 2018-11-09     Retail        4083     TV810         1   \n",
       "\n",
       "   ProductCategory               ProductName  ProductPrice  \n",
       "0  Training Videos  Understanding Automation         44.95  \n",
       "1  Training Videos  Understanding Automation         44.95  \n",
       "2  Training Videos  Understanding Automation         44.95  \n",
       "3  Training Videos  Understanding Automation         44.95  \n",
       "4  Training Videos  Understanding Automation         44.95  "
      ]
     },
     "execution_count": 9,
     "metadata": {},
     "output_type": "execute_result"
    }
   ],
   "source": [
    "prod_order.head()"
   ]
  },
  {
   "cell_type": "code",
   "execution_count": 10,
   "metadata": {},
   "outputs": [],
   "source": [
    "customer_order = pd.merge(orders, customers, on='CustomerID')"
   ]
  },
  {
   "cell_type": "code",
   "execution_count": 11,
   "metadata": {
    "scrolled": true
   },
   "outputs": [
    {
     "name": "stdout",
     "output_type": "stream",
     "text": [
      "<class 'pandas.core.frame.DataFrame'>\n",
      "Int64Index: 4976 entries, 0 to 4975\n",
      "Data columns (total 9 columns):\n",
      " #   Column         Non-Null Count  Dtype         \n",
      "---  ------         --------------  -----         \n",
      " 0   OrderNum       4976 non-null   int64         \n",
      " 1   OrderDate      4976 non-null   datetime64[ns]\n",
      " 2   OrderType      4976 non-null   object        \n",
      " 3   CustomerID     4976 non-null   int64         \n",
      " 4   ProductID      4976 non-null   object        \n",
      " 5   Quantity       4976 non-null   int64         \n",
      " 6   CustomerType   4976 non-null   object        \n",
      " 7   CustomerName   4976 non-null   object        \n",
      " 8   CustomerState  4976 non-null   object        \n",
      "dtypes: datetime64[ns](1), int64(3), object(5)\n",
      "memory usage: 388.8+ KB\n"
     ]
    }
   ],
   "source": [
    "customer_order.info()"
   ]
  },
  {
   "cell_type": "code",
   "execution_count": 12,
   "metadata": {},
   "outputs": [
    {
     "data": {
      "text/html": [
       "<div>\n",
       "<style scoped>\n",
       "    .dataframe tbody tr th:only-of-type {\n",
       "        vertical-align: middle;\n",
       "    }\n",
       "\n",
       "    .dataframe tbody tr th {\n",
       "        vertical-align: top;\n",
       "    }\n",
       "\n",
       "    .dataframe thead th {\n",
       "        text-align: right;\n",
       "    }\n",
       "</style>\n",
       "<table border=\"1\" class=\"dataframe\">\n",
       "  <thead>\n",
       "    <tr style=\"text-align: right;\">\n",
       "      <th></th>\n",
       "      <th>OrderNum</th>\n",
       "      <th>OrderDate</th>\n",
       "      <th>OrderType</th>\n",
       "      <th>CustomerID</th>\n",
       "      <th>ProductID</th>\n",
       "      <th>Quantity</th>\n",
       "      <th>CustomerType</th>\n",
       "      <th>CustomerName</th>\n",
       "      <th>CustomerState</th>\n",
       "    </tr>\n",
       "  </thead>\n",
       "  <tbody>\n",
       "    <tr>\n",
       "      <th>0</th>\n",
       "      <td>1100948</td>\n",
       "      <td>2017-09-03</td>\n",
       "      <td>Retail</td>\n",
       "      <td>2853</td>\n",
       "      <td>TV810</td>\n",
       "      <td>1</td>\n",
       "      <td>Individual</td>\n",
       "      <td>Ewan Ladd</td>\n",
       "      <td>Ohio</td>\n",
       "    </tr>\n",
       "    <tr>\n",
       "      <th>1</th>\n",
       "      <td>1101096</td>\n",
       "      <td>2017-09-24</td>\n",
       "      <td>Wholesale</td>\n",
       "      <td>3557</td>\n",
       "      <td>BP104</td>\n",
       "      <td>10</td>\n",
       "      <td>Business</td>\n",
       "      <td>Lockman Group</td>\n",
       "      <td>Kansas</td>\n",
       "    </tr>\n",
       "    <tr>\n",
       "      <th>2</th>\n",
       "      <td>1105701</td>\n",
       "      <td>2019-07-30</td>\n",
       "      <td>Wholesale</td>\n",
       "      <td>3557</td>\n",
       "      <td>EB511</td>\n",
       "      <td>11</td>\n",
       "      <td>Business</td>\n",
       "      <td>Lockman Group</td>\n",
       "      <td>Kansas</td>\n",
       "    </tr>\n",
       "    <tr>\n",
       "      <th>3</th>\n",
       "      <td>1101938</td>\n",
       "      <td>2018-01-25</td>\n",
       "      <td>Wholesale</td>\n",
       "      <td>3557</td>\n",
       "      <td>RS706</td>\n",
       "      <td>6</td>\n",
       "      <td>Business</td>\n",
       "      <td>Lockman Group</td>\n",
       "      <td>Kansas</td>\n",
       "    </tr>\n",
       "    <tr>\n",
       "      <th>4</th>\n",
       "      <td>1103318</td>\n",
       "      <td>2018-08-10</td>\n",
       "      <td>Wholesale</td>\n",
       "      <td>3557</td>\n",
       "      <td>BP104</td>\n",
       "      <td>5</td>\n",
       "      <td>Business</td>\n",
       "      <td>Lockman Group</td>\n",
       "      <td>Kansas</td>\n",
       "    </tr>\n",
       "  </tbody>\n",
       "</table>\n",
       "</div>"
      ],
      "text/plain": [
       "   OrderNum  OrderDate  OrderType  CustomerID ProductID  Quantity  \\\n",
       "0   1100948 2017-09-03     Retail        2853     TV810         1   \n",
       "1   1101096 2017-09-24  Wholesale        3557     BP104        10   \n",
       "2   1105701 2019-07-30  Wholesale        3557     EB511        11   \n",
       "3   1101938 2018-01-25  Wholesale        3557     RS706         6   \n",
       "4   1103318 2018-08-10  Wholesale        3557     BP104         5   \n",
       "\n",
       "  CustomerType   CustomerName CustomerState  \n",
       "0   Individual      Ewan Ladd          Ohio  \n",
       "1     Business  Lockman Group        Kansas  \n",
       "2     Business  Lockman Group        Kansas  \n",
       "3     Business  Lockman Group        Kansas  \n",
       "4     Business  Lockman Group        Kansas  "
      ]
     },
     "execution_count": 12,
     "metadata": {},
     "output_type": "execute_result"
    }
   ],
   "source": [
    "customer_order.head()"
   ]
  },
  {
   "cell_type": "code",
   "execution_count": 13,
   "metadata": {
    "scrolled": false
   },
   "outputs": [
    {
     "name": "stdout",
     "output_type": "stream",
     "text": [
      "CustomerState\n",
      "California        384\n",
      "Florida           375\n",
      "Texas             370\n",
      "New York          304\n",
      "Virginia          187\n",
      "Georgia           185\n",
      "Ohio              179\n",
      "North Carolina    176\n",
      "Pennsylvania      158\n",
      "Tennessee         148\n",
      "dtype: int64\n"
     ]
    },
    {
     "data": {
      "image/png": "[encoded data removed]",
      "text/plain": [
       "<Figure size 432x288 with 1 Axes>"
      ]
     },
     "metadata": {
      "needs_background": "light"
     },
     "output_type": "display_data"
    }
   ],
   "source": [
    "top_10_states = customer_order.groupby('CustomerState').size().sort_values(ascending=False)[:10]\n",
    "print(top_10_states)\n",
    "top_10_states.plot(kind='bar');"
   ]
  },
  {
   "cell_type": "code",
   "execution_count": 14,
   "metadata": {},
   "outputs": [
    {
     "name": "stdout",
     "output_type": "stream",
     "text": [
      "ProductName\n",
      "Cat Robot Blueprint          192\n",
      "BYOR-1500                    152\n",
      "Building Your First Robot    136\n",
      "DX-145 Drone                 136\n",
      "Understanding 3D Printing    128\n",
      "Ladybug Robot Blueprint      120\n",
      "Panda Robot Blueprint        120\n",
      "Photograph Drones            120\n",
      "Drone Building Essentials    112\n",
      "Bsquare Robot Blueprint      112\n",
      "dtype: int64\n"
     ]
    },
    {
     "data": {
      "image/png": "[encoded data removed]",
      "text/plain": [
       "<Figure size 432x288 with 1 Axes>"
      ]
     },
     "metadata": {
      "needs_background": "light"
     },
     "output_type": "display_data"
    }
   ],
   "source": [
    "top_10_prod = prod_order.groupby('ProductName').size().sort_values(ascending=False)[:10]\n",
    "print(top_10_prod)\n",
    "top_10_prod.plot(kind='bar');"
   ]
  },
  {
   "cell_type": "code",
   "execution_count": 15,
   "metadata": {},
   "outputs": [
    {
     "name": "stdout",
     "output_type": "stream",
     "text": [
      "ProductCategory\n",
      "eBooks             1296\n",
      "Training Videos     992\n",
      "Blueprints          912\n",
      "Drone Kits          552\n",
      "Robot Kits          480\n",
      "Drones              408\n",
      "Robots              336\n",
      "dtype: int64\n"
     ]
    },
    {
     "data": {
      "image/png": "[encoded data removed]",
      "text/plain": [
       "<Figure size 432x288 with 1 Axes>"
      ]
     },
     "metadata": {
      "needs_background": "light"
     },
     "output_type": "display_data"
    }
   ],
   "source": [
    "top_10_cat = prod_order.groupby('ProductCategory').size().sort_values(ascending=False)[:10]\n",
    "print(top_10_cat)\n",
    "top_10_cat.plot(kind='bar');"
   ]
  },
  {
   "cell_type": "code",
   "execution_count": 16,
   "metadata": {},
   "outputs": [
    {
     "data": {
      "text/html": [
       "<div>\n",
       "<style scoped>\n",
       "    .dataframe tbody tr th:only-of-type {\n",
       "        vertical-align: middle;\n",
       "    }\n",
       "\n",
       "    .dataframe tbody tr th {\n",
       "        vertical-align: top;\n",
       "    }\n",
       "\n",
       "    .dataframe thead th {\n",
       "        text-align: right;\n",
       "    }\n",
       "</style>\n",
       "<table border=\"1\" class=\"dataframe\">\n",
       "  <thead>\n",
       "    <tr style=\"text-align: right;\">\n",
       "      <th></th>\n",
       "      <th>OrderNum</th>\n",
       "      <th>OrderDate</th>\n",
       "      <th>OrderType</th>\n",
       "      <th>CustomerID</th>\n",
       "      <th>ProductID</th>\n",
       "      <th>Quantity</th>\n",
       "    </tr>\n",
       "  </thead>\n",
       "  <tbody>\n",
       "    <tr>\n",
       "      <th>1135</th>\n",
       "      <td>1102082</td>\n",
       "      <td>2018-02-16</td>\n",
       "      <td>Retail</td>\n",
       "      <td>4413</td>\n",
       "      <td>EB514</td>\n",
       "      <td>109</td>\n",
       "    </tr>\n",
       "    <tr>\n",
       "      <th>1821</th>\n",
       "      <td>1105716</td>\n",
       "      <td>2019-07-31</td>\n",
       "      <td>Wholesale</td>\n",
       "      <td>4464</td>\n",
       "      <td>EB521</td>\n",
       "      <td>109</td>\n",
       "    </tr>\n",
       "    <tr>\n",
       "      <th>3021</th>\n",
       "      <td>1104177</td>\n",
       "      <td>2018-12-15</td>\n",
       "      <td>Wholesale</td>\n",
       "      <td>4227</td>\n",
       "      <td>DK201</td>\n",
       "      <td>109</td>\n",
       "    </tr>\n",
       "    <tr>\n",
       "      <th>246</th>\n",
       "      <td>1102345</td>\n",
       "      <td>2018-03-28</td>\n",
       "      <td>Wholesale</td>\n",
       "      <td>3274</td>\n",
       "      <td>RK602</td>\n",
       "      <td>109</td>\n",
       "    </tr>\n",
       "    <tr>\n",
       "      <th>559</th>\n",
       "      <td>1101150</td>\n",
       "      <td>2017-10-02</td>\n",
       "      <td>Wholesale</td>\n",
       "      <td>4346</td>\n",
       "      <td>TV813</td>\n",
       "      <td>109</td>\n",
       "    </tr>\n",
       "    <tr>\n",
       "      <th>...</th>\n",
       "      <td>...</td>\n",
       "      <td>...</td>\n",
       "      <td>...</td>\n",
       "      <td>...</td>\n",
       "      <td>...</td>\n",
       "      <td>...</td>\n",
       "    </tr>\n",
       "    <tr>\n",
       "      <th>1378</th>\n",
       "      <td>1103644</td>\n",
       "      <td>2018-09-25</td>\n",
       "      <td>Wholesale</td>\n",
       "      <td>3551</td>\n",
       "      <td>EB519</td>\n",
       "      <td>6</td>\n",
       "    </tr>\n",
       "    <tr>\n",
       "      <th>4460</th>\n",
       "      <td>1102492</td>\n",
       "      <td>2018-04-19</td>\n",
       "      <td>Wholesale</td>\n",
       "      <td>3965</td>\n",
       "      <td>DK206</td>\n",
       "      <td>6</td>\n",
       "    </tr>\n",
       "    <tr>\n",
       "      <th>535</th>\n",
       "      <td>1105453</td>\n",
       "      <td>2019-06-21</td>\n",
       "      <td>Wholesale</td>\n",
       "      <td>2304</td>\n",
       "      <td>BP107</td>\n",
       "      <td>6</td>\n",
       "    </tr>\n",
       "    <tr>\n",
       "      <th>3691</th>\n",
       "      <td>1105125</td>\n",
       "      <td>2019-05-04</td>\n",
       "      <td>Wholesale</td>\n",
       "      <td>4117</td>\n",
       "      <td>TV811</td>\n",
       "      <td>6</td>\n",
       "    </tr>\n",
       "    <tr>\n",
       "      <th>1141</th>\n",
       "      <td>1102182</td>\n",
       "      <td>2018-03-04</td>\n",
       "      <td>Wholesale</td>\n",
       "      <td>3136</td>\n",
       "      <td>DS301</td>\n",
       "      <td>6</td>\n",
       "    </tr>\n",
       "  </tbody>\n",
       "</table>\n",
       "<p>2382 rows × 6 columns</p>\n",
       "</div>"
      ],
      "text/plain": [
       "      OrderNum  OrderDate  OrderType  CustomerID ProductID  Quantity\n",
       "1135   1102082 2018-02-16     Retail        4413     EB514       109\n",
       "1821   1105716 2019-07-31  Wholesale        4464     EB521       109\n",
       "3021   1104177 2018-12-15  Wholesale        4227     DK201       109\n",
       "246    1102345 2018-03-28  Wholesale        3274     RK602       109\n",
       "559    1101150 2017-10-02  Wholesale        4346     TV813       109\n",
       "...        ...        ...        ...         ...       ...       ...\n",
       "1378   1103644 2018-09-25  Wholesale        3551     EB519         6\n",
       "4460   1102492 2018-04-19  Wholesale        3965     DK206         6\n",
       "535    1105453 2019-06-21  Wholesale        2304     BP107         6\n",
       "3691   1105125 2019-05-04  Wholesale        4117     TV811         6\n",
       "1141   1102182 2018-03-04  Wholesale        3136     DS301         6\n",
       "\n",
       "[2382 rows x 6 columns]"
      ]
     },
     "execution_count": 16,
     "metadata": {},
     "output_type": "execute_result"
    }
   ],
   "source": [
    "orders[orders['Quantity']> orders['Quantity'].median()].sort_values('Quantity', ascending=False)"
   ]
  },
  {
   "cell_type": "code",
   "execution_count": 17,
   "metadata": {
    "scrolled": true
   },
   "outputs": [
    {
     "data": {
      "text/plain": [
       "count    4976.000000\n",
       "mean       11.107516\n",
       "std        20.367634\n",
       "min         1.000000\n",
       "25%         1.000000\n",
       "50%         5.000000\n",
       "75%        10.000000\n",
       "max       109.000000\n",
       "Name: Quantity, dtype: float64"
      ]
     },
     "execution_count": 17,
     "metadata": {},
     "output_type": "execute_result"
    }
   ],
   "source": [
    "orders['Quantity'].describe()"
   ]
  },
  {
   "cell_type": "code",
   "execution_count": null,
   "metadata": {},
   "outputs": [],
   "source": []
  },
  {
   "cell_type": "code",
   "execution_count": null,
   "metadata": {},
   "outputs": [],
   "source": []
  },
  {
   "cell_type": "code",
   "execution_count": null,
   "metadata": {},
   "outputs": [],
   "source": []
  }
 ],
 "metadata": {
  "kernelspec": {
   "display_name": "Python 3",
   "language": "python",
   "name": "python3"
  },
  "language_info": {
   "codemirror_mode": {
    "name": "ipython",
    "version": 3
   },
   "file_extension": ".py",
   "mimetype": "text/x-python",
   "name": "python",
   "nbconvert_exporter": "python",
   "pygments_lexer": "ipython3",
   "version": "3.7.7"
  }
 },
 "nbformat": 4,
 "nbformat_minor": 4
}
