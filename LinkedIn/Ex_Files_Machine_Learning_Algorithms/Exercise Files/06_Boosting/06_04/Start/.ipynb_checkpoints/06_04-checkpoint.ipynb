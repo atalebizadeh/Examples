{
 "cells": [
  {
   "cell_type": "markdown",
   "metadata": {},
   "source": [
    "## Boosting: Fit and evaluate a model\n",
    "\n",
    "Using the Titanic dataset from [this](https://www.kaggle.com/c/titanic/overview) Kaggle competition.\n",
    "\n",
    "In this section, we will fit and evaluate a simple Gradient Boosting model."
   ]
  },
  {
   "cell_type": "markdown",
   "metadata": {},
   "source": [
    "### Read in Data"
   ]
  },
  {
   "cell_type": "code",
   "execution_count": 1,
   "metadata": {},
   "outputs": [],
   "source": [
    "import joblib\n",
    "import pandas as pd\n",
    "from sklearn.ensemble import GradientBoostingClassifier\n",
    "from sklearn.model_selection import GridSearchCV\n",
    "import warnings\n",
    "warnings.filterwarnings('ignore', category=FutureWarning)\n",
    "warnings.filterwarnings('ignore', category=DeprecationWarning)\n",
    "\n",
    "tr_features = pd.read_csv('../../../train_features.csv')\n",
    "tr_labels = pd.read_csv('../../../train_labels.csv', header=None)"
   ]
  },
  {
   "cell_type": "markdown",
   "metadata": {},
   "source": [
    "### Hyperparameter tuning\n",
    "\n",
    "![GB](../../img/gb.png)"
   ]
  },
  {
   "cell_type": "code",
   "execution_count": 2,
   "metadata": {},
   "outputs": [],
   "source": [
    "def print_results(results):\n",
    "    print('BEST PARAMS: {}\\n'.format(results.best_params_))\n",
    "\n",
    "    means = results.cv_results_['mean_test_score']\n",
    "    stds = results.cv_results_['std_test_score']\n",
    "    for mean, std, params in zip(means, stds, results.cv_results_['params']):\n",
    "        print('{} (+/-{}) for {}'.format(round(mean, 3), round(std * 2, 3), params))"
   ]
  },
  {
   "cell_type": "code",
   "execution_count": 3,
   "metadata": {
    "scrolled": true
   },
   "outputs": [
    {
     "name": "stdout",
     "output_type": "stream",
     "text": [
      "BEST PARAMS: {'learning_rate': 0.01, 'max_depth': 3, 'n_estimators': 500}\n",
      "\n",
      "0.624 (+/-0.005) for {'learning_rate': 0.01, 'max_depth': 1, 'n_estimators': 5}\n",
      "0.796 (+/-0.116) for {'learning_rate': 0.01, 'max_depth': 1, 'n_estimators': 50}\n",
      "0.796 (+/-0.116) for {'learning_rate': 0.01, 'max_depth': 1, 'n_estimators': 250}\n",
      "0.811 (+/-0.118) for {'learning_rate': 0.01, 'max_depth': 1, 'n_estimators': 500}\n",
      "0.624 (+/-0.005) for {'learning_rate': 0.01, 'max_depth': 3, 'n_estimators': 5}\n",
      "0.811 (+/-0.071) for {'learning_rate': 0.01, 'max_depth': 3, 'n_estimators': 50}\n",
      "0.83 (+/-0.076) for {'learning_rate': 0.01, 'max_depth': 3, 'n_estimators': 250}\n",
      "0.841 (+/-0.079) for {'learning_rate': 0.01, 'max_depth': 3, 'n_estimators': 500}\n",
      "0.624 (+/-0.005) for {'learning_rate': 0.01, 'max_depth': 5, 'n_estimators': 5}\n",
      "0.82 (+/-0.052) for {'learning_rate': 0.01, 'max_depth': 5, 'n_estimators': 50}\n",
      "0.818 (+/-0.045) for {'learning_rate': 0.01, 'max_depth': 5, 'n_estimators': 250}\n",
      "0.824 (+/-0.034) for {'learning_rate': 0.01, 'max_depth': 5, 'n_estimators': 500}\n",
      "0.624 (+/-0.005) for {'learning_rate': 0.01, 'max_depth': 7, 'n_estimators': 5}\n",
      "0.818 (+/-0.054) for {'learning_rate': 0.01, 'max_depth': 7, 'n_estimators': 50}\n",
      "0.818 (+/-0.037) for {'learning_rate': 0.01, 'max_depth': 7, 'n_estimators': 250}\n",
      "0.801 (+/-0.023) for {'learning_rate': 0.01, 'max_depth': 7, 'n_estimators': 500}\n",
      "0.624 (+/-0.005) for {'learning_rate': 0.01, 'max_depth': 9, 'n_estimators': 5}\n",
      "0.803 (+/-0.06) for {'learning_rate': 0.01, 'max_depth': 9, 'n_estimators': 50}\n",
      "0.801 (+/-0.022) for {'learning_rate': 0.01, 'max_depth': 9, 'n_estimators': 250}\n",
      "0.785 (+/-0.023) for {'learning_rate': 0.01, 'max_depth': 9, 'n_estimators': 500}\n",
      "0.796 (+/-0.116) for {'learning_rate': 0.1, 'max_depth': 1, 'n_estimators': 5}\n",
      "0.815 (+/-0.12) for {'learning_rate': 0.1, 'max_depth': 1, 'n_estimators': 50}\n",
      "0.818 (+/-0.112) for {'learning_rate': 0.1, 'max_depth': 1, 'n_estimators': 250}\n",
      "0.828 (+/-0.093) for {'learning_rate': 0.1, 'max_depth': 1, 'n_estimators': 500}\n",
      "0.813 (+/-0.073) for {'learning_rate': 0.1, 'max_depth': 3, 'n_estimators': 5}\n",
      "0.835 (+/-0.082) for {'learning_rate': 0.1, 'max_depth': 3, 'n_estimators': 50}\n",
      "0.83 (+/-0.04) for {'learning_rate': 0.1, 'max_depth': 3, 'n_estimators': 250}\n",
      "0.811 (+/-0.03) for {'learning_rate': 0.1, 'max_depth': 3, 'n_estimators': 500}\n",
      "0.815 (+/-0.046) for {'learning_rate': 0.1, 'max_depth': 5, 'n_estimators': 5}\n",
      "0.826 (+/-0.011) for {'learning_rate': 0.1, 'max_depth': 5, 'n_estimators': 50}\n",
      "0.8 (+/-0.063) for {'learning_rate': 0.1, 'max_depth': 5, 'n_estimators': 250}\n",
      "0.803 (+/-0.041) for {'learning_rate': 0.1, 'max_depth': 5, 'n_estimators': 500}\n",
      "0.818 (+/-0.054) for {'learning_rate': 0.1, 'max_depth': 7, 'n_estimators': 5}\n",
      "0.796 (+/-0.035) for {'learning_rate': 0.1, 'max_depth': 7, 'n_estimators': 50}\n",
      "0.801 (+/-0.039) for {'learning_rate': 0.1, 'max_depth': 7, 'n_estimators': 250}\n",
      "0.8 (+/-0.045) for {'learning_rate': 0.1, 'max_depth': 7, 'n_estimators': 500}\n",
      "0.8 (+/-0.042) for {'learning_rate': 0.1, 'max_depth': 9, 'n_estimators': 5}\n",
      "0.787 (+/-0.037) for {'learning_rate': 0.1, 'max_depth': 9, 'n_estimators': 50}\n",
      "0.8 (+/-0.035) for {'learning_rate': 0.1, 'max_depth': 9, 'n_estimators': 250}\n",
      "0.792 (+/-0.06) for {'learning_rate': 0.1, 'max_depth': 9, 'n_estimators': 500}\n",
      "0.818 (+/-0.1) for {'learning_rate': 1, 'max_depth': 1, 'n_estimators': 5}\n",
      "0.83 (+/-0.078) for {'learning_rate': 1, 'max_depth': 1, 'n_estimators': 50}\n",
      "0.828 (+/-0.069) for {'learning_rate': 1, 'max_depth': 1, 'n_estimators': 250}\n",
      "0.818 (+/-0.082) for {'learning_rate': 1, 'max_depth': 1, 'n_estimators': 500}\n",
      "0.824 (+/-0.059) for {'learning_rate': 1, 'max_depth': 3, 'n_estimators': 5}\n",
      "0.794 (+/-0.038) for {'learning_rate': 1, 'max_depth': 3, 'n_estimators': 50}\n",
      "0.8 (+/-0.05) for {'learning_rate': 1, 'max_depth': 3, 'n_estimators': 250}\n",
      "0.803 (+/-0.043) for {'learning_rate': 1, 'max_depth': 3, 'n_estimators': 500}\n",
      "0.8 (+/-0.045) for {'learning_rate': 1, 'max_depth': 5, 'n_estimators': 5}\n",
      "0.787 (+/-0.061) for {'learning_rate': 1, 'max_depth': 5, 'n_estimators': 50}\n",
      "0.809 (+/-0.078) for {'learning_rate': 1, 'max_depth': 5, 'n_estimators': 250}\n",
      "0.796 (+/-0.106) for {'learning_rate': 1, 'max_depth': 5, 'n_estimators': 500}\n",
      "0.792 (+/-0.05) for {'learning_rate': 1, 'max_depth': 7, 'n_estimators': 5}\n",
      "0.785 (+/-0.029) for {'learning_rate': 1, 'max_depth': 7, 'n_estimators': 50}\n",
      "0.796 (+/-0.048) for {'learning_rate': 1, 'max_depth': 7, 'n_estimators': 250}\n",
      "0.8 (+/-0.06) for {'learning_rate': 1, 'max_depth': 7, 'n_estimators': 500}\n",
      "0.79 (+/-0.023) for {'learning_rate': 1, 'max_depth': 9, 'n_estimators': 5}\n",
      "0.781 (+/-0.055) for {'learning_rate': 1, 'max_depth': 9, 'n_estimators': 50}\n",
      "0.788 (+/-0.065) for {'learning_rate': 1, 'max_depth': 9, 'n_estimators': 250}\n",
      "0.781 (+/-0.013) for {'learning_rate': 1, 'max_depth': 9, 'n_estimators': 500}\n",
      "0.204 (+/-0.116) for {'learning_rate': 10, 'max_depth': 1, 'n_estimators': 5}\n",
      "0.204 (+/-0.116) for {'learning_rate': 10, 'max_depth': 1, 'n_estimators': 50}\n",
      "0.204 (+/-0.116) for {'learning_rate': 10, 'max_depth': 1, 'n_estimators': 250}\n",
      "0.204 (+/-0.116) for {'learning_rate': 10, 'max_depth': 1, 'n_estimators': 500}\n",
      "0.311 (+/-0.192) for {'learning_rate': 10, 'max_depth': 3, 'n_estimators': 5}\n",
      "0.311 (+/-0.192) for {'learning_rate': 10, 'max_depth': 3, 'n_estimators': 50}\n",
      "0.311 (+/-0.192) for {'learning_rate': 10, 'max_depth': 3, 'n_estimators': 250}\n",
      "0.311 (+/-0.192) for {'learning_rate': 10, 'max_depth': 3, 'n_estimators': 500}\n",
      "0.549 (+/-0.36) for {'learning_rate': 10, 'max_depth': 5, 'n_estimators': 5}\n",
      "0.507 (+/-0.367) for {'learning_rate': 10, 'max_depth': 5, 'n_estimators': 50}\n",
      "0.466 (+/-0.323) for {'learning_rate': 10, 'max_depth': 5, 'n_estimators': 250}\n",
      "0.436 (+/-0.301) for {'learning_rate': 10, 'max_depth': 5, 'n_estimators': 500}\n",
      "0.607 (+/-0.228) for {'learning_rate': 10, 'max_depth': 7, 'n_estimators': 5}\n",
      "0.596 (+/-0.191) for {'learning_rate': 10, 'max_depth': 7, 'n_estimators': 50}\n",
      "0.594 (+/-0.189) for {'learning_rate': 10, 'max_depth': 7, 'n_estimators': 250}\n",
      "0.629 (+/-0.188) for {'learning_rate': 10, 'max_depth': 7, 'n_estimators': 500}\n",
      "0.704 (+/-0.111) for {'learning_rate': 10, 'max_depth': 9, 'n_estimators': 5}\n",
      "0.682 (+/-0.142) for {'learning_rate': 10, 'max_depth': 9, 'n_estimators': 50}\n",
      "0.713 (+/-0.131) for {'learning_rate': 10, 'max_depth': 9, 'n_estimators': 250}\n",
      "0.719 (+/-0.145) for {'learning_rate': 10, 'max_depth': 9, 'n_estimators': 500}\n",
      "0.376 (+/-0.005) for {'learning_rate': 100, 'max_depth': 1, 'n_estimators': 5}\n",
      "0.376 (+/-0.005) for {'learning_rate': 100, 'max_depth': 1, 'n_estimators': 50}\n",
      "0.376 (+/-0.005) for {'learning_rate': 100, 'max_depth': 1, 'n_estimators': 250}\n",
      "0.376 (+/-0.005) for {'learning_rate': 100, 'max_depth': 1, 'n_estimators': 500}\n",
      "0.29 (+/-0.104) for {'learning_rate': 100, 'max_depth': 3, 'n_estimators': 5}\n",
      "0.29 (+/-0.104) for {'learning_rate': 100, 'max_depth': 3, 'n_estimators': 50}\n",
      "0.29 (+/-0.104) for {'learning_rate': 100, 'max_depth': 3, 'n_estimators': 250}\n",
      "0.29 (+/-0.104) for {'learning_rate': 100, 'max_depth': 3, 'n_estimators': 500}\n",
      "0.373 (+/-0.173) for {'learning_rate': 100, 'max_depth': 5, 'n_estimators': 5}\n",
      "0.38 (+/-0.182) for {'learning_rate': 100, 'max_depth': 5, 'n_estimators': 50}\n",
      "0.373 (+/-0.18) for {'learning_rate': 100, 'max_depth': 5, 'n_estimators': 250}\n",
      "0.378 (+/-0.177) for {'learning_rate': 100, 'max_depth': 5, 'n_estimators': 500}\n",
      "0.554 (+/-0.116) for {'learning_rate': 100, 'max_depth': 7, 'n_estimators': 5}\n",
      "0.584 (+/-0.126) for {'learning_rate': 100, 'max_depth': 7, 'n_estimators': 50}\n",
      "0.554 (+/-0.118) for {'learning_rate': 100, 'max_depth': 7, 'n_estimators': 250}\n",
      "0.594 (+/-0.116) for {'learning_rate': 100, 'max_depth': 7, 'n_estimators': 500}\n",
      "0.669 (+/-0.089) for {'learning_rate': 100, 'max_depth': 9, 'n_estimators': 5}\n",
      "0.644 (+/-0.118) for {'learning_rate': 100, 'max_depth': 9, 'n_estimators': 50}\n",
      "0.669 (+/-0.089) for {'learning_rate': 100, 'max_depth': 9, 'n_estimators': 250}\n",
      "0.661 (+/-0.075) for {'learning_rate': 100, 'max_depth': 9, 'n_estimators': 500}\n"
     ]
    }
   ],
   "source": [
    "gb = GradientBoostingClassifier()\n",
    "parameters = {\n",
    "    'n_estimators': [5, 50, 250, 500],\n",
    "    'max_depth': [1, 3, 5, 7, 9],\n",
    "    'learning_rate': [0.01, 0.1, 1, 10, 100]\n",
    "}\n",
    "\n",
    "cv = GridSearchCV(gb, parameters, cv=5)\n",
    "cv.fit(tr_features, tr_labels.values.ravel())\n",
    "\n",
    "print_results(cv)"
   ]
  },
  {
   "cell_type": "markdown",
   "metadata": {},
   "source": [
    "### Write out pickled model"
   ]
  },
  {
   "cell_type": "code",
   "execution_count": 4,
   "metadata": {},
   "outputs": [
    {
     "data": {
      "text/plain": [
       "['../../../GB_model.pkl']"
      ]
     },
     "execution_count": 4,
     "metadata": {},
     "output_type": "execute_result"
    }
   ],
   "source": [
    "joblib.dump(cv.best_estimator_, '../../../GB_model.pkl')"
   ]
  },
  {
   "cell_type": "code",
   "execution_count": null,
   "metadata": {},
   "outputs": [],
   "source": []
  }
 ],
 "metadata": {
  "kernelspec": {
   "display_name": "Python 3",
   "language": "python",
   "name": "python3"
  },
  "language_info": {
   "codemirror_mode": {
    "name": "ipython",
    "version": 3
   },
   "file_extension": ".py",
   "mimetype": "text/x-python",
   "name": "python",
   "nbconvert_exporter": "python",
   "pygments_lexer": "ipython3",
   "version": "3.7.3"
  }
 },
 "nbformat": 4,
 "nbformat_minor": 2
}
