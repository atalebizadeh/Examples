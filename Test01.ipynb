{
 "cells": [
  {
   "cell_type": "code",
   "execution_count": 82,
   "metadata": {},
   "outputs": [],
   "source": [
    "def reverse_text (input):\n",
    "    user_input = input(\"Enter your text: \")\n",
    "    print(\"Your text in lowercase is: \", user_input.lower())\n",
    "    reverse_input_lower = user_input.lower() [::-1]\n",
    "    remove_first_char = reverse_input_lower [0:-1]\n",
    "    return remove_first_char    \n"
   ]
  },
  {
   "cell_type": "code",
   "execution_count": 83,
   "metadata": {},
   "outputs": [
    {
     "name": "stdout",
     "output_type": "stream",
     "text": [
      "Enter your text: Apple\n",
      "Your text in lowercase is:  apple\n"
     ]
    },
    {
     "data": {
      "text/plain": [
       "'elpp'"
      ]
     },
     "execution_count": 83,
     "metadata": {},
     "output_type": "execute_result"
    }
   ],
   "source": [
    "reverse_text (input)"
   ]
  },
  {
   "cell_type": "code",
   "execution_count": 85,
   "metadata": {},
   "outputs": [],
   "source": [
    "def pig_latin (input):\n",
    "    user_input = input(\"Enter your text: \")\n",
    "    first_char = user_input.lower() [0]\n",
    "    pig_latin = user_input.lower() [1:] + first_char + \"ay\"\n",
    "    return pig_latin"
   ]
  },
  {
   "cell_type": "code",
   "execution_count": 86,
   "metadata": {},
   "outputs": [
    {
     "name": "stdout",
     "output_type": "stream",
     "text": [
      "Enter your text: Soup\n"
     ]
    },
    {
     "data": {
      "text/plain": [
       "'oupsay'"
      ]
     },
     "execution_count": 86,
     "metadata": {},
     "output_type": "execute_result"
    }
   ],
   "source": [
    "pig_latin (input)"
   ]
  },
  {
   "cell_type": "code",
   "execution_count": null,
   "metadata": {},
   "outputs": [],
   "source": []
  }
 ],
 "metadata": {
  "kernelspec": {
   "display_name": "Python 3",
   "language": "python",
   "name": "python3"
  },
  "language_info": {
   "codemirror_mode": {
    "name": "ipython",
    "version": 3
   },
   "file_extension": ".py",
   "mimetype": "text/x-python",
   "name": "python",
   "nbconvert_exporter": "python",
   "pygments_lexer": "ipython3",
   "version": "3.7.3"
  }
 },
 "nbformat": 4,
 "nbformat_minor": 2
}
