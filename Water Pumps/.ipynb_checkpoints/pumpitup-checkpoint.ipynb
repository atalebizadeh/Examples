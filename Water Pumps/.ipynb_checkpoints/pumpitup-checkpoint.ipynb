{
 "cells": [
  {
   "cell_type": "markdown",
   "metadata": {},
   "source": [
    "<h1>Analytic Dashboard at DataOrbs<sup>&copy</sup></h1>"
   ]
  },
  {
   "cell_type": "markdown",
   "metadata": {},
   "source": [
    "<h3>Data and source</h3>\n",
    "<p><b>Original Data source and lenght:</b>Taarifa and the Tanzanian Ministry of Water 59400 records with 41 columns.\n",
    "<p>\n",
    "</p>\n",
    "<p><b>Input columns</b> 59400 records with 41 columns:<br>\n",
    "<i>'id', 'amount_tsh', 'date_recorded', 'funder', 'gps_height', 'installer', 'longitude', 'latitude', 'wpt_name', 'num_private', 'basin', 'subvillage', 'region', 'region_code', 'district_code', 'lga', 'ward', 'population', 'public_meeting', 'recorded_by', 'scheme_management', 'scheme_name', 'permit', 'construction_year', 'extraction_type', 'extraction_type_group', 'extraction_type_class', 'management', 'management_group', 'payment', 'payment_type', 'water_quality', 'quality_group', 'quantity', 'quantity_group', 'source', 'source_type', 'source_class', 'waterpoint_type', 'waterpoint_type_group', 'status_group'.</i>\n",
    "</p>\n",
    "<p><b>Label column:</b> <i>'status_group'</i>, repsenting three states of pump functionality: <i>'functional'</i>, <i>'non functional'</i>, <i>'functional needs repair'</i><p>\n",
    "Using data from Taarifa and , can you predict which pumps are functional, which need some repairs, and which don't work at all? This is an intermediate-level practice competition. Predict one of these three classes based on a number of variables about what kind of pump is operating, when it was installed, and how it is managed. A smart understanding of which waterpoints will fail can improve maintenance operations and ensure that clean, potable water is available to communities across Tanzania.![image.png](attachment:image.png)![image.png](attachment:image.png)"
   ]
  },
  {
   "cell_type": "markdown",
   "metadata": {},
   "source": [
    "<h3>Objective and types of models used</h3>\n",
    "<p><strong>Objective:</strong></br>\n",
    "The model should predict the state of pump functionality. It is a classification problem using a set of numeric and categorical data.  \n",
    "</p>\n",
    "<p><strong>Models used:</strong></br>\n",
    "Decision Tree and Random Forest\n",
    "</p>\n",
    "<p><strong>Imported libraries:</strong></br>\n",
    "</p>"
   ]
  },
  {
   "cell_type": "code",
   "execution_count": 83,
   "metadata": {},
   "outputs": [],
   "source": [
    "import numpy as np\n",
    "\n",
    "from sklearn import preprocessing\n",
    "from sklearn.tree import DecisionTreeClassifier\n",
    "from sklearn.ensemble import RandomForestClassifier\n",
    "from sklearn.metrics import classification_report\n",
    "from sklearn.model_selection import train_test_split\n",
    "from sklearn import compose\n",
    "\n",
    "import pandas as pd\n",
    "\n",
    "import matplotlib.pyplot as plt\n",
    "\n",
    "import os\n",
    "import re"
   ]
  },
  {
   "cell_type": "markdown",
   "metadata": {},
   "source": [
    "<h3>Variable names and types</h3>"
   ]
  },
  {
   "cell_type": "code",
   "execution_count": 87,
   "metadata": {},
   "outputs": [],
   "source": [
    "# Data file paths:\n",
    "path_train_input = os.path.join('datasets', 'tanzania_wp', 'train_inputs.csv')\n",
    "\n",
    "f_dtypes_pd = [\n",
    "    ('id', np.uint32),('amount_tsh', np.float32), ('date_recorded', str), ('funder', str),\n",
    "    ('gps_height', np.float32), ('installer', str), ('longitude', np.float32), ('latitude', np.float32),\n",
    "    ('wpt_name', str), ('num_private', np.uint8), ('basin', str), ('subvillage', str),\n",
    "    ('region', str), ('region_code', str),('district_code', str), ('lga', str),\n",
    "    ('ward', str), ('population', np.float32), ('public_meeting', str), ('recorded_by', str),\n",
    "    ('scheme_management', str), ('scheme_name', str), ('permit', str), ('construction_year', np.float32),\n",
    "    ('extraction_type', str), ('extraction_type_group', str), ('extraction_type_class', str),('management', str),\n",
    "    ('management_group', str), ('payment', str), ('payment_type', str), ('water_quality', str),\n",
    "    ('quality_group', str), ('quantity', str), ('quantity_group', str), ('source', str),\n",
    "    ('source_type', str), ('source_class', str), ('waterpoint_type', str),('waterpoint_type_group', str),\n",
    "    ('status_group', str)\n",
    "]\n",
    "\n",
    "catg_feature_names = [\n",
    "    'funder',\n",
    "    # 'installer',\n",
    "    'wpt_name',\n",
    "    'basin',\n",
    "    'subvillage',\n",
    "    'region_code',                    \n",
    "    'district_code',\n",
    "    'lga',\n",
    "    'ward',\n",
    "    'extraction_type_class',\n",
    "    'management',\n",
    "    'management_group',\n",
    "    'payment_type',\n",
    "    'quality_group',\n",
    "    'quantity',\n",
    "    'source_type',     \n",
    "    'source_class',\n",
    "    'waterpoint_type_group',\n",
    "    'permit',\n",
    "    'public_meeting',\n",
    "]\n",
    "num_feature_names = [\n",
    "#     'amount_tsh',\n",
    "#     'gps_height',\n",
    "    'longitude',\n",
    "    'latitude',\n",
    "#     'population',\n",
    "    'construction_year'\n",
    "]\n",
    "\n",
    "date_feature_names = [\n",
    "    'year_rec',\n",
    "    'week_rec',\n",
    "    'day_rec',\n",
    "]\n",
    "\n",
    "label_names = ['status_group']\n",
    "\n",
    "pd_data = pd.read_csv(path_train_input,\n",
    "                      usecols=['date_recorded'] + catg_feature_names + num_feature_names + label_names,\n",
    "                      dtype=f_dtypes_pd\n",
    "                      )\n"
   ]
  },
  {
   "cell_type": "markdown",
   "metadata": {},
   "source": [
    "<h3>Replacing invalid/missing values</h3>"
   ]
  },
  {
   "cell_type": "markdown",
   "metadata": {},
   "source": [
    "<b>Categorical data:</b></br>\n",
    "The missing values of all categorical variables were filled with <i>'MISSING'</i>"
   ]
  },
  {
   "cell_type": "code",
   "execution_count": 46,
   "metadata": {},
   "outputs": [
    {
     "data": {
      "text/plain": [
       "array([3635,    0,    0,  371,    0,    0,    0,    0,    0,    0,    0,\n",
       "          0,    0,    0,    0,    0,    0, 3056, 3334])"
      ]
     },
     "execution_count": 46,
     "metadata": {},
     "output_type": "execute_result"
    }
   ],
   "source": [
    "# Number of missing values in categorical data:\n",
    "np.count_nonzero(pd_data.loc[:, catg_feature_names].isna(), axis=0)"
   ]
  },
  {
   "cell_type": "code",
   "execution_count": 47,
   "metadata": {},
   "outputs": [
    {
     "data": {
      "text/plain": [
       "array([3635,    0,    0,  371,    0,    0,    0,    0,    0,    0,    0,\n",
       "          0,    0,    0,    0,    0,    0, 3056, 3334])"
      ]
     },
     "execution_count": 47,
     "metadata": {},
     "output_type": "execute_result"
    }
   ],
   "source": [
    "# Filling missing values of categorical variable with 'MISSING'\n",
    "fill_na_vals = dict([(catg_feature_name, 'MISSING') for catg_feature_name in catg_feature_names])\n",
    "pd_data.fillna(value=fill_na_vals, inplace=True)\n",
    "np.count_nonzero(pd_data.loc[:, catg_feature_names] == 'MISSING', axis=0)"
   ]
  },
  {
   "cell_type": "markdown",
   "metadata": {},
   "source": [
    "<b>Numerical data:</b><br>\n",
    "The histograms of the numerical data were ploted to reveal some of the outliers or invalid data. "
   ]
  },
  {
   "cell_type": "code",
   "execution_count": 48,
   "metadata": {},
   "outputs": [
    {
     "data": {
      "image/png": "[encoded data removed]",
      "text/plain": [
       "<Figure size 864x576 with 4 Axes>"
      ]
     },
     "metadata": {
      "needs_background": "light"
     },
     "output_type": "display_data"
    }
   ],
   "source": [
    "pd_data.loc[:,num_feature_names].hist()\n",
    "fig = plt.gcf()\n",
    "fig.set_size_inches(12,8)\n",
    "fig.subplots_adjust(wspace=0.2, hspace=.4)"
   ]
  },
  {
   "cell_type": "markdown",
   "metadata": {},
   "source": [
    "<p>Many of the values in 'amount_tsh' column do not look reliable. The histogram of 'construction year' indicates over 20000 zero values. There are also over 2000 zero values for longitude data and over 21000 negative or zero values for 'gps_height', respectively. The range of latitude values looks realistic considering the location of case study <a href=\"https://www.google.com/maps/@-6.3533437,30.4902172,6z\">(see Tanzania on google map).</a></p>\n",
    "<p> "
   ]
  },
  {
   "cell_type": "markdown",
   "metadata": {},
   "source": [
    "<p>Years with zero value were replaced with the minimum of non-zero values:</p>"
   ]
  },
  {
   "cell_type": "code",
   "execution_count": 49,
   "metadata": {},
   "outputs": [],
   "source": [
    "# np.count_nonzero(pd_data == 0, axis=0)\n",
    "zero_val_idx = pd_data['construction_year'] == 0\n",
    "pd_data.loc[zero_val_idx, 'construction_year'] = np.min(pd_data.loc[~zero_val_idx, 'construction_year'])"
   ]
  },
  {
   "cell_type": "markdown",
   "metadata": {},
   "source": [
    "<p>Zero values for <i>'longitude'</i> were replaced by their corresponding group averages, grouped using <i>'region_code'</i>."
   ]
  },
  {
   "cell_type": "code",
   "execution_count": 88,
   "metadata": {},
   "outputs": [
    {
     "name": "stderr",
     "output_type": "stream",
     "text": [
      "/home/mk/anaconda3/envs/ml_models/lib/python3.7/site-packages/ipykernel_launcher.py:17: SettingWithCopyWarning: \n",
      "A value is trying to be set on a copy of a slice from a DataFrame.\n",
      "Try using .loc[row_indexer,col_indexer] = value instead\n",
      "\n",
      "See the caveats in the documentation: http://pandas.pydata.org/pandas-docs/stable/user_guide/indexing.html#returning-a-view-versus-a-copy\n",
      "/home/mk/anaconda3/envs/ml_models/lib/python3.7/site-packages/ipykernel_launcher.py:18: SettingWithCopyWarning: \n",
      "A value is trying to be set on a copy of a slice from a DataFrame.\n",
      "Try using .loc[row_indexer,col_indexer] = value instead\n",
      "\n",
      "See the caveats in the documentation: http://pandas.pydata.org/pandas-docs/stable/user_guide/indexing.html#returning-a-view-versus-a-copy\n",
      "/home/mk/anaconda3/envs/ml_models/lib/python3.7/site-packages/ipykernel_launcher.py:19: SettingWithCopyWarning: \n",
      "A value is trying to be set on a copy of a slice from a DataFrame.\n",
      "Try using .loc[row_indexer,col_indexer] = value instead\n",
      "\n",
      "See the caveats in the documentation: http://pandas.pydata.org/pandas-docs/stable/user_guide/indexing.html#returning-a-view-versus-a-copy\n"
     ]
    },
    {
     "data": {
      "text/plain": [
       "(51735, 27)"
      ]
     },
     "execution_count": 88,
     "metadata": {},
     "output_type": "execute_result"
    }
   ],
   "source": [
    "invalid_condition = {\n",
    "    'longitude': pd_data['longitude'] == 0,\n",
    "#     'gps_height': pd_data['gps_height'] <= 0,\n",
    "}\n",
    "\n",
    "grouper_col = 'region_code'\n",
    "\n",
    "for num_f, invalid_idx in invalid_condition.items():\n",
    "    pd_data.loc[invalid_idx, num_f] = np.nan\n",
    "    pd_data.loc[invalid_idx, num_f] = pd_data.groupby(grouper_col)[num_f].transform(np.nanmean).loc[invalid_idx]\n",
    "    \n",
    "pd_data_cleaned: pd.DataFrame = pd_data.dropna()\n",
    "pd_data_cleaned.describe()\n",
    "pd_data_cleaned.shape\n",
    "\n",
    "# Adding date features...\n",
    "pd_data_cleaned['year_rec'] = pd_data_cleaned['date_recorded'].apply(lambda x: pd.to_datetime(x).date().isocalendar()[0])\n",
    "pd_data_cleaned['week_rec'] = pd_data_cleaned['date_recorded'].apply(lambda x: pd.to_datetime(x).date().isocalendar()[1])\n",
    "pd_data_cleaned['day_rec'] = pd_data_cleaned['date_recorded'].apply(lambda x: pd.to_datetime(x).date().isocalendar()[2])\n",
    "\n",
    "pd_data_cleaned.describe()\n",
    "pd_data_cleaned.shape"
   ]
  },
  {
   "cell_type": "markdown",
   "metadata": {},
   "source": [
    "<h3>Reducing the levels and transformation of categorical data</h3>\n",
    "The levels of some of the categorical variables were reduced to keep a manageable number of features. Small-size levels were grouped into a separate level named <i>'MY_OTHERS'</i>:"
   ]
  },
  {
   "cell_type": "code",
   "execution_count": 51,
   "metadata": {},
   "outputs": [],
   "source": [
    "top_ith = 7 # Maximum levels to keep for categorical variables \n",
    "for catg_feature in catg_feature_names:\n",
    "    unique_percent_counts = pd_data_cleaned[catg_feature].value_counts()\n",
    "    \n",
    "    top_frequent_indexes = unique_percent_counts[:top_ith-1].index.values.tolist()\n",
    "    x = pd_data_cleaned[catg_feature].copy()\n",
    "    x[~x.isin(top_frequent_indexes)] = 'MY_OTHER'\n",
    "\n",
    "    # setting values in cleaned dataset\n",
    "    pd_data_cleaned.loc[:,catg_feature] = x\n",
    "    # Seeing new data frame\n",
    "    pd_data_cleaned[catg_feature].value_counts()\n",
    "\n",
    "# Transform and combine categorical and numerical features:\n",
    "catg_transformer = compose.ColumnTransformer(\n",
    "    transformers=\n",
    "    [\n",
    "     ('catg', preprocessing.OneHotEncoder(), catg_feature_names),\n",
    "    ],\n",
    "    remainder='drop',\n",
    "    sparse_threshold=0.0,\n",
    "    n_jobs=None,\n",
    "    transformer_weights=None,\n",
    "    verbose=False\n",
    ").fit(pd_data_cleaned.loc[:,catg_feature_names])\n",
    "\n",
    "\n",
    "def get_name_and_levels(onehot_encoder: compose.ColumnTransformer , catg_names):\n",
    "    \"\"\"\n",
    "    Gets 'transformed catg feature' names from compose.ColumnTransformer object and catg feature names.\n",
    "\n",
    "    \"\"\"\n",
    "    onehot_feature_names = onehot_encoder.get_feature_names()\n",
    "\n",
    "    f_name_and_level = [catg_names[int(re.search(r'\\d+', elm).group())]\n",
    "                        + '-' + elm.split('__', 1)[-1].split('_', 1)[-1]\n",
    "                        for elm in onehot_feature_names\n",
    "                        ]\n",
    "    return f_name_and_level\n",
    "\n",
    "\n",
    "catg_features_trans = catg_transformer.transform(pd_data_cleaned.loc[:, catg_feature_names])\n",
    "catg_feature_trans_names = get_name_and_levels(catg_transformer, catg_feature_names)\n",
    "num_features = pd_data_cleaned.loc[:, num_feature_names]\n",
    "date_features = pd_data_cleaned.loc[:, date_feature_names]\n",
    "# num_feature_trans_names = None\n",
    "\n",
    "X_trans = np.concatenate([catg_features_trans, num_features, date_features], axis=1)\n",
    "X_trans_names = catg_feature_trans_names + num_feature_names + date_feature_names\n",
    "y = pd_data_cleaned.loc[:,label_names].values"
   ]
  },
  {
   "cell_type": "markdown",
   "metadata": {},
   "source": [
    "<h3> Training a Decision Tree classifier </h3>"
   ]
  },
  {
   "cell_type": "code",
   "execution_count": 57,
   "metadata": {},
   "outputs": [
    {
     "name": "stdout",
     "output_type": "stream",
     "text": [
      "trained\n"
     ]
    }
   ],
   "source": [
    "# Training Decision Tree Classifier Model\n",
    "dt_model = DecisionTreeClassifier(\n",
    "    criterion='gini',\n",
    "    splitter='best',\n",
    "    max_depth=3,\n",
    "    min_samples_split=2,\n",
    "    min_samples_leaf=1,\n",
    "    min_weight_fraction_leaf=0.0,\n",
    "    max_features=None,\n",
    "    random_state=15,\n",
    "    max_leaf_nodes=None,\n",
    "    min_impurity_decrease=0.0,\n",
    "    min_impurity_split=None,\n",
    "    class_weight='balanced',\n",
    "    presort=False)\n",
    "\n",
    "X_trans_train, X_trans_test, y_train, y_test = train_test_split(X_trans, y, test_size=0.1, random_state=20) # random_state =20\n",
    "\n",
    "dt_model.fit(X_trans_train, y_train)\n",
    "print('trained')\n",
    "y_pred = dt_model.predict(X_trans_test)\n",
    "y_actual = y_test"
   ]
  },
  {
   "cell_type": "markdown",
   "metadata": {},
   "source": [
    "<h3>Analyzing the relative importance of features</h3>"
   ]
  },
  {
   "cell_type": "code",
   "execution_count": 79,
   "metadata": {},
   "outputs": [
    {
     "data": {
      "image/png": "[encoded data removed]",
      "text/plain": [
       "<Figure size 1728x576 with 1 Axes>"
      ]
     },
     "metadata": {
      "needs_background": "light"
     },
     "output_type": "display_data"
    }
   ],
   "source": [
    "# Plotting most important features\n",
    "num_top_features = 10\n",
    "feature_importance = dt_model.feature_importances_\n",
    "\n",
    "sorted_f_importance = sorted(zip(X_trans_names, feature_importance),\n",
    "                             key=lambda x:x[-1],\n",
    "                             reverse=True)\n",
    "fig, axe = plt.subplots(1,1)\n",
    "axe.plot([elm[-1] for elm in sorted_f_importance][:num_top_features], 'o')\n",
    "\n",
    "for (id, (f_name, f_importance)) in enumerate(sorted_f_importance[:num_top_features]):\n",
    "    axe.annotate('{}'.format(f_name),xy=(id, f_importance))\n",
    "axe.set_ylabel('Sensitivity index')\n",
    "fig = plt.gcf()\n",
    "fig.set_size_inches(24,8)"
   ]
  },
  {
   "cell_type": "markdown",
   "metadata": {},
   "source": [
    "<p>As indicated in the above figure, only a few features have sensitivity indices that are noticeably higher than the rest of features. Therefore, limiting the number of features to those that have higher sensitivity indices should not impact the performance of the decision tree classifier. One can simply comment out some of the features (see <i>'catg_feature_names', 'num_feature_names', 'date_feature_names'</i>) that indicated a small sensitivity index with respect to other features and re-train the model to see their impacts on model performance.\n",
    "</p>\n",
    "<p>Refer to the analytic dashboard, developed by <span style=\"color:blue;\">DataOrbs<sup>&copy</sup></span> for the evaluation of the impact of selecting different sets of features and model parameters on the performance of the classifiers.\n",
    "<p> "
   ]
  },
  {
   "cell_type": "markdown",
   "metadata": {},
   "source": [
    "<h3>Model prediction and performance metrics</h3>"
   ]
  },
  {
   "cell_type": "code",
   "execution_count": 67,
   "metadata": {},
   "outputs": [
    {
     "name": "stdout",
     "output_type": "stream",
     "text": [
      "Decision Tree Classifier Accuracy: 0.696969696969697\n"
     ]
    }
   ],
   "source": [
    "y_pred = dt_model.predict(X_trans_test)\n",
    "y_actual = y_test\n",
    "\n",
    "# Performance metric\n",
    "perf_metrics = classification_report(y_actual, y_pred, output_dict=True)\n",
    "print('Decision Tree Classifier Accuracy: {}'.format(perf_metrics.get('accuracy')))"
   ]
  },
  {
   "cell_type": "markdown",
   "metadata": {},
   "source": [
    "<h3>Training a Random Forest Classifier</h3>"
   ]
  },
  {
   "cell_type": "code",
   "execution_count": 65,
   "metadata": {},
   "outputs": [
    {
     "name": "stderr",
     "output_type": "stream",
     "text": [
      "/home/mk/anaconda3/envs/ml_models/lib/python3.7/site-packages/ipykernel_launcher.py:2: DataConversionWarning: A column-vector y was passed when a 1d array was expected. Please change the shape of y to (n_samples,), for example using ravel().\n",
      "  \n"
     ]
    },
    {
     "name": "stdout",
     "output_type": "stream",
     "text": [
      "RF accuracy: 0.8291245791245792\n"
     ]
    }
   ],
   "source": [
    "modelRFC = RandomForestClassifier(n_estimators=100,min_samples_split=10,criterion='gini')\n",
    "modelRFC.fit(X_trans_train, y_train)\n",
    "model_accurary = modelRFC.score(X_trans_test, y_test)\n",
    "print('RF accuracy: {}'.format(model_accurary))"
   ]
  }
 ],
 "metadata": {
  "kernelspec": {
   "display_name": "Python 3",
   "language": "python",
   "name": "python3"
  },
  "language_info": {
   "codemirror_mode": {
    "name": "ipython",
    "version": 3
   },
   "file_extension": ".py",
   "mimetype": "text/x-python",
   "name": "python",
   "nbconvert_exporter": "python",
   "pygments_lexer": "ipython3",
   "version": "3.7.3"
  }
 },
 "nbformat": 4,
 "nbformat_minor": 4
}
