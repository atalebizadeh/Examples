{
 "cells": [
  {
   "cell_type": "code",
   "execution_count": 1,
   "metadata": {},
   "outputs": [],
   "source": [
    "# Importing all the required libraries\n",
    "import pandas as pd\n",
    "import numpy as np\n",
    "import matplotlib.pyplot as plt\n",
    "import seaborn as sns\n",
    "\n",
    "from sklearn import preprocessing\n",
    "from sklearn.tree import DecisionTreeClassifier\n",
    "from sklearn.ensemble import RandomForestClassifier\n",
    "from sklearn.metrics import classification_report\n",
    "from sklearn.model_selection import train_test_split\n",
    "from sklearn import compose\n",
    "\n",
    "from plotnine import *\n",
    "\n",
    "%matplotlib inline"
   ]
  },
  {
   "cell_type": "code",
   "execution_count": 2,
   "metadata": {},
   "outputs": [],
   "source": [
    "#Loading our cleaned dataset\n",
    "df = pd.read_csv('data/cleaned_df_v2.csv')"
   ]
  },
  {
   "cell_type": "code",
   "execution_count": 3,
   "metadata": {},
   "outputs": [
    {
     "data": {
      "text/html": [
       "<div>\n",
       "<style scoped>\n",
       "    .dataframe tbody tr th:only-of-type {\n",
       "        vertical-align: middle;\n",
       "    }\n",
       "\n",
       "    .dataframe tbody tr th {\n",
       "        vertical-align: top;\n",
       "    }\n",
       "\n",
       "    .dataframe thead th {\n",
       "        text-align: right;\n",
       "    }\n",
       "</style>\n",
       "<table border=\"1\" class=\"dataframe\">\n",
       "  <thead>\n",
       "    <tr style=\"text-align: right;\">\n",
       "      <th></th>\n",
       "      <th>id</th>\n",
       "      <th>amount_tsh</th>\n",
       "      <th>date_recorded</th>\n",
       "      <th>funder</th>\n",
       "      <th>gps_height</th>\n",
       "      <th>longitude</th>\n",
       "      <th>latitude</th>\n",
       "      <th>basin</th>\n",
       "      <th>region</th>\n",
       "      <th>district_code</th>\n",
       "      <th>...</th>\n",
       "      <th>extraction_type_class</th>\n",
       "      <th>management</th>\n",
       "      <th>payment_type</th>\n",
       "      <th>water_quality</th>\n",
       "      <th>quantity</th>\n",
       "      <th>source</th>\n",
       "      <th>source_class</th>\n",
       "      <th>waterpoint_type</th>\n",
       "      <th>status_group</th>\n",
       "      <th>pump_age</th>\n",
       "    </tr>\n",
       "  </thead>\n",
       "  <tbody>\n",
       "    <tr>\n",
       "      <th>0</th>\n",
       "      <td>69572</td>\n",
       "      <td>6000.0</td>\n",
       "      <td>2011-03-14</td>\n",
       "      <td>roman</td>\n",
       "      <td>1390</td>\n",
       "      <td>34.938093</td>\n",
       "      <td>-9.856322</td>\n",
       "      <td>lake nyasa</td>\n",
       "      <td>iringa</td>\n",
       "      <td>5</td>\n",
       "      <td>...</td>\n",
       "      <td>gravity</td>\n",
       "      <td>vwc</td>\n",
       "      <td>annually</td>\n",
       "      <td>soft</td>\n",
       "      <td>enough</td>\n",
       "      <td>spring</td>\n",
       "      <td>groundwater</td>\n",
       "      <td>communal standpipe</td>\n",
       "      <td>functional</td>\n",
       "      <td>12.000000</td>\n",
       "    </tr>\n",
       "    <tr>\n",
       "      <th>1</th>\n",
       "      <td>8776</td>\n",
       "      <td>200.0</td>\n",
       "      <td>2013-03-06</td>\n",
       "      <td>grumeti</td>\n",
       "      <td>1399</td>\n",
       "      <td>34.698766</td>\n",
       "      <td>-2.147466</td>\n",
       "      <td>lake victoria</td>\n",
       "      <td>mara</td>\n",
       "      <td>2</td>\n",
       "      <td>...</td>\n",
       "      <td>gravity</td>\n",
       "      <td>wug</td>\n",
       "      <td>never pay</td>\n",
       "      <td>soft</td>\n",
       "      <td>insufficient</td>\n",
       "      <td>rainwater harvesting</td>\n",
       "      <td>surface</td>\n",
       "      <td>communal standpipe</td>\n",
       "      <td>functional</td>\n",
       "      <td>3.000000</td>\n",
       "    </tr>\n",
       "    <tr>\n",
       "      <th>2</th>\n",
       "      <td>34310</td>\n",
       "      <td>25.0</td>\n",
       "      <td>2013-02-25</td>\n",
       "      <td>lottery club</td>\n",
       "      <td>686</td>\n",
       "      <td>37.460664</td>\n",
       "      <td>-3.821329</td>\n",
       "      <td>pangani</td>\n",
       "      <td>manyara</td>\n",
       "      <td>4</td>\n",
       "      <td>...</td>\n",
       "      <td>gravity</td>\n",
       "      <td>vwc</td>\n",
       "      <td>per bucket</td>\n",
       "      <td>soft</td>\n",
       "      <td>enough</td>\n",
       "      <td>dam</td>\n",
       "      <td>surface</td>\n",
       "      <td>communal standpipe multiple</td>\n",
       "      <td>functional</td>\n",
       "      <td>4.000000</td>\n",
       "    </tr>\n",
       "    <tr>\n",
       "      <th>3</th>\n",
       "      <td>67743</td>\n",
       "      <td>50.0</td>\n",
       "      <td>2013-01-28</td>\n",
       "      <td>unicef</td>\n",
       "      <td>263</td>\n",
       "      <td>38.486161</td>\n",
       "      <td>-11.155298</td>\n",
       "      <td>ruvuma / southern coast</td>\n",
       "      <td>mtwara</td>\n",
       "      <td>63</td>\n",
       "      <td>...</td>\n",
       "      <td>submersible</td>\n",
       "      <td>vwc</td>\n",
       "      <td>never pay</td>\n",
       "      <td>soft</td>\n",
       "      <td>dry</td>\n",
       "      <td>machine dbh</td>\n",
       "      <td>groundwater</td>\n",
       "      <td>communal standpipe multiple</td>\n",
       "      <td>non functional</td>\n",
       "      <td>27.000000</td>\n",
       "    </tr>\n",
       "    <tr>\n",
       "      <th>4</th>\n",
       "      <td>19728</td>\n",
       "      <td>250.0</td>\n",
       "      <td>2011-07-13</td>\n",
       "      <td>action in a</td>\n",
       "      <td>0</td>\n",
       "      <td>31.130847</td>\n",
       "      <td>-1.825359</td>\n",
       "      <td>lake victoria</td>\n",
       "      <td>kagera</td>\n",
       "      <td>1</td>\n",
       "      <td>...</td>\n",
       "      <td>gravity</td>\n",
       "      <td>other</td>\n",
       "      <td>never pay</td>\n",
       "      <td>soft</td>\n",
       "      <td>seasonal</td>\n",
       "      <td>rainwater harvesting</td>\n",
       "      <td>surface</td>\n",
       "      <td>communal standpipe</td>\n",
       "      <td>functional</td>\n",
       "      <td>14.185314</td>\n",
       "    </tr>\n",
       "  </tbody>\n",
       "</table>\n",
       "<p>5 rows × 25 columns</p>\n",
       "</div>"
      ],
      "text/plain": [
       "      id  amount_tsh date_recorded        funder  gps_height  longitude  \\\n",
       "0  69572      6000.0    2011-03-14         roman        1390  34.938093   \n",
       "1   8776       200.0    2013-03-06       grumeti        1399  34.698766   \n",
       "2  34310        25.0    2013-02-25  lottery club         686  37.460664   \n",
       "3  67743        50.0    2013-01-28        unicef         263  38.486161   \n",
       "4  19728       250.0    2011-07-13   action in a           0  31.130847   \n",
       "\n",
       "    latitude                    basin   region  district_code  ...  \\\n",
       "0  -9.856322               lake nyasa   iringa              5  ...   \n",
       "1  -2.147466            lake victoria     mara              2  ...   \n",
       "2  -3.821329                  pangani  manyara              4  ...   \n",
       "3 -11.155298  ruvuma / southern coast   mtwara             63  ...   \n",
       "4  -1.825359            lake victoria   kagera              1  ...   \n",
       "\n",
       "  extraction_type_class  management payment_type  water_quality      quantity  \\\n",
       "0               gravity         vwc     annually           soft        enough   \n",
       "1               gravity         wug    never pay           soft  insufficient   \n",
       "2               gravity         vwc   per bucket           soft        enough   \n",
       "3           submersible         vwc    never pay           soft           dry   \n",
       "4               gravity       other    never pay           soft      seasonal   \n",
       "\n",
       "                 source source_class              waterpoint_type  \\\n",
       "0                spring  groundwater           communal standpipe   \n",
       "1  rainwater harvesting      surface           communal standpipe   \n",
       "2                   dam      surface  communal standpipe multiple   \n",
       "3           machine dbh  groundwater  communal standpipe multiple   \n",
       "4  rainwater harvesting      surface           communal standpipe   \n",
       "\n",
       "     status_group   pump_age  \n",
       "0      functional  12.000000  \n",
       "1      functional   3.000000  \n",
       "2      functional   4.000000  \n",
       "3  non functional  27.000000  \n",
       "4      functional  14.185314  \n",
       "\n",
       "[5 rows x 25 columns]"
      ]
     },
     "execution_count": 3,
     "metadata": {},
     "output_type": "execute_result"
    }
   ],
   "source": [
    "#df.isnull().sum()\n",
    "df.head()"
   ]
  },
  {
   "cell_type": "code",
   "execution_count": 4,
   "metadata": {},
   "outputs": [
    {
     "data": {
      "text/plain": [
       "['id',\n",
       " 'amount_tsh',\n",
       " 'gps_height',\n",
       " 'longitude',\n",
       " 'latitude',\n",
       " 'district_code',\n",
       " 'population',\n",
       " 'construction_year',\n",
       " 'pump_age']"
      ]
     },
     "execution_count": 4,
     "metadata": {},
     "output_type": "execute_result"
    }
   ],
   "source": [
    "numerics = ['int16', 'int32', 'int64', 'float16', 'float32', 'float64']\n",
    "list(df.select_dtypes(include=numerics))"
   ]
  },
  {
   "cell_type": "markdown",
   "metadata": {},
   "source": [
    "It could be useful to observe the distribution of a few of these variables. Here is a list of a few variables in train that you could view in this way:\n",
    "\n",
    "amount_tsh - Total static head (amount water available to water point)\n",
    "gps_height - Altitude of the well\n",
    "population - Population around the well\n",
    "construction_year - Year the water point was constructed"
   ]
  },
  {
   "cell_type": "code",
   "execution_count": 5,
   "metadata": {},
   "outputs": [],
   "source": [
    "from scipy.stats import norm\n",
    "from scipy.stats import t\n",
    "from numpy.random import seed"
   ]
  },
  {
   "cell_type": "code",
   "execution_count": 6,
   "metadata": {},
   "outputs": [
    {
     "data": {
      "text/plain": [
       "10.095682111741647"
      ]
     },
     "execution_count": 6,
     "metadata": {},
     "output_type": "execute_result"
    }
   ],
   "source": [
    "# Manually calculating the Standard Deviation\n",
    "diff = df.pump_age - np.mean(df.pump_age)\n",
    "diff_squared = diff **2\n",
    "v = (np.sum(diff_squared))/len(df.pump_age)\n",
    "\n",
    "np.sqrt(v)"
   ]
  },
  {
   "cell_type": "code",
   "execution_count": 7,
   "metadata": {},
   "outputs": [
    {
     "name": "stdout",
     "output_type": "stream",
     "text": [
      "Mean: 15.107587141478573\n"
     ]
    },
    {
     "data": {
      "text/plain": [
       "10.09568211174102"
      ]
     },
     "execution_count": 7,
     "metadata": {},
     "output_type": "execute_result"
    }
   ],
   "source": [
    "# Using the square root (np.sqrt()) of the variance (np.var()) to calculate the Standard Deviation\n",
    "print('Mean:', np.mean(df.pump_age))\n",
    "np.std(df.pump_age)"
   ]
  },
  {
   "cell_type": "code",
   "execution_count": 8,
   "metadata": {},
   "outputs": [
    {
     "name": "stdout",
     "output_type": "stream",
     "text": [
      "Mean: 15.107587141478573\n"
     ]
    },
    {
     "data": {
      "text/plain": [
       "10.09568211174102"
      ]
     },
     "execution_count": 8,
     "metadata": {},
     "output_type": "execute_result"
    }
   ],
   "source": [
    "print('Mean:', np.mean(df.pump_age))\n",
    "np.std(df.pump_age)"
   ]
  },
  {
   "cell_type": "code",
   "execution_count": 9,
   "metadata": {},
   "outputs": [],
   "source": [
    "def age_sampler(n):\n",
    "    return np.random.choice(df.pump_age, n)"
   ]
  },
  {
   "cell_type": "code",
   "execution_count": 10,
   "metadata": {},
   "outputs": [],
   "source": [
    "seed(47)\n",
    "age_sample1 = age_sampler(1000)"
   ]
  },
  {
   "cell_type": "code",
   "execution_count": 11,
   "metadata": {
    "scrolled": true
   },
   "outputs": [
    {
     "data": {
      "image/png": "[encoded data removed]",
      "text/plain": [
       "<Figure size 432x288 with 1 Axes>"
      ]
     },
     "metadata": {
      "needs_background": "light"
     },
     "output_type": "display_data"
    }
   ],
   "source": [
    "_ = plt.hist(age_sample1, bins=10)\n",
    "_ = plt.xlabel('Age')\n",
    "_ = plt.ylabel('Count')\n",
    "_ = plt.title('Distribution of Pump Age in sample size 10')"
   ]
  },
  {
   "cell_type": "code",
   "execution_count": 12,
   "metadata": {},
   "outputs": [
    {
     "data": {
      "text/plain": [
       "array([0.26712962, 0.00772793, 0.01315797, ..., 0.42682844, 0.42682844,\n",
       "       0.11094509])"
      ]
     },
     "execution_count": 12,
     "metadata": {},
     "output_type": "execute_result"
    }
   ],
   "source": [
    "norm.cdf(x=df.pump_age, loc=np.mean(df.pump_age), scale=5)"
   ]
  },
  {
   "cell_type": "code",
   "execution_count": 13,
   "metadata": {},
   "outputs": [
    {
     "data": {
      "text/plain": [
       "53.0"
      ]
     },
     "execution_count": 13,
     "metadata": {},
     "output_type": "execute_result"
    }
   ],
   "source": [
    "max(df.pump_age)"
   ]
  },
  {
   "cell_type": "code",
   "execution_count": 14,
   "metadata": {
    "scrolled": false
   },
   "outputs": [
    {
     "data": {
      "image/png": "[encoded data removed]",
      "text/plain": [
       "<Figure size 864x576 with 1 Axes>"
      ]
     },
     "metadata": {},
     "output_type": "display_data"
    }
   ],
   "source": [
    "sns.set()\n",
    "plt.figure(figsize=[12,8])\n",
    "plt.hist(df.pump_age, bins = 30, color='C4')\n",
    "plt.xlabel('Age')\n",
    "plt.ylabel('Count')\n",
    "plt.title('Tanzania Pump Age')\n",
    "plt.xticks(range(0,50,1), rotation = 'vertical')\n",
    "plt.show()"
   ]
  },
  {
   "cell_type": "code",
   "execution_count": 15,
   "metadata": {},
   "outputs": [
    {
     "name": "stdout",
     "output_type": "stream",
     "text": [
      "The mean of the pump age is 15.11 \n",
      "The standard deviation of the pump age is 10.1 \n"
     ]
    }
   ],
   "source": [
    "print('The mean of the pump age is {} '.format(round(np.mean(df.pump_age),2)))\n",
    "print('The standard deviation of the pump age is {} '.format(round(np.std(df.pump_age),2)))"
   ]
  },
  {
   "cell_type": "code",
   "execution_count": 16,
   "metadata": {},
   "outputs": [
    {
     "name": "stdout",
     "output_type": "stream",
     "text": [
      "The critical t value for one tailed 95% confidence interval is: 1.6448792804651238 \n"
     ]
    }
   ],
   "source": [
    "n = len(df.pump_age)\n",
    "dof = n - 1\n",
    "p = 0.95\n",
    "critical_t = t.ppf(p, dof)\n",
    "print('The critical t value for one tailed 95% confidence interval is: {} '.format(critical_t))"
   ]
  },
  {
   "cell_type": "code",
   "execution_count": 17,
   "metadata": {},
   "outputs": [
    {
     "name": "stdout",
     "output_type": "stream",
     "text": [
      "The Margin of error is: 0.06813597499444332 \n"
     ]
    }
   ],
   "source": [
    "# Standard Error of the Mean (a.k.a. the standard deviation of the sampling distribution of the sample mean!\n",
    "se = (np.std(df.pump_age)) / (np.sqrt(n))\n",
    "moe = critical_t * se # Margin of Error\n",
    "print('The Margin of error is: {} '.format(moe))"
   ]
  },
  {
   "cell_type": "code",
   "execution_count": 18,
   "metadata": {},
   "outputs": [
    {
     "data": {
      "text/plain": [
       "15.03945116648413"
      ]
     },
     "execution_count": 18,
     "metadata": {},
     "output_type": "execute_result"
    }
   ],
   "source": [
    "lower = (np.mean(df.pump_age)) - moe\n",
    "lower"
   ]
  },
  {
   "cell_type": "code",
   "execution_count": 19,
   "metadata": {},
   "outputs": [
    {
     "data": {
      "image/png": "[encoded data removed]",
      "text/plain": [
       "<Figure size 640x480 with 3 Axes>"
      ]
     },
     "metadata": {},
     "output_type": "display_data"
    },
    {
     "data": {
      "text/plain": [
       "<ggplot: (-9223371882941123152)>"
      ]
     },
     "execution_count": 19,
     "metadata": {},
     "output_type": "execute_result"
    }
   ],
   "source": [
    "(ggplot(df)\n",
    " + aes(x = 'construction_year')\n",
    " + geom_histogram(bins = 20)\n",
    " + facet_grid('~ status_group'))"
   ]
  },
  {
   "cell_type": "code",
   "execution_count": 20,
   "metadata": {
    "scrolled": false
   },
   "outputs": [
    {
     "data": {
      "image/png": "[encoded data removed]",
      "text/plain": [
       "<Figure size 640x480 with 1 Axes>"
      ]
     },
     "metadata": {},
     "output_type": "display_data"
    },
    {
     "data": {
      "text/plain": [
       "<ggplot: (-9223371882941096480)>"
      ]
     },
     "execution_count": 20,
     "metadata": {},
     "output_type": "execute_result"
    }
   ],
   "source": [
    "(ggplot(df)         # defining what data to use\n",
    " +aes(x='pump_age')    # defining what variable to use\n",
    " +geom_bar(size=5) # defining the type of plot to use\n",
    ")"
   ]
  },
  {
   "cell_type": "code",
   "execution_count": 21,
   "metadata": {
    "scrolled": true
   },
   "outputs": [],
   "source": [
    "#(ggplot(df, 'latitude < 0 & longitude > 0'), \n",
    "#        aes(x = latitude, y = longitude, color = status_group)) + geom_point(shape = 1)"
   ]
  },
  {
   "cell_type": "code",
   "execution_count": 22,
   "metadata": {},
   "outputs": [
    {
     "data": {
      "text/plain": [
       "15.038116714690265"
      ]
     },
     "execution_count": 22,
     "metadata": {},
     "output_type": "execute_result"
    }
   ],
   "source": [
    "np.random.seed(47)\n",
    "N_rep = 10000\n",
    "\n",
    "def bootstrap_replicate_1d(data, func):\n",
    "    return func(np.random.choice(data, size=len(data)))\n",
    "\n",
    "\n",
    "def draw_bs_reps(data, func, size=1):\n",
    "    \"\"\"Draw bootstrap replicates.\"\"\"\n",
    "\n",
    "    # Initialize array of replicates: bs_replicates\n",
    "    bs_replicates = np.empty(size)\n",
    "\n",
    "    # Generate replicates\n",
    "    for i in range(size):\n",
    "        bs_replicates[i] = bootstrap_replicate_1d(data, func)\n",
    "\n",
    "    return bs_replicates\n",
    "\n",
    "bs_replicates = draw_bs_reps(df.pump_age, np.mean, N_rep)\n",
    "# I think because we have a one sided test, we need to use 5 instead of the range between (2.5, 97.5)?\n",
    "conf_int = np.percentile(bs_replicates,(5)) \n",
    "conf_int"
   ]
  },
  {
   "cell_type": "code",
   "execution_count": 23,
   "metadata": {},
   "outputs": [],
   "source": [
    "functional_age = df.loc[df.status_group == 'functional', 'pump_age']\n",
    "nonfunctional_age = df.loc[df.status_group == 'non functional', 'pump_age']"
   ]
  },
  {
   "cell_type": "code",
   "execution_count": 24,
   "metadata": {},
   "outputs": [
    {
     "name": "stdout",
     "output_type": "stream",
     "text": [
      "std for functional_age: 9.022530323816179\n",
      "std for nonfunctional_age: 10.870162319077078\n"
     ]
    }
   ],
   "source": [
    "print('std for functional_age:' , np.std(functional_age, ddof=1))\n",
    "print('std for nonfunctional_age:' , np.std(nonfunctional_age, ddof=1))"
   ]
  },
  {
   "cell_type": "code",
   "execution_count": null,
   "metadata": {},
   "outputs": [],
   "source": [
    "np.random.seed(47)\n",
    "N_rep = 10000\n",
    "\n",
    "def std_diff(data1, data2):\n",
    "    return np.std(data1) - np.std(data2) \n",
    "\n",
    "def draw_bs_reps1(data1, data2, size):\n",
    "    # Initialize array of replicates: bs_replicates\n",
    "    bs_replicates = np.empty(size)\n",
    "    \n",
    "    # Generate replicates\n",
    "    for i in range(size):\n",
    "        dt1 = np.random.choice(data1, size=len(data1))\n",
    "        dt2 = np.random.choice(data2, size=len(data2))\n",
    "        bs_replicates[i] = std_diff(dt1, dt2)\n",
    "\n",
    "    return bs_replicates\n",
    "\n",
    "bs_replicates = draw_bs_reps1(functional_age, nonfunctional_age, N_rep)"
   ]
  },
  {
   "cell_type": "code",
   "execution_count": null,
   "metadata": {},
   "outputs": [],
   "source": [
    "conf_int = np.percentile(bs_replicates,(2.5, 97.5)) \n",
    "conf_int"
   ]
  },
  {
   "cell_type": "code",
   "execution_count": null,
   "metadata": {},
   "outputs": [],
   "source": [
    "plt.figure(figsize=(10,10))\n",
    "plt.hist(bs_replicates,bins=50, edgecolor ='black')\n",
    "plt.xlabel('Difference between the two standard deviations')\n",
    "plt.ylabel('Count')\n",
    "plt.axvline(conf_int[0],linestyle='--',color='r')\n",
    "plt.axvline(conf_int[1],linestyle='--',color='r')\n",
    "plt.show()"
   ]
  },
  {
   "cell_type": "code",
   "execution_count": null,
   "metadata": {},
   "outputs": [],
   "source": [
    "# Compute the difference of the means: mean_diff\n",
    "mean_diff = np.mean(functional_age) - np.mean(nonfunctional_age)\n",
    "\n",
    "# Compute mean of combined charges: combined_mean\n",
    "combined_mean = np.mean(np.concatenate((functional_age, nonfunctional_age)))\n",
    "\n",
    "# Shift the samples\n",
    "functional_age_shifted = functional_age - np.mean(functional_age) + combined_mean\n",
    "nonfunctional_age_shifted = nonfunctional_age - np.mean(nonfunctional_age) + combined_mean\n",
    "\n",
    "# Get bootstrap replicates of shifted data sets\n",
    "bs_replicates_functional_age = draw_bs_reps(functional_age_shifted, np.mean, 10000)\n",
    "bs_replicates_nonfunctional_age = draw_bs_reps(nonfunctional_age_shifted, np.mean, 10000)\n",
    "\n",
    "# Compute replicates of difference of means: bs_diff_replicates\n",
    "bs_diff_replicates = bs_replicates_functional_age - bs_replicates_nonfunctional_age\n",
    "\n",
    "# Compute the p-value\n",
    "p = np.sum(bs_diff_replicates >= mean_diff) / len(bs_diff_replicates)\n",
    "\n",
    "# Print p-value\n",
    "print('p =', p)"
   ]
  },
  {
   "cell_type": "code",
   "execution_count": null,
   "metadata": {},
   "outputs": [],
   "source": [
    "conf_int = np.percentile(bs_diff_replicates,(2.5, 97.5)) \n",
    "conf_int"
   ]
  },
  {
   "cell_type": "code",
   "execution_count": null,
   "metadata": {},
   "outputs": [],
   "source": [
    "# Plotting in histogram\n",
    "plt.figure(figsize=(10,10))\n",
    "plt.hist(bs_diff_replicates,bins=50, edgecolor ='black')\n",
    "plt.xlabel('Difference in means between insured and uninsured')\n",
    "plt.ylabel('Count')\n",
    "plt.axvline(conf_int[0],linestyle='--',color='r')\n",
    "plt.axvline(conf_int[1],linestyle='--',color='r')\n",
    "plt.show()"
   ]
  },
  {
   "cell_type": "code",
   "execution_count": null,
   "metadata": {},
   "outputs": [],
   "source": []
  }
 ],
 "metadata": {
  "kernelspec": {
   "display_name": "Python 3",
   "language": "python",
   "name": "python3"
  },
  "language_info": {
   "codemirror_mode": {
    "name": "ipython",
    "version": 3
   },
   "file_extension": ".py",
   "mimetype": "text/x-python",
   "name": "python",
   "nbconvert_exporter": "python",
   "pygments_lexer": "ipython3",
   "version": "3.7.7"
  }
 },
 "nbformat": 4,
 "nbformat_minor": 2
}
