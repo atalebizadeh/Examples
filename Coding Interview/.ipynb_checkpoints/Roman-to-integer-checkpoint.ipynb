{
 "cells": [
  {
   "cell_type": "markdown",
   "metadata": {},
   "source": [
    "### Coding Questions about Roman-to-Int and Int-to-Roman conversions"
   ]
  },
  {
   "cell_type": "code",
   "execution_count": 1,
   "metadata": {},
   "outputs": [],
   "source": [
    "def romanToInt(s):\n",
    "        \"\"\"\n",
    "        :type s: str\n",
    "        :rtype: int\n",
    "        \"\"\"\n",
    "        res = 0\n",
    "        roman = {\n",
    "            'I':1,\n",
    "            'IV':4,\n",
    "            'V':5,\n",
    "            'IX':9,\n",
    "            'X':10,\n",
    "            'XL':40,\n",
    "            'L':50,\n",
    "            'XC':90,\n",
    "            'C':100,\n",
    "            'CD':400,\n",
    "            'D':500,\n",
    "            'CM':900,\n",
    "            'M':1000\n",
    "        }\n",
    "        \n",
    "        i, end, start = 0, len(s)-1, 1\n",
    "        \n",
    "        while i <= end:\n",
    "            if i == end:\n",
    "                start = 0\n",
    "            num = roman.get(s[i:i+1+start])\n",
    "            if num:\n",
    "                res += num\n",
    "                i += 1 + start\n",
    "            else:\n",
    "                res += roman[s[i]]\n",
    "                i += 1\n",
    "\n",
    "        return res\n",
    "        \n",
    "#         while s not in ['IV', 'IX','XL', 'XC', 'CD', 'CM']:\n",
    "#             for ch in s:\n",
    "#                 if ch in roman.keys():\n",
    "#                     num.append(roman[ch])\n",
    "#             return sum(num)\n",
    "#         else:\n",
    "#             if s in roman.keys():\n",
    "#                 num.append(roman[s])                \n",
    "#             return sum(num)\n"
   ]
  },
  {
   "cell_type": "code",
   "execution_count": 2,
   "metadata": {},
   "outputs": [
    {
     "data": {
      "text/plain": [
       "1994"
      ]
     },
     "execution_count": 2,
     "metadata": {},
     "output_type": "execute_result"
    }
   ],
   "source": [
    "romanToInt(s=\"MCMXCIV\")"
   ]
  },
  {
   "cell_type": "code",
   "execution_count": 3,
   "metadata": {},
   "outputs": [
    {
     "data": {
      "text/plain": [
       "3"
      ]
     },
     "execution_count": 3,
     "metadata": {},
     "output_type": "execute_result"
    }
   ],
   "source": [
    "romanToInt(\"III\")"
   ]
  },
  {
   "cell_type": "code",
   "execution_count": 4,
   "metadata": {},
   "outputs": [],
   "source": [
    "def intToRoman(num):\n",
    "#initialize hashtable with order of numerals (including 8 to avoid index errors)\n",
    "    order = dict([(1,\"I\"), (2,\"V\"), (3,\"X\"), (4,\"L\"), (5,\"C\"), (6,\"D\"), (7,\"M\"), (8, \"\")])\n",
    "    #initialize index, tenths, fives, return value\n",
    "    i = 1\n",
    "    tenths = fives = 0\n",
    "    roman = \"\"\n",
    "    \n",
    "    #while we still have a number (we remove the tenths each iteration)\n",
    "    while num:\n",
    "        #check if current integer greater than 10\n",
    "        if num >= 10:\n",
    "            #check if int greater than 5\n",
    "            if num >= 5:\n",
    "                #find total number of fives remaining after modulus by 10\n",
    "                fives = num%10 // 5\n",
    "                #find total number of units remaining after subtracting fives\n",
    "                tenths = num%5\n",
    "            else:\n",
    "                #find total units\n",
    "                tenths = num%10-num//5\n",
    "        else:\n",
    "            #check if int greater than 5\n",
    "            if num >= 5:\n",
    "                #find total number of fives remaining after modulus by 10\n",
    "                fives = num%10 // 5\n",
    "                #find total number of units remaining after subtracting fives\n",
    "                tenths = num%5\n",
    "            else:\n",
    "                #find total units\n",
    "                tenths = num%10-num//5\n",
    "            \n",
    "\n",
    "        #add units first\n",
    "        roman += order[i] * tenths\n",
    "        #reset unit counter\n",
    "        tenths = 0                \n",
    "        #add fives second\n",
    "        roman += order[i+1] * fives\n",
    "        #reset fives counter\n",
    "        fives = 0                \n",
    "\n",
    "\n",
    "        #increase our index by 2 (to count for units and fives)\n",
    "        i += 2\n",
    "        #remove our units\n",
    "        num -= (num%10)\n",
    "        #move up one level of tenths\n",
    "        num = num//10\n",
    "        \n",
    "    #reverse our return value    \n",
    "    roman = roman[::-1]\n",
    "    \n",
    "    #replace fours and nines\n",
    "    roman = roman.replace(\"IIII\", \"IV\").replace(\"VIIII\", \"IX\").replace(\"VIV\", \"IX\")\n",
    "    roman = roman.replace(\"XXXX\", \"XL\").replace(\"LXXXX\", \"XC\").replace(\"LXL\", \"XC\")\n",
    "    roman = roman.replace(\"CCCC\", \"CD\").replace(\"DCCCC\", \"CM\").replace(\"DCD\", \"CM\")\n",
    "    \n",
    "    return roman"
   ]
  },
  {
   "cell_type": "code",
   "execution_count": 5,
   "metadata": {},
   "outputs": [
    {
     "data": {
      "text/plain": [
       "'IV'"
      ]
     },
     "execution_count": 5,
     "metadata": {},
     "output_type": "execute_result"
    }
   ],
   "source": [
    "intToRoman(4)"
   ]
  },
  {
   "cell_type": "code",
   "execution_count": null,
   "metadata": {},
   "outputs": [],
   "source": []
  }
 ],
 "metadata": {
  "kernelspec": {
   "display_name": "Python 3",
   "language": "python",
   "name": "python3"
  },
  "language_info": {
   "codemirror_mode": {
    "name": "ipython",
    "version": 3
   },
   "file_extension": ".py",
   "mimetype": "text/x-python",
   "name": "python",
   "nbconvert_exporter": "python",
   "pygments_lexer": "ipython3",
   "version": "3.7.7"
  }
 },
 "nbformat": 4,
 "nbformat_minor": 4
}
