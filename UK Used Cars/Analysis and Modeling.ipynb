{
 "cells": [
  {
   "cell_type": "code",
   "execution_count": null,
   "id": "21f3d626",
   "metadata": {},
   "outputs": [],
   "source": [
    "import pandas as pd\n",
    "import numpy as np\n",
    "import matplotlib.pyplot as plt\n",
    "import seaborn as sns\n",
    "import plotly.express as px\n",
    "\n",
    "from sklearn.preprocessing import LabelEncoder\n",
    "from sklearn.model_selection import train_test_split\n",
    "from sklearn.preprocessing import StandardScaler\n",
    "from sklearn.ensemble import GradientBoostingRegressor\n",
    "from sklearn.ensemble import RandomForestRegressor\n",
    "from sklearn.tree import DecisionTreeRegressor\n",
    "from sklearn.neighbors import KNeighborsRegressor\n",
    "from xgboost import XGBRegressor"
   ]
  },
  {
   "cell_type": "code",
   "execution_count": null,
   "id": "e482c12c",
   "metadata": {},
   "outputs": [],
   "source": [
    "df_bmw = pd.read_csv('./data/bmw.csv')"
   ]
  },
  {
   "cell_type": "code",
   "execution_count": null,
   "id": "c248582f",
   "metadata": {},
   "outputs": [],
   "source": [
    "df_bmw.head()"
   ]
  },
  {
   "cell_type": "code",
   "execution_count": null,
   "id": "a772d371",
   "metadata": {},
   "outputs": [],
   "source": [
    "df_bmw.groupby('transmission').size()"
   ]
  },
  {
   "cell_type": "code",
   "execution_count": null,
   "id": "8a73adbf",
   "metadata": {},
   "outputs": [],
   "source": [
    "plt.figure(figsize=(8,4))\n",
    "ax = sns.countplot(x='transmission', data=df_bmw)\n",
    "ax.set_xlabel('Transmission',fontsize=14)\n",
    "ax.set_ylabel('Count', fontsize=14)\n",
    "ax.set_title('Distribution of Transmission in BMW',fontsize=20, weight='bold')\n",
    "plt.xticks(fontsize =13)\n",
    "plt.yticks(fontsize =13)\n",
    "plt.show()"
   ]
  },
  {
   "cell_type": "code",
   "execution_count": null,
   "id": "ffee4bb1",
   "metadata": {},
   "outputs": [],
   "source": []
  }
 ],
 "metadata": {
  "kernelspec": {
   "display_name": "Python 3",
   "language": "python",
   "name": "python3"
  },
  "language_info": {
   "codemirror_mode": {
    "name": "ipython",
    "version": 3
   },
   "file_extension": ".py",
   "mimetype": "text/x-python",
   "name": "python",
   "nbconvert_exporter": "python",
   "pygments_lexer": "ipython3",
   "version": "3.7.11"
  }
 },
 "nbformat": 4,
 "nbformat_minor": 5
}
